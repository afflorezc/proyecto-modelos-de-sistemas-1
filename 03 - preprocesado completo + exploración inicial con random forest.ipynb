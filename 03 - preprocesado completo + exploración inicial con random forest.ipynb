{
  "nbformat": 4,
  "nbformat_minor": 0,
  "metadata": {
    "colab": {
      "provenance": []
    },
    "kernelspec": {
      "name": "python3",
      "display_name": "Python 3"
    },
    "language_info": {
      "name": "python"
    }
  },
  "cells": [
    {
      "cell_type": "markdown",
      "source": [
        "#Modelo de clasificación: Procesado completo + Random Forest"
      ],
      "metadata": {
        "id": "DfUbjBRvNidl"
      }
    },
    {
      "cell_type": "markdown",
      "source": [
        "Un primer acercamiento para la tarea de prediccion mediante un modelo de Random Forest. Se realiza un acercamiento experimental estableciendo unos parmétros adecuados y seleccionando el modelo al parecer más optimo, sin generar overfitting. Se realiza un procesamiento completo del dataset en el que el programa académico se categoriza en un área de conocimiento y se compara con el rendimiento que se obtiene frente a un procesamiento que ignora esta columna"
      ],
      "metadata": {
        "id": "lqm44-bVNqWD"
      }
    },
    {
      "cell_type": "markdown",
      "source": [
        "##Instrucciones Generales"
      ],
      "metadata": {
        "id": "7MjcZfLhPHt1"
      }
    },
    {
      "cell_type": "markdown",
      "source": [
        "Para poder ejecutar el procesamiento propuesto, es necesario cargar tanto los archivos de la competencia de kaggle como el archivo de categorización manual de programas por área de conocimiento.\n",
        "\n",
        "Para cargar los archivos de la competencia se puede:\n",
        "\n",
        "1. Descargar directamente desde la página de kaggle: https://www.kaggle.com/competitions/udea-ai-4-eng-20251-pruebas-saber-pro-colombia/data y luego cargar manualmente al entorno\n",
        "\n",
        "2. O ejecutar las celdas de carga directa utilizando una api-key propia de kaggle (archivo kaggle.json) que se debe cargar al entorno\n",
        "\n",
        "Finalmente se debe cargar el archivo Categorias.csv que se ha enlazado en el repositorio github de esta solución para poder aplicar el procesamiento"
      ],
      "metadata": {
        "id": "5r9-8P6uPH_8"
      }
    },
    {
      "cell_type": "markdown",
      "source": [
        "##Importaciones básicas"
      ],
      "metadata": {
        "id": "PbMFs62zN-gj"
      }
    },
    {
      "cell_type": "code",
      "source": [
        "import numpy as np\n",
        "import matplotlib.pyplot as plt\n",
        "from sklearn.ensemble import RandomForestClassifier\n",
        "import pandas as pd\n",
        "%matplotlib inline"
      ],
      "metadata": {
        "id": "ts2WsxmVOA2z"
      },
      "execution_count": null,
      "outputs": []
    },
    {
      "cell_type": "markdown",
      "source": [
        "##Preprocesado de los datos"
      ],
      "metadata": {
        "id": "vYyfPawvNy-U"
      }
    },
    {
      "cell_type": "markdown",
      "source": [
        "###Carga de los datos"
      ],
      "metadata": {
        "id": "dBwYB-IYN2-k"
      }
    },
    {
      "cell_type": "code",
      "source": [
        "!mkdir /root/.config/kaggle\n",
        "!mv kaggle.json /root/.config/kaggle/kaggle.json"
      ],
      "metadata": {
        "id": "k41D6ipJN6KT"
      },
      "execution_count": null,
      "outputs": []
    },
    {
      "cell_type": "code",
      "source": [
        "!chmod 600 /root/.config/kaggle/kaggle.json\n",
        "!kaggle competitions download -c udea-ai-4-eng-20251-pruebas-saber-pro-colombia\n",
        "!unzip udea-ai-4-eng-20251-pruebas-saber-pro-colombia.zip"
      ],
      "metadata": {
        "colab": {
          "base_uri": "https://localhost:8080/"
        },
        "id": "Frutv7pqOGMD",
        "outputId": "7f533832-b198-4e45-f3aa-ab020215be57"
      },
      "execution_count": null,
      "outputs": [
        {
          "output_type": "stream",
          "name": "stdout",
          "text": [
            "Downloading udea-ai-4-eng-20251-pruebas-saber-pro-colombia.zip to /content\n",
            "\r  0% 0.00/29.9M [00:00<?, ?B/s]\n",
            "\r100% 29.9M/29.9M [00:00<00:00, 934MB/s]\n",
            "Archive:  udea-ai-4-eng-20251-pruebas-saber-pro-colombia.zip\n",
            "  inflating: submission_example.csv  \n",
            "  inflating: test.csv                \n",
            "  inflating: train.csv               \n"
          ]
        }
      ]
    },
    {
      "cell_type": "markdown",
      "source": [
        "###Creacion dataframe y su transformación"
      ],
      "metadata": {
        "id": "2LPe7Td7N5Y7"
      }
    },
    {
      "cell_type": "markdown",
      "source": [
        "####Definición de las funciones de transformación"
      ],
      "metadata": {
        "id": "nNnY70HxOcjD"
      }
    },
    {
      "cell_type": "code",
      "source": [
        "## Transformar columnas de si o no\n",
        "def to_binary(df, columns):\n",
        "\n",
        "  df_copy = df.copy()\n",
        "\n",
        "  for col in columns:\n",
        "    not_null_column =  df_copy.loc[~df_copy[col].isna()]\n",
        "    not_null_column = ((not_null_column ==\"Si\") | (not_null_column == \"S\")).astype(int)\n",
        "    df_copy.loc[~df_copy[col].isna(), col] = not_null_column[col]\n",
        "\n",
        "  return df_copy\n",
        "\n",
        "## Transformación rangos categoricos con orden implicito\n",
        "def define_education_levels():\n",
        "  education = []\n",
        "  education.append(\"Ninguno\")\n",
        "  education.append(\"Primaria incompleta\")\n",
        "  education.append(\"Primaria completa\")\n",
        "  education.append(\"Secundaria (Bachillerato) incompleta\")\n",
        "  education.append(\"Secundaria (Bachillerato) completa\")\n",
        "  education.append(\"Técnica o tecnológica incompleta\")\n",
        "  education.append(\"No Aplica\")\n",
        "  education.append(\"No sabe\")\n",
        "  education.append(\"Técnica o tecnológica completa\")\n",
        "  education.append(\"Educación profesional incompleta\")\n",
        "  education.append(\"Educación profesional completa\")\n",
        "  education.append(\"Postgrado\")\n",
        "  return education\n",
        "\n",
        "def to_ordered_categories(df, column, values):\n",
        "\n",
        "  df_copy = df.copy()\n",
        "  keys = [int(i) for i in range(len(values))]\n",
        "  replacement = dict(zip(values, keys))\n",
        "  df_copy[column] = df_copy[column].replace(replacement)\n",
        "  return df_copy\n",
        "\n",
        "## Transformación one hot\n",
        "def to_onehot(x):\n",
        "    values = np.unique(x)\n",
        "    r = np.r_[[np.argwhere(i==values)[0][0] for i in x]]\n",
        "    return np.eye(len(values))[r].astype(int)\n",
        "\n",
        "def replace_columns_with_onehot(d, col):\n",
        "    k = to_onehot(d[col].values)\n",
        "    r = pd.DataFrame(k, columns=[\"%s_%d\"%(col, i) for i in range(k.shape[1])], index=d.index).join(d)\n",
        "    del(r[col])\n",
        "    return r\n",
        "\n",
        "def create_dictionary_programs(programs_df):\n",
        "  programs = {}\n",
        "  for program, cat in zip(programs_df['PROGRAMA   '], programs_df['CATEGORIA']):\n",
        "    if cat not in programs.keys():\n",
        "      programs[cat] = [program]\n",
        "    else:\n",
        "      programs[cat].append(program)\n",
        "\n",
        "  return programs\n",
        "\n",
        "def add_knowledge_area_cols(df, programs):\n",
        "  df_copy = df.copy()\n",
        "\n",
        "  for area in programs.keys():\n",
        "    column = pd.DataFrame(np.zeros(df_copy.shape[0]).astype(int), columns =[area])\n",
        "    df_copy = df_copy.join(column)\n",
        "\n",
        "  other_column = pd.DataFrame(np.zeros(df_copy.shape[0]).astype(int), columns =['OTRO'])\n",
        "  df_copy = df_copy.join(other_column)\n",
        "\n",
        "  return df_copy\n",
        "\n",
        "def categorize_programs(df, programs):\n",
        "  df_copy = df.copy()\n",
        "\n",
        "  def assign_area(program):\n",
        "    for area in programs.keys():\n",
        "      if program in programs[area]:\n",
        "        return area\n",
        "\n",
        "    return 'OTRO'\n",
        "\n",
        "  df_copy['AREA_TMP'] = df_copy['ESTU_PRGM_ACADEMICO'].apply(assign_area)\n",
        "\n",
        "  for area in programs.keys():\n",
        "      df_copy[area] = (df_copy['AREA_TMP'] == area).astype(int)\n",
        "\n",
        "  df_copy['OTRO'] = (df_copy['AREA_TMP'] == 'OTRO').astype(int)\n",
        "  df_copy = df_copy.drop(columns=['AREA_TMP'])\n",
        "\n",
        "  return df_copy\n",
        "\n",
        "def fill_nulls(df, columns):\n",
        "\n",
        "  df_copy = df.copy()\n",
        "  for col in columns:\n",
        "    p = []\n",
        "    n = df_copy[col].dropna().shape[0]\n",
        "    for val in df_copy[col].dropna().unique():\n",
        "      p.append(np.sum(df_copy[col]==val)/n)\n",
        "\n",
        "    total_nulls = df_copy[col].shape[0]-n\n",
        "    values = np.random.choice(df_copy[col].dropna().unique(),size=total_nulls, p=p)\n",
        "\n",
        "    df_copy.loc[df_copy[col].isna(),col] = values.astype(int)\n",
        "    df_copy[col] = df_copy[col].astype(int)\n",
        "\n",
        "  return df_copy\n"
      ],
      "metadata": {
        "id": "lsXNg6c5OiOT"
      },
      "execution_count": null,
      "outputs": []
    },
    {
      "cell_type": "code",
      "execution_count": null,
      "metadata": {
        "id": "irSW4cICFsGv"
      },
      "outputs": [],
      "source": [
        "def process_data_complete(df, programs_df):\n",
        "\n",
        "  df_copy = df.copy()\n",
        "  # drop ID column - repeated internet\n",
        "  del(df_copy['ID'])\n",
        "  df_copy = df_copy.drop(columns=['FAMI_TIENEINTERNET.1'])\n",
        "  # Cambio a binarias\n",
        "  columns = ['FAMI_TIENEINTERNET','FAMI_TIENELAVADORA','FAMI_TIENEAUTOMOVIL',\n",
        "           'FAMI_TIENECOMPUTADOR','ESTU_PAGOMATRICULAPROPIO', 'ESTU_PRIVADO_LIBERTAD']\n",
        "\n",
        "  df_copy = to_binary(df_copy, columns)\n",
        "  ## Categorias ordenadas\n",
        "  # Estrato\n",
        "  values = [\"Sin Estrato\", \"Estrato 1\", \"Estrato 2\", \"Estrato 3\", \"Estrato 4\", \"Estrato 5\", \"Estrato 6\"]\n",
        "  df_copy = to_ordered_categories(df_copy, \"FAMI_ESTRATOVIVIENDA\", values)\n",
        "  # Educacion padres\n",
        "  education = define_education_levels()\n",
        "  df_copy = to_ordered_categories(df_copy, \"FAMI_EDUCACIONPADRE\", education)\n",
        "  df_copy = to_ordered_categories(df_copy, \"FAMI_EDUCACIONMADRE\", education)\n",
        "  # horas trabajo\n",
        "  values = ['0', 'Menos de 10 horas', 'Entre 11 y 20 horas', 'Entre 21 y 30 horas', 'Más de 30 horas']\n",
        "  df_copy = to_ordered_categories(df_copy,\"ESTU_HORASSEMANATRABAJA\", values)\n",
        "  # valor matricula\n",
        "  values = ['No pagó matrícula', 'Menos de 500 mil', 'Entre 500 mil y menos de 1 millón', 'Entre 1 millón y menos de 2.5 millones',\n",
        "          'Entre 2.5 millones y menos de 4 millones', 'Entre 4 millones y menos de 5.5 millones',\n",
        "          'Entre 5.5 millones y menos de 7 millones','Más de 7 millones']\n",
        "\n",
        "  df_copy = to_ordered_categories(df_copy,\"ESTU_VALORMATRICULAUNIVERSIDAD\", values)\n",
        "  # periodo\n",
        "  values = [20183, 20184, 20194, 20195, 20196, 20202, 20203, 20212, 20213]\n",
        "  df_copy = to_ordered_categories(df_copy,\"PERIODO\", values)\n",
        "  # Variable respuesta\n",
        "  if 'RENDIMIENTO_GLOBAL' in df_copy.columns:\n",
        "    grades = [\"bajo\", \"medio-bajo\", \"medio-alto\", \"alto\"]\n",
        "    df_copy = to_ordered_categories(df_copy,\"RENDIMIENTO_GLOBAL\", grades)\n",
        "\n",
        "  # One hot  departamentos\n",
        "  df_copy = replace_columns_with_onehot(df_copy, 'ESTU_PRGM_DEPARTAMENTO')\n",
        "\n",
        "  # Areas de conocimiento - clasificación programas\n",
        "  # creacion diccionario\n",
        "  programs = create_dictionary_programs(programs_df)\n",
        "  # creacion columnas\n",
        "  df_copy = add_knowledge_area_cols(df_copy, programs)\n",
        "  # categorizacion\n",
        "  df_copy = categorize_programs(df_copy, programs)\n",
        "\n",
        "  # Relleno nulos\n",
        "  columns = ['FAMI_TIENEINTERNET','FAMI_TIENELAVADORA','FAMI_TIENEAUTOMOVIL','FAMI_TIENECOMPUTADOR',\n",
        "           'ESTU_PAGOMATRICULAPROPIO','ESTU_PRIVADO_LIBERTAD', 'FAMI_ESTRATOVIVIENDA','FAMI_EDUCACIONPADRE',\n",
        "           'FAMI_EDUCACIONMADRE', 'ESTU_HORASSEMANATRABAJA','ESTU_VALORMATRICULAUNIVERSIDAD']\n",
        "\n",
        "  df_copy = fill_nulls(df_copy, columns)\n",
        "\n",
        "  return df_copy"
      ]
    },
    {
      "cell_type": "code",
      "source": [
        "def process_data_incomplete(df):\n",
        "\n",
        "  try:\n",
        "    programs_df = pd.read_csv('Categorias.csv', sep=';',encoding='latin-1')\n",
        "  except:\n",
        "    print(\"No se ha cargado el archivo Categorias.csv al entorno\")\n",
        "\n",
        "  df_copy = df.copy()\n",
        "  # drop ID column - repeated internet - programa\n",
        "  del(df_copy['ID'])\n",
        "  df_copy = df_copy.drop(columns=['FAMI_TIENEINTERNET.1'])\n",
        "  df_copy = df_copy.drop(columns=['ESTU_PRGM_ACADEMICO'])\n",
        "  # Cambio a binarias\n",
        "  columns = ['FAMI_TIENEINTERNET','FAMI_TIENELAVADORA','FAMI_TIENEAUTOMOVIL',\n",
        "           'FAMI_TIENECOMPUTADOR','ESTU_PAGOMATRICULAPROPIO', 'ESTU_PRIVADO_LIBERTAD']\n",
        "\n",
        "  df_copy = to_binary(df_copy, columns)\n",
        "  ## Categorias ordenadas\n",
        "  # Estrato\n",
        "  values = [\"Sin Estrato\", \"Estrato 1\", \"Estrato 2\", \"Estrato 3\", \"Estrato 4\", \"Estrato 5\", \"Estrato 6\"]\n",
        "  df_copy = to_ordered_categories(df_copy, \"FAMI_ESTRATOVIVIENDA\", values)\n",
        "  # Educacion padres\n",
        "  education = define_education_levels()\n",
        "  df_copy = to_ordered_categories(df_copy, \"FAMI_EDUCACIONPADRE\", education)\n",
        "  df_copy = to_ordered_categories(df_copy, \"FAMI_EDUCACIONMADRE\", education)\n",
        "  # horas trabajo\n",
        "  values = ['0', 'Menos de 10 horas', 'Entre 11 y 20 horas', 'Entre 21 y 30 horas', 'Más de 30 horas']\n",
        "  df_copy = to_ordered_categories(df_copy,\"ESTU_HORASSEMANATRABAJA\", values)\n",
        "  # valor matricula\n",
        "  values = ['No pagó matrícula', 'Menos de 500 mil', 'Entre 500 mil y menos de 1 millón', 'Entre 1 millón y menos de 2.5 millones',\n",
        "          'Entre 2.5 millones y menos de 4 millones', 'Entre 4 millones y menos de 5.5 millones',\n",
        "          'Entre 5.5 millones y menos de 7 millones','Más de 7 millones']\n",
        "\n",
        "  df_copy = to_ordered_categories(df_copy,\"ESTU_VALORMATRICULAUNIVERSIDAD\", values)\n",
        "  # periodo\n",
        "  values = [20183, 20184, 20194, 20195, 20196, 20202, 20203, 20212, 20213]\n",
        "  df_copy = to_ordered_categories(df_copy,\"PERIODO\", values)\n",
        "  # Variable respuesta\n",
        "  if 'RENDIMIENTO_GLOBAL' in df_copy.columns:\n",
        "    grades = [\"bajo\", \"medio-bajo\", \"medio-alto\", \"alto\"]\n",
        "    df_copy = to_ordered_categories(df_copy,\"RENDIMIENTO_GLOBAL\", grades)\n",
        "\n",
        "  # One hot  departamentos\n",
        "  df_copy = replace_columns_with_onehot(df_copy, 'ESTU_PRGM_DEPARTAMENTO')\n",
        "\n",
        "  # Relleno nulos\n",
        "  columns = ['FAMI_TIENEINTERNET','FAMI_TIENELAVADORA','FAMI_TIENEAUTOMOVIL','FAMI_TIENECOMPUTADOR',\n",
        "           'ESTU_PAGOMATRICULAPROPIO','ESTU_PRIVADO_LIBERTAD', 'FAMI_ESTRATOVIVIENDA','FAMI_EDUCACIONPADRE',\n",
        "           'FAMI_EDUCACIONMADRE', 'ESTU_HORASSEMANATRABAJA','ESTU_VALORMATRICULAUNIVERSIDAD']\n",
        "\n",
        "  df_copy = fill_nulls(df_copy, columns)\n",
        "\n",
        "  return df_copy"
      ],
      "metadata": {
        "id": "8g0t1-1sLUvf"
      },
      "execution_count": null,
      "outputs": []
    },
    {
      "cell_type": "markdown",
      "source": [
        "####Dataframe resultante"
      ],
      "metadata": {
        "id": "YR7rblhLOk_T"
      }
    },
    {
      "cell_type": "code",
      "source": [
        "try:\n",
        "  df = pd.read_csv(\"train.csv\")\n",
        "except:\n",
        "  print(\"No se ha cargado el archivo train.csv al entorno\")"
      ],
      "metadata": {
        "id": "2haNF6STCptB"
      },
      "execution_count": null,
      "outputs": []
    },
    {
      "cell_type": "code",
      "source": [
        "try:\n",
        "    programs_df = pd.read_csv('Categorias.csv', sep=';',encoding='latin-1')\n",
        "    programs_df = programs_df.sample(frac=0.70, random_state=42)\n",
        "    df = process_data_complete(df, programs_df)\n",
        "    print(df.shape)\n",
        "except:\n",
        "    print(\"No se ha cargado el archivo Categorias.csv al entorno\")"
      ],
      "metadata": {
        "colab": {
          "base_uri": "https://localhost:8080/"
        },
        "id": "a2uSaGYaOlOy",
        "outputId": "0eacd357-451f-4478-dcfd-40eb8e3ad939"
      },
      "execution_count": null,
      "outputs": [
        {
          "output_type": "stream",
          "name": "stderr",
          "text": [
            "/tmp/ipython-input-4-124035498.py:35: FutureWarning: Downcasting behavior in `replace` is deprecated and will be removed in a future version. To retain the old behavior, explicitly call `result.infer_objects(copy=False)`. To opt-in to the future behavior, set `pd.set_option('future.no_silent_downcasting', True)`\n",
            "  df_copy[column] = df_copy[column].replace(replacement)\n"
          ]
        },
        {
          "output_type": "stream",
          "name": "stdout",
          "text": [
            "(692500, 59)\n"
          ]
        }
      ]
    },
    {
      "cell_type": "code",
      "source": [
        "df_incomplete = pd.read_csv(\"train.csv\")\n",
        "df_incomplete = process_data_incomplete(df_incomplete)\n",
        "print(df_incomplete.shape)"
      ],
      "metadata": {
        "colab": {
          "base_uri": "https://localhost:8080/"
        },
        "id": "Xpv4PgxXL9iE",
        "outputId": "f96b609a-6984-4d0c-85a1-1d6e71fed451"
      },
      "execution_count": null,
      "outputs": [
        {
          "output_type": "stream",
          "name": "stderr",
          "text": [
            "/tmp/ipython-input-4-124035498.py:35: FutureWarning: Downcasting behavior in `replace` is deprecated and will be removed in a future version. To retain the old behavior, explicitly call `result.infer_objects(copy=False)`. To opt-in to the future behavior, set `pd.set_option('future.no_silent_downcasting', True)`\n",
            "  df_copy[column] = df_copy[column].replace(replacement)\n"
          ]
        },
        {
          "output_type": "stream",
          "name": "stdout",
          "text": [
            "(692500, 48)\n"
          ]
        }
      ]
    },
    {
      "cell_type": "markdown",
      "source": [
        "###Separación de los datos"
      ],
      "metadata": {
        "id": "hVYPB3SdSlzq"
      }
    },
    {
      "cell_type": "code",
      "source": [
        "X = df.drop(columns=['RENDIMIENTO_GLOBAL', 'ESTU_PRGM_ACADEMICO'])\n",
        "y = df['RENDIMIENTO_GLOBAL']\n",
        "print(X.shape)\n",
        "print(y.shape)"
      ],
      "metadata": {
        "colab": {
          "base_uri": "https://localhost:8080/"
        },
        "id": "xeWIN52cSsLh",
        "outputId": "59260566-415f-4c19-f7db-8e0f7cc9690f"
      },
      "execution_count": null,
      "outputs": [
        {
          "output_type": "stream",
          "name": "stdout",
          "text": [
            "(692500, 57)\n",
            "(692500,)\n"
          ]
        }
      ]
    },
    {
      "cell_type": "markdown",
      "source": [
        "##Creación y evaluacion del modelo"
      ],
      "metadata": {
        "id": "csB8PsImPB9D"
      }
    },
    {
      "cell_type": "markdown",
      "source": [
        "###Split de los datos train: 70% - test: 30%"
      ],
      "metadata": {
        "id": "nTwVvCFTPDrb"
      }
    },
    {
      "cell_type": "code",
      "source": [
        "from sklearn.model_selection import train_test_split\n",
        "Xtr, Xts, ytr, yts = train_test_split(X,y, test_size=0.3)"
      ],
      "metadata": {
        "id": "hZlM5bYPPD77"
      },
      "execution_count": null,
      "outputs": []
    },
    {
      "cell_type": "markdown",
      "source": [
        "###Modelo y calibración"
      ],
      "metadata": {
        "id": "YuCUpnLtUYrC"
      }
    },
    {
      "cell_type": "code",
      "source": [
        "estimators = [1, 2, 5, 8, 10, 20, 50]\n",
        "depths = [2, 5, 8, 10, 12]\n",
        "\n",
        "max_acc = 0\n",
        "n_estimators = 0\n",
        "max_depth = 0\n",
        "\n",
        "for i in estimators:\n",
        "  for j in depths:\n",
        "\n",
        "    rf = RandomForestClassifier(n_estimators=i, max_depth=j)\n",
        "    rf.fit(Xtr,ytr)\n",
        "    acc_tr = rf.score(Xtr,ytr)\n",
        "    acc_ts = rf.score(Xts,yts)\n",
        "\n",
        "    if acc_ts > max_acc:\n",
        "      max_acc = acc_ts\n",
        "      n_estimators = i\n",
        "      max_depth = j\n",
        "\n",
        "    print (f\"model with {i} estimators with {j} max depth, train accuracy: {acc_tr:6f}, test accuracy: {acc_ts:6f}\")\n"
      ],
      "metadata": {
        "colab": {
          "base_uri": "https://localhost:8080/"
        },
        "id": "S3uhqHQMUYYK",
        "outputId": "0d4dd479-56fc-41bc-f3db-6cb3518fc781"
      },
      "execution_count": null,
      "outputs": [
        {
          "output_type": "stream",
          "name": "stdout",
          "text": [
            "model with 1 estimators with 2 max depth, train accuracy: 0.284130, test accuracy: 0.282325\n",
            "model with 1 estimators with 5 max depth, train accuracy: 0.335204, test accuracy: 0.332515\n",
            "model with 1 estimators with 8 max depth, train accuracy: 0.370504, test accuracy: 0.367422\n",
            "model with 1 estimators with 10 max depth, train accuracy: 0.377522, test accuracy: 0.372072\n",
            "model with 1 estimators with 12 max depth, train accuracy: 0.390191, test accuracy: 0.376890\n",
            "model with 2 estimators with 2 max depth, train accuracy: 0.341999, test accuracy: 0.339620\n",
            "model with 2 estimators with 5 max depth, train accuracy: 0.365603, test accuracy: 0.364221\n",
            "model with 2 estimators with 8 max depth, train accuracy: 0.375076, test accuracy: 0.372452\n",
            "model with 2 estimators with 10 max depth, train accuracy: 0.389147, test accuracy: 0.380626\n",
            "model with 2 estimators with 12 max depth, train accuracy: 0.391988, test accuracy: 0.375591\n",
            "model with 5 estimators with 2 max depth, train accuracy: 0.353366, test accuracy: 0.352058\n",
            "model with 5 estimators with 5 max depth, train accuracy: 0.375429, test accuracy: 0.374282\n",
            "model with 5 estimators with 8 max depth, train accuracy: 0.390570, test accuracy: 0.386609\n",
            "model with 5 estimators with 10 max depth, train accuracy: 0.400188, test accuracy: 0.389242\n",
            "model with 5 estimators with 12 max depth, train accuracy: 0.413442, test accuracy: 0.391995\n",
            "model with 8 estimators with 2 max depth, train accuracy: 0.358189, test accuracy: 0.355124\n",
            "model with 8 estimators with 5 max depth, train accuracy: 0.378255, test accuracy: 0.377723\n",
            "model with 8 estimators with 8 max depth, train accuracy: 0.390102, test accuracy: 0.385521\n",
            "model with 8 estimators with 10 max depth, train accuracy: 0.401595, test accuracy: 0.390031\n",
            "model with 8 estimators with 12 max depth, train accuracy: 0.422653, test accuracy: 0.396833\n",
            "model with 10 estimators with 2 max depth, train accuracy: 0.356701, test accuracy: 0.355403\n",
            "model with 10 estimators with 5 max depth, train accuracy: 0.374391, test accuracy: 0.373747\n",
            "model with 10 estimators with 8 max depth, train accuracy: 0.387565, test accuracy: 0.383374\n",
            "model with 10 estimators with 10 max depth, train accuracy: 0.405768, test accuracy: 0.394811\n",
            "model with 10 estimators with 12 max depth, train accuracy: 0.424786, test accuracy: 0.397247\n",
            "model with 20 estimators with 2 max depth, train accuracy: 0.356404, test accuracy: 0.354412\n",
            "model with 20 estimators with 5 max depth, train accuracy: 0.379408, test accuracy: 0.378354\n",
            "model with 20 estimators with 8 max depth, train accuracy: 0.394903, test accuracy: 0.390286\n",
            "model with 20 estimators with 10 max depth, train accuracy: 0.407878, test accuracy: 0.395384\n",
            "model with 20 estimators with 12 max depth, train accuracy: 0.431195, test accuracy: 0.399721\n",
            "model with 50 estimators with 2 max depth, train accuracy: 0.363121, test accuracy: 0.360655\n",
            "model with 50 estimators with 5 max depth, train accuracy: 0.379684, test accuracy: 0.378233\n",
            "model with 50 estimators with 8 max depth, train accuracy: 0.394938, test accuracy: 0.390647\n",
            "model with 50 estimators with 10 max depth, train accuracy: 0.409411, test accuracy: 0.396669\n",
            "model with 50 estimators with 12 max depth, train accuracy: 0.433155, test accuracy: 0.400048\n"
          ]
        }
      ]
    },
    {
      "cell_type": "code",
      "source": [
        "print(f\"best model with {n_estimators} estimators with {max_depth} max depth\")"
      ],
      "metadata": {
        "colab": {
          "base_uri": "https://localhost:8080/"
        },
        "id": "wKngIgxwFEvP",
        "outputId": "ed3c684b-0279-48b3-c970-025d8662feb9"
      },
      "execution_count": null,
      "outputs": [
        {
          "output_type": "stream",
          "name": "stdout",
          "text": [
            "best model with 50 estimators with 12 max depth\n"
          ]
        }
      ]
    },
    {
      "cell_type": "markdown",
      "source": [
        "El uso de 50 estimadores pero con una profundidad máxima de 10 parece ser una opción más acertada pues a mayor profundidad parece que empieza a presentarse sobre ajuste. Se prueba si el uso de más estimadores con esta profundidad mantiene un buen balance entre el desempeño de entrenamiento y de test"
      ],
      "metadata": {
        "id": "vSc0NBRfHY5e"
      }
    },
    {
      "cell_type": "code",
      "source": [
        "rf = RandomForestClassifier(n_estimators=100, max_depth=10)\n",
        "rf.fit(Xtr,ytr)\n",
        "acc_tr = rf.score(Xtr,ytr)\n",
        "acc_ts = rf.score(Xts,yts)\n",
        "print (f\"train accuracy: {acc_tr:6f}, test accuracy: {acc_ts:6f}\")"
      ],
      "metadata": {
        "colab": {
          "base_uri": "https://localhost:8080/"
        },
        "id": "gnSyAANPHjGm",
        "outputId": "03f032b5-48a9-441a-a972-72b0dfc29e1c"
      },
      "execution_count": null,
      "outputs": [
        {
          "output_type": "stream",
          "name": "stdout",
          "text": [
            "train accuracy: 0.408588, test accuracy: 0.396106\n"
          ]
        }
      ]
    },
    {
      "cell_type": "markdown",
      "source": [
        "Comparando los diferentes resultados es mejor un modelo con 50 estimadores"
      ],
      "metadata": {
        "id": "uUzFcmmBJNpG"
      }
    },
    {
      "cell_type": "markdown",
      "source": [
        "###Validación cruzada"
      ],
      "metadata": {
        "id": "FD_JsHwuFpoH"
      }
    },
    {
      "cell_type": "code",
      "source": [
        "def bootstrap_score(X, y, test_size, iterations=5, n_estimators=50):\n",
        "  trscores, tsscores = [], []\n",
        "  for _ in range(iterations):\n",
        "    Xtr, Xts, ytr, yts = train_test_split(X,y, test_size=test_size)\n",
        "    rf = RandomForestClassifier(n_estimators=n_estimators, max_depth=10)\n",
        "    rf.fit(Xtr,ytr)\n",
        "    trscores.append(rf.score(Xtr, ytr))\n",
        "    tsscores.append(rf.score(Xts, yts))\n",
        "\n",
        "  return (np.mean(trscores), np.std(trscores)), (np.mean(tsscores), np.std(tsscores))\n",
        "\n",
        "def evaluate_model(df, test_size, n_estimators=50):\n",
        "  sample_sizes = [int(i*df.shape[0]) for i in np.linspace(0.2, 1, 5)]\n",
        "  tr_scores, ts_scores = [], []\n",
        "\n",
        "  for sample_size in sample_sizes:\n",
        "    X = df.sample(sample_size)\n",
        "    y = X['RENDIMIENTO_GLOBAL']\n",
        "    X = X.drop(columns=['RENDIMIENTO_GLOBAL', 'ESTU_PRGM_ACADEMICO'])\n",
        "    tr_sc, ts_sc = bootstrap_score(X, y, test_size, iterations=3, n_estimators=n_estimators)\n",
        "    tr_scores.append(tr_sc)\n",
        "    ts_scores.append(ts_sc)\n",
        "\n",
        "  return (tr_scores, ts_scores)\n",
        "\n",
        "def plot_learning_curve(title, train_scores_mean, train_scores_std,\n",
        "                        test_scores_mean, test_scores_std, ylim=None,\n",
        "                        train_sizes=np.linspace(.2, 1.0, 5)):\n",
        "\n",
        "    from matplotlib import pyplot as plt\n",
        "\n",
        "    plt.title(title)\n",
        "    if ylim is not None:\n",
        "        plt.ylim(*ylim)\n",
        "    plt.xlabel(\"Training samples\")\n",
        "    plt.ylabel(\"Score\")\n",
        "\n",
        "    plt.grid()\n",
        "\n",
        "    plt.fill_between(train_sizes, train_scores_mean - train_scores_std,\n",
        "                     train_scores_mean + train_scores_std, alpha=0.1,\n",
        "                     color=\"r\")\n",
        "    plt.fill_between(train_sizes, test_scores_mean - test_scores_std,\n",
        "                     test_scores_mean + test_scores_std, alpha=0.1, color=\"g\")\n",
        "    plt.plot(train_sizes, train_scores_mean, 'o-', color=\"r\",\n",
        "             label=\"train score\")\n",
        "    plt.plot(train_sizes, test_scores_mean, 'o-', color=\"g\",\n",
        "             label=\"test score\")\n",
        "\n",
        "    plt.legend(loc=\"best\")\n",
        "\n",
        "def compute_and_plot_learning_curve(test_size, n_estimators=50, title=\"Random Forest\"):\n",
        "\n",
        "    learn_curve_data = evaluate_model(df, 0.3, n_estimators)\n",
        "    tr_means = np.array([learn_curve_data[0][i][0] for i in range(len(learn_curve_data[0]))])\n",
        "    tr_stds = np.array([learn_curve_data[0][i][1] for i in range(len(learn_curve_data[0]))])\n",
        "    ts_means = np.array([learn_curve_data[1][i][0] for i in range(len(learn_curve_data[1]))])\n",
        "    ts_stds = np.array([learn_curve_data[1][i][1] for i in range(len(learn_curve_data[1]))])\n",
        "\n",
        "    sample_sizes = [int(i*df.shape[0]) for i in np.linspace(0.2, 1, 5)]\n",
        "\n",
        "    plot_learning_curve(title, tr_means, tr_stds, ts_means, ts_stds, train_sizes=sample_sizes)"
      ],
      "metadata": {
        "id": "pEDer-y0FvxG"
      },
      "execution_count": null,
      "outputs": []
    },
    {
      "cell_type": "code",
      "source": [
        "tr_sc, ts_sc = bootstrap_score(X, y, 0.3)\n",
        "print(f\"Train accuracy {tr_sc[0]:6f} ± {tr_sc[1]:6f}, test accuracy: {ts_sc[0]:6f} ± {ts_sc[1]:6f}\")"
      ],
      "metadata": {
        "colab": {
          "base_uri": "https://localhost:8080/"
        },
        "id": "YYFeTiJVNxKu",
        "outputId": "6c19aff0-c40b-4be5-9f0a-39cd1b673986"
      },
      "execution_count": null,
      "outputs": [
        {
          "output_type": "stream",
          "name": "stdout",
          "text": [
            "Train accuracy 0.408785 ± 0.001120, test accuracy: 0.396523 ± 0.000780\n"
          ]
        }
      ]
    },
    {
      "cell_type": "code",
      "source": [
        "compute_and_plot_learning_curve(0.30)"
      ],
      "metadata": {
        "colab": {
          "base_uri": "https://localhost:8080/",
          "height": 472
        },
        "id": "4awm2pYqFwbP",
        "outputId": "88275dea-62ac-4b16-bf71-159923f29223"
      },
      "execution_count": null,
      "outputs": [
        {
          "output_type": "display_data",
          "data": {
            "text/plain": [
              "<Figure size 640x480 with 1 Axes>"
            ],
            "image/png": "[encoded data removed]"
          },
          "metadata": {}
        }
      ]
    },
    {
      "cell_type": "code",
      "source": [
        "compute_and_plot_learning_curve(0.30, n_estimators=20)"
      ],
      "metadata": {
        "colab": {
          "base_uri": "https://localhost:8080/",
          "height": 472
        },
        "id": "EusuOCRQYsNp",
        "outputId": "db01242d-a3a2-4f2e-c165-ee130c1e0586"
      },
      "execution_count": null,
      "outputs": [
        {
          "output_type": "display_data",
          "data": {
            "text/plain": [
              "<Figure size 640x480 with 1 Axes>"
            ],
            "image/png": "[encoded data removed]"
          },
          "metadata": {}
        }
      ]
    },
    {
      "cell_type": "code",
      "source": [
        "compute_and_plot_learning_curve(0.30, n_estimators=10)"
      ],
      "metadata": {
        "colab": {
          "base_uri": "https://localhost:8080/",
          "height": 472
        },
        "id": "pqS92B67dWVX",
        "outputId": "0f352bfe-4b46-4688-b4f6-2194d893ac75"
      },
      "execution_count": null,
      "outputs": [
        {
          "output_type": "display_data",
          "data": {
            "text/plain": [
              "<Figure size 640x480 with 1 Axes>"
            ],
            "image/png": "[encoded data removed]"
          },
          "metadata": {}
        }
      ]
    },
    {
      "cell_type": "markdown",
      "source": [
        "Aun con menos estimadores, las curvas de aprendizaje tienden a ser similares y no se alcanza la convergencia en rendimiento. Se elige el modelo con 50 estimadores por ser el que ofrece mejor porcentaje de acierto"
      ],
      "metadata": {
        "id": "iyiInhWYd-e_"
      }
    },
    {
      "cell_type": "markdown",
      "source": [
        "###Modelo sobre procesado incompleto"
      ],
      "metadata": {
        "id": "7JNNg5SQMHhQ"
      }
    },
    {
      "cell_type": "code",
      "source": [
        "X_inc = df_incomplete.drop(columns=['RENDIMIENTO_GLOBAL'])\n",
        "y_inc = df_incomplete['RENDIMIENTO_GLOBAL']\n",
        "print(X.shape)"
      ],
      "metadata": {
        "colab": {
          "base_uri": "https://localhost:8080/"
        },
        "id": "HezhU9MtMMY9",
        "outputId": "f1bd5416-c776-40fc-869c-60770517e19b"
      },
      "execution_count": null,
      "outputs": [
        {
          "output_type": "stream",
          "name": "stdout",
          "text": [
            "(692500, 57)\n"
          ]
        }
      ]
    },
    {
      "cell_type": "code",
      "source": [
        "Xtr_in, Xts_in, ytr_in, yts_in = train_test_split(X_inc,y_inc, test_size=0.3)"
      ],
      "metadata": {
        "id": "dPEuLJHnMbJO"
      },
      "execution_count": null,
      "outputs": []
    },
    {
      "cell_type": "code",
      "source": [
        "rf = RandomForestClassifier(n_estimators=50, max_depth=10)\n",
        "rf.fit(Xtr_in,ytr_in)\n",
        "acc_tr = rf.score(Xtr_in,ytr_in)\n",
        "acc_ts = rf.score(Xts_in,yts_in)\n",
        "print (f\"train accuracy: {acc_tr:6f}, test accuracy: {acc_ts:6f}\")"
      ],
      "metadata": {
        "colab": {
          "base_uri": "https://localhost:8080/"
        },
        "id": "15UIjcYUMjoO",
        "outputId": "d36598ba-71d8-4cc0-da8e-2d4ab4d4c4d2"
      },
      "execution_count": null,
      "outputs": [
        {
          "output_type": "stream",
          "name": "stdout",
          "text": [
            "train accuracy: 0.403020, test accuracy: 0.390917\n"
          ]
        }
      ]
    },
    {
      "cell_type": "code",
      "source": [
        "tr_sc, ts_sc = bootstrap_score(X_inc, y_inc, 0.3)\n",
        "print(f\"Train accuracy {tr_sc[0]:6f} ± {tr_sc[1]:6f}, test accuracy: {ts_sc[0]:6f} ± {ts_sc[1]:6f}\")"
      ],
      "metadata": {
        "colab": {
          "base_uri": "https://localhost:8080/"
        },
        "id": "UP4sZrTyS9fb",
        "outputId": "746a72fe-1b0d-4995-e49a-3376cd4f109c"
      },
      "execution_count": null,
      "outputs": [
        {
          "output_type": "stream",
          "name": "stdout",
          "text": [
            "Train accuracy 0.403074 ± 0.000580, test accuracy: 0.391141 ± 0.002062\n"
          ]
        }
      ]
    },
    {
      "cell_type": "markdown",
      "source": [
        "El ignorar la clasificación de programas baja el desempeño del modelo aunque lo hace ligeramente. Igualmente se continuará el análisis evaluando la clasificación del programa académico en las distintas áreas de conocimiento y otras posibles técnicas"
      ],
      "metadata": {
        "id": "wHSAY_0MdcDQ"
      }
    },
    {
      "cell_type": "markdown",
      "source": [
        "###Calibración con todo el conjunto de datos"
      ],
      "metadata": {
        "id": "DUAQATMeccgv"
      }
    },
    {
      "cell_type": "code",
      "source": [
        "rf = RandomForestClassifier(n_estimators=50, max_depth=10)\n",
        "rf.fit(X,y)"
      ],
      "metadata": {
        "colab": {
          "base_uri": "https://localhost:8080/",
          "height": 80
        },
        "id": "-2Rk4eSscMP3",
        "outputId": "9a06ff0a-0e9c-4039-f2fb-ee170b078473"
      },
      "execution_count": null,
      "outputs": [
        {
          "output_type": "execute_result",
          "data": {
            "text/plain": [
              "RandomForestClassifier(max_depth=10, n_estimators=50)"
            ],
            "text/html": [
              "<style>#sk-container-id-1 {\n",
              "  /* Definition of color scheme common for light and dark mode */\n",
              "  --sklearn-color-text: #000;\n",
              "  --sklearn-color-text-muted: #666;\n",
              "  --sklearn-color-line: gray;\n",
              "  /* Definition of color scheme for unfitted estimators */\n",
              "  --sklearn-color-unfitted-level-0: #fff5e6;\n",
              "  --sklearn-color-unfitted-level-1: #f6e4d2;\n",
              "  --sklearn-color-unfitted-level-2: #ffe0b3;\n",
              "  --sklearn-color-unfitted-level-3: chocolate;\n",
              "  /* Definition of color scheme for fitted estimators */\n",
              "  --sklearn-color-fitted-level-0: #f0f8ff;\n",
              "  --sklearn-color-fitted-level-1: #d4ebff;\n",
              "  --sklearn-color-fitted-level-2: #b3dbfd;\n",
              "  --sklearn-color-fitted-level-3: cornflowerblue;\n",
              "\n",
              "  /* Specific color for light theme */\n",
              "  --sklearn-color-text-on-default-background: var(--sg-text-color, var(--theme-code-foreground, var(--jp-content-font-color1, black)));\n",
              "  --sklearn-color-background: var(--sg-background-color, var(--theme-background, var(--jp-layout-color0, white)));\n",
              "  --sklearn-color-border-box: var(--sg-text-color, var(--theme-code-foreground, var(--jp-content-font-color1, black)));\n",
              "  --sklearn-color-icon: #696969;\n",
              "\n",
              "  @media (prefers-color-scheme: dark) {\n",
              "    /* Redefinition of color scheme for dark theme */\n",
              "    --sklearn-color-text-on-default-background: var(--sg-text-color, var(--theme-code-foreground, var(--jp-content-font-color1, white)));\n",
              "    --sklearn-color-background: var(--sg-background-color, var(--theme-background, var(--jp-layout-color0, #111)));\n",
              "    --sklearn-color-border-box: var(--sg-text-color, var(--theme-code-foreground, var(--jp-content-font-color1, white)));\n",
              "    --sklearn-color-icon: #878787;\n",
              "  }\n",
              "}\n",
              "\n",
              "#sk-container-id-1 {\n",
              "  color: var(--sklearn-color-text);\n",
              "}\n",
              "\n",
              "#sk-container-id-1 pre {\n",
              "  padding: 0;\n",
              "}\n",
              "\n",
              "#sk-container-id-1 input.sk-hidden--visually {\n",
              "  border: 0;\n",
              "  clip: rect(1px 1px 1px 1px);\n",
              "  clip: rect(1px, 1px, 1px, 1px);\n",
              "  height: 1px;\n",
              "  margin: -1px;\n",
              "  overflow: hidden;\n",
              "  padding: 0;\n",
              "  position: absolute;\n",
              "  width: 1px;\n",
              "}\n",
              "\n",
              "#sk-container-id-1 div.sk-dashed-wrapped {\n",
              "  border: 1px dashed var(--sklearn-color-line);\n",
              "  margin: 0 0.4em 0.5em 0.4em;\n",
              "  box-sizing: border-box;\n",
              "  padding-bottom: 0.4em;\n",
              "  background-color: var(--sklearn-color-background);\n",
              "}\n",
              "\n",
              "#sk-container-id-1 div.sk-container {\n",
              "  /* jupyter's `normalize.less` sets `[hidden] { display: none; }`\n",
              "     but bootstrap.min.css set `[hidden] { display: none !important; }`\n",
              "     so we also need the `!important` here to be able to override the\n",
              "     default hidden behavior on the sphinx rendered scikit-learn.org.\n",
              "     See: https://github.com/scikit-learn/scikit-learn/issues/21755 */\n",
              "  display: inline-block !important;\n",
              "  position: relative;\n",
              "}\n",
              "\n",
              "#sk-container-id-1 div.sk-text-repr-fallback {\n",
              "  display: none;\n",
              "}\n",
              "\n",
              "div.sk-parallel-item,\n",
              "div.sk-serial,\n",
              "div.sk-item {\n",
              "  /* draw centered vertical line to link estimators */\n",
              "  background-image: linear-gradient(var(--sklearn-color-text-on-default-background), var(--sklearn-color-text-on-default-background));\n",
              "  background-size: 2px 100%;\n",
              "  background-repeat: no-repeat;\n",
              "  background-position: center center;\n",
              "}\n",
              "\n",
              "/* Parallel-specific style estimator block */\n",
              "\n",
              "#sk-container-id-1 div.sk-parallel-item::after {\n",
              "  content: \"\";\n",
              "  width: 100%;\n",
              "  border-bottom: 2px solid var(--sklearn-color-text-on-default-background);\n",
              "  flex-grow: 1;\n",
              "}\n",
              "\n",
              "#sk-container-id-1 div.sk-parallel {\n",
              "  display: flex;\n",
              "  align-items: stretch;\n",
              "  justify-content: center;\n",
              "  background-color: var(--sklearn-color-background);\n",
              "  position: relative;\n",
              "}\n",
              "\n",
              "#sk-container-id-1 div.sk-parallel-item {\n",
              "  display: flex;\n",
              "  flex-direction: column;\n",
              "}\n",
              "\n",
              "#sk-container-id-1 div.sk-parallel-item:first-child::after {\n",
              "  align-self: flex-end;\n",
              "  width: 50%;\n",
              "}\n",
              "\n",
              "#sk-container-id-1 div.sk-parallel-item:last-child::after {\n",
              "  align-self: flex-start;\n",
              "  width: 50%;\n",
              "}\n",
              "\n",
              "#sk-container-id-1 div.sk-parallel-item:only-child::after {\n",
              "  width: 0;\n",
              "}\n",
              "\n",
              "/* Serial-specific style estimator block */\n",
              "\n",
              "#sk-container-id-1 div.sk-serial {\n",
              "  display: flex;\n",
              "  flex-direction: column;\n",
              "  align-items: center;\n",
              "  background-color: var(--sklearn-color-background);\n",
              "  padding-right: 1em;\n",
              "  padding-left: 1em;\n",
              "}\n",
              "\n",
              "\n",
              "/* Toggleable style: style used for estimator/Pipeline/ColumnTransformer box that is\n",
              "clickable and can be expanded/collapsed.\n",
              "- Pipeline and ColumnTransformer use this feature and define the default style\n",
              "- Estimators will overwrite some part of the style using the `sk-estimator` class\n",
              "*/\n",
              "\n",
              "/* Pipeline and ColumnTransformer style (default) */\n",
              "\n",
              "#sk-container-id-1 div.sk-toggleable {\n",
              "  /* Default theme specific background. It is overwritten whether we have a\n",
              "  specific estimator or a Pipeline/ColumnTransformer */\n",
              "  background-color: var(--sklearn-color-background);\n",
              "}\n",
              "\n",
              "/* Toggleable label */\n",
              "#sk-container-id-1 label.sk-toggleable__label {\n",
              "  cursor: pointer;\n",
              "  display: flex;\n",
              "  width: 100%;\n",
              "  margin-bottom: 0;\n",
              "  padding: 0.5em;\n",
              "  box-sizing: border-box;\n",
              "  text-align: center;\n",
              "  align-items: start;\n",
              "  justify-content: space-between;\n",
              "  gap: 0.5em;\n",
              "}\n",
              "\n",
              "#sk-container-id-1 label.sk-toggleable__label .caption {\n",
              "  font-size: 0.6rem;\n",
              "  font-weight: lighter;\n",
              "  color: var(--sklearn-color-text-muted);\n",
              "}\n",
              "\n",
              "#sk-container-id-1 label.sk-toggleable__label-arrow:before {\n",
              "  /* Arrow on the left of the label */\n",
              "  content: \"▸\";\n",
              "  float: left;\n",
              "  margin-right: 0.25em;\n",
              "  color: var(--sklearn-color-icon);\n",
              "}\n",
              "\n",
              "#sk-container-id-1 label.sk-toggleable__label-arrow:hover:before {\n",
              "  color: var(--sklearn-color-text);\n",
              "}\n",
              "\n",
              "/* Toggleable content - dropdown */\n",
              "\n",
              "#sk-container-id-1 div.sk-toggleable__content {\n",
              "  max-height: 0;\n",
              "  max-width: 0;\n",
              "  overflow: hidden;\n",
              "  text-align: left;\n",
              "  /* unfitted */\n",
              "  background-color: var(--sklearn-color-unfitted-level-0);\n",
              "}\n",
              "\n",
              "#sk-container-id-1 div.sk-toggleable__content.fitted {\n",
              "  /* fitted */\n",
              "  background-color: var(--sklearn-color-fitted-level-0);\n",
              "}\n",
              "\n",
              "#sk-container-id-1 div.sk-toggleable__content pre {\n",
              "  margin: 0.2em;\n",
              "  border-radius: 0.25em;\n",
              "  color: var(--sklearn-color-text);\n",
              "  /* unfitted */\n",
              "  background-color: var(--sklearn-color-unfitted-level-0);\n",
              "}\n",
              "\n",
              "#sk-container-id-1 div.sk-toggleable__content.fitted pre {\n",
              "  /* unfitted */\n",
              "  background-color: var(--sklearn-color-fitted-level-0);\n",
              "}\n",
              "\n",
              "#sk-container-id-1 input.sk-toggleable__control:checked~div.sk-toggleable__content {\n",
              "  /* Expand drop-down */\n",
              "  max-height: 200px;\n",
              "  max-width: 100%;\n",
              "  overflow: auto;\n",
              "}\n",
              "\n",
              "#sk-container-id-1 input.sk-toggleable__control:checked~label.sk-toggleable__label-arrow:before {\n",
              "  content: \"▾\";\n",
              "}\n",
              "\n",
              "/* Pipeline/ColumnTransformer-specific style */\n",
              "\n",
              "#sk-container-id-1 div.sk-label input.sk-toggleable__control:checked~label.sk-toggleable__label {\n",
              "  color: var(--sklearn-color-text);\n",
              "  background-color: var(--sklearn-color-unfitted-level-2);\n",
              "}\n",
              "\n",
              "#sk-container-id-1 div.sk-label.fitted input.sk-toggleable__control:checked~label.sk-toggleable__label {\n",
              "  background-color: var(--sklearn-color-fitted-level-2);\n",
              "}\n",
              "\n",
              "/* Estimator-specific style */\n",
              "\n",
              "/* Colorize estimator box */\n",
              "#sk-container-id-1 div.sk-estimator input.sk-toggleable__control:checked~label.sk-toggleable__label {\n",
              "  /* unfitted */\n",
              "  background-color: var(--sklearn-color-unfitted-level-2);\n",
              "}\n",
              "\n",
              "#sk-container-id-1 div.sk-estimator.fitted input.sk-toggleable__control:checked~label.sk-toggleable__label {\n",
              "  /* fitted */\n",
              "  background-color: var(--sklearn-color-fitted-level-2);\n",
              "}\n",
              "\n",
              "#sk-container-id-1 div.sk-label label.sk-toggleable__label,\n",
              "#sk-container-id-1 div.sk-label label {\n",
              "  /* The background is the default theme color */\n",
              "  color: var(--sklearn-color-text-on-default-background);\n",
              "}\n",
              "\n",
              "/* On hover, darken the color of the background */\n",
              "#sk-container-id-1 div.sk-label:hover label.sk-toggleable__label {\n",
              "  color: var(--sklearn-color-text);\n",
              "  background-color: var(--sklearn-color-unfitted-level-2);\n",
              "}\n",
              "\n",
              "/* Label box, darken color on hover, fitted */\n",
              "#sk-container-id-1 div.sk-label.fitted:hover label.sk-toggleable__label.fitted {\n",
              "  color: var(--sklearn-color-text);\n",
              "  background-color: var(--sklearn-color-fitted-level-2);\n",
              "}\n",
              "\n",
              "/* Estimator label */\n",
              "\n",
              "#sk-container-id-1 div.sk-label label {\n",
              "  font-family: monospace;\n",
              "  font-weight: bold;\n",
              "  display: inline-block;\n",
              "  line-height: 1.2em;\n",
              "}\n",
              "\n",
              "#sk-container-id-1 div.sk-label-container {\n",
              "  text-align: center;\n",
              "}\n",
              "\n",
              "/* Estimator-specific */\n",
              "#sk-container-id-1 div.sk-estimator {\n",
              "  font-family: monospace;\n",
              "  border: 1px dotted var(--sklearn-color-border-box);\n",
              "  border-radius: 0.25em;\n",
              "  box-sizing: border-box;\n",
              "  margin-bottom: 0.5em;\n",
              "  /* unfitted */\n",
              "  background-color: var(--sklearn-color-unfitted-level-0);\n",
              "}\n",
              "\n",
              "#sk-container-id-1 div.sk-estimator.fitted {\n",
              "  /* fitted */\n",
              "  background-color: var(--sklearn-color-fitted-level-0);\n",
              "}\n",
              "\n",
              "/* on hover */\n",
              "#sk-container-id-1 div.sk-estimator:hover {\n",
              "  /* unfitted */\n",
              "  background-color: var(--sklearn-color-unfitted-level-2);\n",
              "}\n",
              "\n",
              "#sk-container-id-1 div.sk-estimator.fitted:hover {\n",
              "  /* fitted */\n",
              "  background-color: var(--sklearn-color-fitted-level-2);\n",
              "}\n",
              "\n",
              "/* Specification for estimator info (e.g. \"i\" and \"?\") */\n",
              "\n",
              "/* Common style for \"i\" and \"?\" */\n",
              "\n",
              ".sk-estimator-doc-link,\n",
              "a:link.sk-estimator-doc-link,\n",
              "a:visited.sk-estimator-doc-link {\n",
              "  float: right;\n",
              "  font-size: smaller;\n",
              "  line-height: 1em;\n",
              "  font-family: monospace;\n",
              "  background-color: var(--sklearn-color-background);\n",
              "  border-radius: 1em;\n",
              "  height: 1em;\n",
              "  width: 1em;\n",
              "  text-decoration: none !important;\n",
              "  margin-left: 0.5em;\n",
              "  text-align: center;\n",
              "  /* unfitted */\n",
              "  border: var(--sklearn-color-unfitted-level-1) 1pt solid;\n",
              "  color: var(--sklearn-color-unfitted-level-1);\n",
              "}\n",
              "\n",
              ".sk-estimator-doc-link.fitted,\n",
              "a:link.sk-estimator-doc-link.fitted,\n",
              "a:visited.sk-estimator-doc-link.fitted {\n",
              "  /* fitted */\n",
              "  border: var(--sklearn-color-fitted-level-1) 1pt solid;\n",
              "  color: var(--sklearn-color-fitted-level-1);\n",
              "}\n",
              "\n",
              "/* On hover */\n",
              "div.sk-estimator:hover .sk-estimator-doc-link:hover,\n",
              ".sk-estimator-doc-link:hover,\n",
              "div.sk-label-container:hover .sk-estimator-doc-link:hover,\n",
              ".sk-estimator-doc-link:hover {\n",
              "  /* unfitted */\n",
              "  background-color: var(--sklearn-color-unfitted-level-3);\n",
              "  color: var(--sklearn-color-background);\n",
              "  text-decoration: none;\n",
              "}\n",
              "\n",
              "div.sk-estimator.fitted:hover .sk-estimator-doc-link.fitted:hover,\n",
              ".sk-estimator-doc-link.fitted:hover,\n",
              "div.sk-label-container:hover .sk-estimator-doc-link.fitted:hover,\n",
              ".sk-estimator-doc-link.fitted:hover {\n",
              "  /* fitted */\n",
              "  background-color: var(--sklearn-color-fitted-level-3);\n",
              "  color: var(--sklearn-color-background);\n",
              "  text-decoration: none;\n",
              "}\n",
              "\n",
              "/* Span, style for the box shown on hovering the info icon */\n",
              ".sk-estimator-doc-link span {\n",
              "  display: none;\n",
              "  z-index: 9999;\n",
              "  position: relative;\n",
              "  font-weight: normal;\n",
              "  right: .2ex;\n",
              "  padding: .5ex;\n",
              "  margin: .5ex;\n",
              "  width: min-content;\n",
              "  min-width: 20ex;\n",
              "  max-width: 50ex;\n",
              "  color: var(--sklearn-color-text);\n",
              "  box-shadow: 2pt 2pt 4pt #999;\n",
              "  /* unfitted */\n",
              "  background: var(--sklearn-color-unfitted-level-0);\n",
              "  border: .5pt solid var(--sklearn-color-unfitted-level-3);\n",
              "}\n",
              "\n",
              ".sk-estimator-doc-link.fitted span {\n",
              "  /* fitted */\n",
              "  background: var(--sklearn-color-fitted-level-0);\n",
              "  border: var(--sklearn-color-fitted-level-3);\n",
              "}\n",
              "\n",
              ".sk-estimator-doc-link:hover span {\n",
              "  display: block;\n",
              "}\n",
              "\n",
              "/* \"?\"-specific style due to the `<a>` HTML tag */\n",
              "\n",
              "#sk-container-id-1 a.estimator_doc_link {\n",
              "  float: right;\n",
              "  font-size: 1rem;\n",
              "  line-height: 1em;\n",
              "  font-family: monospace;\n",
              "  background-color: var(--sklearn-color-background);\n",
              "  border-radius: 1rem;\n",
              "  height: 1rem;\n",
              "  width: 1rem;\n",
              "  text-decoration: none;\n",
              "  /* unfitted */\n",
              "  color: var(--sklearn-color-unfitted-level-1);\n",
              "  border: var(--sklearn-color-unfitted-level-1) 1pt solid;\n",
              "}\n",
              "\n",
              "#sk-container-id-1 a.estimator_doc_link.fitted {\n",
              "  /* fitted */\n",
              "  border: var(--sklearn-color-fitted-level-1) 1pt solid;\n",
              "  color: var(--sklearn-color-fitted-level-1);\n",
              "}\n",
              "\n",
              "/* On hover */\n",
              "#sk-container-id-1 a.estimator_doc_link:hover {\n",
              "  /* unfitted */\n",
              "  background-color: var(--sklearn-color-unfitted-level-3);\n",
              "  color: var(--sklearn-color-background);\n",
              "  text-decoration: none;\n",
              "}\n",
              "\n",
              "#sk-container-id-1 a.estimator_doc_link.fitted:hover {\n",
              "  /* fitted */\n",
              "  background-color: var(--sklearn-color-fitted-level-3);\n",
              "}\n",
              "</style><div id=\"sk-container-id-1\" class=\"sk-top-container\"><div class=\"sk-text-repr-fallback\"><pre>RandomForestClassifier(max_depth=10, n_estimators=50)</pre><b>In a Jupyter environment, please rerun this cell to show the HTML representation or trust the notebook. <br />On GitHub, the HTML representation is unable to render, please try loading this page with nbviewer.org.</b></div><div class=\"sk-container\" hidden><div class=\"sk-item\"><div class=\"sk-estimator fitted sk-toggleable\"><input class=\"sk-toggleable__control sk-hidden--visually\" id=\"sk-estimator-id-1\" type=\"checkbox\" checked><label for=\"sk-estimator-id-1\" class=\"sk-toggleable__label fitted sk-toggleable__label-arrow\"><div><div>RandomForestClassifier</div></div><div><a class=\"sk-estimator-doc-link fitted\" rel=\"noreferrer\" target=\"_blank\" href=\"https://scikit-learn.org/1.6/modules/generated/sklearn.ensemble.RandomForestClassifier.html\">?<span>Documentation for RandomForestClassifier</span></a><span class=\"sk-estimator-doc-link fitted\">i<span>Fitted</span></span></div></label><div class=\"sk-toggleable__content fitted\"><pre>RandomForestClassifier(max_depth=10, n_estimators=50)</pre></div> </div></div></div></div>"
            ]
          },
          "metadata": {},
          "execution_count": 41
        }
      ]
    },
    {
      "cell_type": "markdown",
      "source": [
        "##Predicción"
      ],
      "metadata": {
        "id": "gtPKec_Lcmb-"
      }
    },
    {
      "cell_type": "code",
      "source": [
        "test_df = pd.read_csv(\"test.csv\")\n",
        "print(test_df.shape)\n",
        "test_df_processed = process_data_complete(test_df, programs_df)\n",
        "print(test_df_processed.shape)"
      ],
      "metadata": {
        "colab": {
          "base_uri": "https://localhost:8080/"
        },
        "id": "hvVDAvw9cpM-",
        "outputId": "fd768c1e-df97-4a12-bce3-b6d4dc0ddac3"
      },
      "execution_count": null,
      "outputs": [
        {
          "output_type": "stream",
          "name": "stdout",
          "text": [
            "(296786, 20)\n"
          ]
        },
        {
          "output_type": "stream",
          "name": "stderr",
          "text": [
            "/tmp/ipython-input-4-124035498.py:35: FutureWarning: Downcasting behavior in `replace` is deprecated and will be removed in a future version. To retain the old behavior, explicitly call `result.infer_objects(copy=False)`. To opt-in to the future behavior, set `pd.set_option('future.no_silent_downcasting', True)`\n",
            "  df_copy[column] = df_copy[column].replace(replacement)\n"
          ]
        },
        {
          "output_type": "stream",
          "name": "stdout",
          "text": [
            "(296786, 58)\n"
          ]
        }
      ]
    },
    {
      "cell_type": "code",
      "source": [
        "test_df_processed = test_df_processed.drop(columns = ['ESTU_PRGM_ACADEMICO'])\n",
        "y_pred = rf.predict(test_df_processed)"
      ],
      "metadata": {
        "id": "dcuYJyXWcsne"
      },
      "execution_count": null,
      "outputs": []
    },
    {
      "cell_type": "markdown",
      "source": [
        "###Dataframe de predicción"
      ],
      "metadata": {
        "id": "-xr4ywFzdWJt"
      }
    },
    {
      "cell_type": "code",
      "source": [
        "grades = [\"bajo\", \"medio-bajo\", \"medio-alto\", \"alto\"]\n",
        "y_pred = pd.DataFrame(y_pred, columns=['RENDIMIENTO_GLOBAL'])\n",
        "y_pred = y_pred.replace(dict(zip(range(4), grades)))\n",
        "y_pred.head()\n",
        "prediction_df = pd.concat([test_df['ID'], y_pred], axis=1).set_index('ID')\n",
        "print(prediction_df.shape)\n",
        "prediction_df.head()"
      ],
      "metadata": {
        "colab": {
          "base_uri": "https://localhost:8080/",
          "height": 255
        },
        "id": "IQBO7Kw8dY_1",
        "outputId": "ca7363aa-565f-4c88-e625-335a5d1ceb6e"
      },
      "execution_count": null,
      "outputs": [
        {
          "output_type": "stream",
          "name": "stdout",
          "text": [
            "(296786, 1)\n"
          ]
        },
        {
          "output_type": "execute_result",
          "data": {
            "text/plain": [
              "       RENDIMIENTO_GLOBAL\n",
              "ID                       \n",
              "550236               alto\n",
              "98545          medio-alto\n",
              "499179               alto\n",
              "782980               bajo\n",
              "785185               bajo"
            ],
            "text/html": [
              "\n",
              "  <div id=\"df-bdc529ed-d7f6-4be1-b557-d72e7f12586c\" class=\"colab-df-container\">\n",
              "    <div>\n",
              "<style scoped>\n",
              "    .dataframe tbody tr th:only-of-type {\n",
              "        vertical-align: middle;\n",
              "    }\n",
              "\n",
              "    .dataframe tbody tr th {\n",
              "        vertical-align: top;\n",
              "    }\n",
              "\n",
              "    .dataframe thead th {\n",
              "        text-align: right;\n",
              "    }\n",
              "</style>\n",
              "<table border=\"1\" class=\"dataframe\">\n",
              "  <thead>\n",
              "    <tr style=\"text-align: right;\">\n",
              "      <th></th>\n",
              "      <th>RENDIMIENTO_GLOBAL</th>\n",
              "    </tr>\n",
              "    <tr>\n",
              "      <th>ID</th>\n",
              "      <th></th>\n",
              "    </tr>\n",
              "  </thead>\n",
              "  <tbody>\n",
              "    <tr>\n",
              "      <th>550236</th>\n",
              "      <td>alto</td>\n",
              "    </tr>\n",
              "    <tr>\n",
              "      <th>98545</th>\n",
              "      <td>medio-alto</td>\n",
              "    </tr>\n",
              "    <tr>\n",
              "      <th>499179</th>\n",
              "      <td>alto</td>\n",
              "    </tr>\n",
              "    <tr>\n",
              "      <th>782980</th>\n",
              "      <td>bajo</td>\n",
              "    </tr>\n",
              "    <tr>\n",
              "      <th>785185</th>\n",
              "      <td>bajo</td>\n",
              "    </tr>\n",
              "  </tbody>\n",
              "</table>\n",
              "</div>\n",
              "    <div class=\"colab-df-buttons\">\n",
              "\n",
              "  <div class=\"colab-df-container\">\n",
              "    <button class=\"colab-df-convert\" onclick=\"convertToInteractive('df-bdc529ed-d7f6-4be1-b557-d72e7f12586c')\"\n",
              "            title=\"Convert this dataframe to an interactive table.\"\n",
              "            style=\"display:none;\">\n",
              "\n",
              "  <svg xmlns=\"http://www.w3.org/2000/svg\" height=\"24px\" viewBox=\"0 -960 960 960\">\n",
              "    <path d=\"M120-120v-720h720v720H120Zm60-500h600v-160H180v160Zm220 220h160v-160H400v160Zm0 220h160v-160H400v160ZM180-400h160v-160H180v160Zm440 0h160v-160H620v160ZM180-180h160v-160H180v160Zm440 0h160v-160H620v160Z\"/>\n",
              "  </svg>\n",
              "    </button>\n",
              "\n",
              "  <style>\n",
              "    .colab-df-container {\n",
              "      display:flex;\n",
              "      gap: 12px;\n",
              "    }\n",
              "\n",
              "    .colab-df-convert {\n",
              "      background-color: #E8F0FE;\n",
              "      border: none;\n",
              "      border-radius: 50%;\n",
              "      cursor: pointer;\n",
              "      display: none;\n",
              "      fill: #1967D2;\n",
              "      height: 32px;\n",
              "      padding: 0 0 0 0;\n",
              "      width: 32px;\n",
              "    }\n",
              "\n",
              "    .colab-df-convert:hover {\n",
              "      background-color: #E2EBFA;\n",
              "      box-shadow: 0px 1px 2px rgba(60, 64, 67, 0.3), 0px 1px 3px 1px rgba(60, 64, 67, 0.15);\n",
              "      fill: #174EA6;\n",
              "    }\n",
              "\n",
              "    .colab-df-buttons div {\n",
              "      margin-bottom: 4px;\n",
              "    }\n",
              "\n",
              "    [theme=dark] .colab-df-convert {\n",
              "      background-color: #3B4455;\n",
              "      fill: #D2E3FC;\n",
              "    }\n",
              "\n",
              "    [theme=dark] .colab-df-convert:hover {\n",
              "      background-color: #434B5C;\n",
              "      box-shadow: 0px 1px 3px 1px rgba(0, 0, 0, 0.15);\n",
              "      filter: drop-shadow(0px 1px 2px rgba(0, 0, 0, 0.3));\n",
              "      fill: #FFFFFF;\n",
              "    }\n",
              "  </style>\n",
              "\n",
              "    <script>\n",
              "      const buttonEl =\n",
              "        document.querySelector('#df-bdc529ed-d7f6-4be1-b557-d72e7f12586c button.colab-df-convert');\n",
              "      buttonEl.style.display =\n",
              "        google.colab.kernel.accessAllowed ? 'block' : 'none';\n",
              "\n",
              "      async function convertToInteractive(key) {\n",
              "        const element = document.querySelector('#df-bdc529ed-d7f6-4be1-b557-d72e7f12586c');\n",
              "        const dataTable =\n",
              "          await google.colab.kernel.invokeFunction('convertToInteractive',\n",
              "                                                    [key], {});\n",
              "        if (!dataTable) return;\n",
              "\n",
              "        const docLinkHtml = 'Like what you see? Visit the ' +\n",
              "          '<a target=\"_blank\" href=https://colab.research.google.com/notebooks/data_table.ipynb>data table notebook</a>'\n",
              "          + ' to learn more about interactive tables.';\n",
              "        element.innerHTML = '';\n",
              "        dataTable['output_type'] = 'display_data';\n",
              "        await google.colab.output.renderOutput(dataTable, element);\n",
              "        const docLink = document.createElement('div');\n",
              "        docLink.innerHTML = docLinkHtml;\n",
              "        element.appendChild(docLink);\n",
              "      }\n",
              "    </script>\n",
              "  </div>\n",
              "\n",
              "\n",
              "    <div id=\"df-d7e971b5-5eca-4b1d-a35b-0806cbccdca8\">\n",
              "      <button class=\"colab-df-quickchart\" onclick=\"quickchart('df-d7e971b5-5eca-4b1d-a35b-0806cbccdca8')\"\n",
              "                title=\"Suggest charts\"\n",
              "                style=\"display:none;\">\n",
              "\n",
              "<svg xmlns=\"http://www.w3.org/2000/svg\" height=\"24px\"viewBox=\"0 0 24 24\"\n",
              "     width=\"24px\">\n",
              "    <g>\n",
              "        <path d=\"M19 3H5c-1.1 0-2 .9-2 2v14c0 1.1.9 2 2 2h14c1.1 0 2-.9 2-2V5c0-1.1-.9-2-2-2zM9 17H7v-7h2v7zm4 0h-2V7h2v10zm4 0h-2v-4h2v4z\"/>\n",
              "    </g>\n",
              "</svg>\n",
              "      </button>\n",
              "\n",
              "<style>\n",
              "  .colab-df-quickchart {\n",
              "      --bg-color: #E8F0FE;\n",
              "      --fill-color: #1967D2;\n",
              "      --hover-bg-color: #E2EBFA;\n",
              "      --hover-fill-color: #174EA6;\n",
              "      --disabled-fill-color: #AAA;\n",
              "      --disabled-bg-color: #DDD;\n",
              "  }\n",
              "\n",
              "  [theme=dark] .colab-df-quickchart {\n",
              "      --bg-color: #3B4455;\n",
              "      --fill-color: #D2E3FC;\n",
              "      --hover-bg-color: #434B5C;\n",
              "      --hover-fill-color: #FFFFFF;\n",
              "      --disabled-bg-color: #3B4455;\n",
              "      --disabled-fill-color: #666;\n",
              "  }\n",
              "\n",
              "  .colab-df-quickchart {\n",
              "    background-color: var(--bg-color);\n",
              "    border: none;\n",
              "    border-radius: 50%;\n",
              "    cursor: pointer;\n",
              "    display: none;\n",
              "    fill: var(--fill-color);\n",
              "    height: 32px;\n",
              "    padding: 0;\n",
              "    width: 32px;\n",
              "  }\n",
              "\n",
              "  .colab-df-quickchart:hover {\n",
              "    background-color: var(--hover-bg-color);\n",
              "    box-shadow: 0 1px 2px rgba(60, 64, 67, 0.3), 0 1px 3px 1px rgba(60, 64, 67, 0.15);\n",
              "    fill: var(--button-hover-fill-color);\n",
              "  }\n",
              "\n",
              "  .colab-df-quickchart-complete:disabled,\n",
              "  .colab-df-quickchart-complete:disabled:hover {\n",
              "    background-color: var(--disabled-bg-color);\n",
              "    fill: var(--disabled-fill-color);\n",
              "    box-shadow: none;\n",
              "  }\n",
              "\n",
              "  .colab-df-spinner {\n",
              "    border: 2px solid var(--fill-color);\n",
              "    border-color: transparent;\n",
              "    border-bottom-color: var(--fill-color);\n",
              "    animation:\n",
              "      spin 1s steps(1) infinite;\n",
              "  }\n",
              "\n",
              "  @keyframes spin {\n",
              "    0% {\n",
              "      border-color: transparent;\n",
              "      border-bottom-color: var(--fill-color);\n",
              "      border-left-color: var(--fill-color);\n",
              "    }\n",
              "    20% {\n",
              "      border-color: transparent;\n",
              "      border-left-color: var(--fill-color);\n",
              "      border-top-color: var(--fill-color);\n",
              "    }\n",
              "    30% {\n",
              "      border-color: transparent;\n",
              "      border-left-color: var(--fill-color);\n",
              "      border-top-color: var(--fill-color);\n",
              "      border-right-color: var(--fill-color);\n",
              "    }\n",
              "    40% {\n",
              "      border-color: transparent;\n",
              "      border-right-color: var(--fill-color);\n",
              "      border-top-color: var(--fill-color);\n",
              "    }\n",
              "    60% {\n",
              "      border-color: transparent;\n",
              "      border-right-color: var(--fill-color);\n",
              "    }\n",
              "    80% {\n",
              "      border-color: transparent;\n",
              "      border-right-color: var(--fill-color);\n",
              "      border-bottom-color: var(--fill-color);\n",
              "    }\n",
              "    90% {\n",
              "      border-color: transparent;\n",
              "      border-bottom-color: var(--fill-color);\n",
              "    }\n",
              "  }\n",
              "</style>\n",
              "\n",
              "      <script>\n",
              "        async function quickchart(key) {\n",
              "          const quickchartButtonEl =\n",
              "            document.querySelector('#' + key + ' button');\n",
              "          quickchartButtonEl.disabled = true;  // To prevent multiple clicks.\n",
              "          quickchartButtonEl.classList.add('colab-df-spinner');\n",
              "          try {\n",
              "            const charts = await google.colab.kernel.invokeFunction(\n",
              "                'suggestCharts', [key], {});\n",
              "          } catch (error) {\n",
              "            console.error('Error during call to suggestCharts:', error);\n",
              "          }\n",
              "          quickchartButtonEl.classList.remove('colab-df-spinner');\n",
              "          quickchartButtonEl.classList.add('colab-df-quickchart-complete');\n",
              "        }\n",
              "        (() => {\n",
              "          let quickchartButtonEl =\n",
              "            document.querySelector('#df-d7e971b5-5eca-4b1d-a35b-0806cbccdca8 button');\n",
              "          quickchartButtonEl.style.display =\n",
              "            google.colab.kernel.accessAllowed ? 'block' : 'none';\n",
              "        })();\n",
              "      </script>\n",
              "    </div>\n",
              "\n",
              "    </div>\n",
              "  </div>\n"
            ],
            "application/vnd.google.colaboratory.intrinsic+json": {
              "type": "dataframe",
              "variable_name": "prediction_df"
            }
          },
          "metadata": {},
          "execution_count": 48
        }
      ]
    },
    {
      "cell_type": "markdown",
      "source": [
        "###Exportando el archivo"
      ],
      "metadata": {
        "id": "5U32hy8TecVW"
      }
    },
    {
      "cell_type": "code",
      "source": [
        "prediction_df.to_csv(\"submission.csv\")"
      ],
      "metadata": {
        "id": "Khg27SncefLN"
      },
      "execution_count": null,
      "outputs": []
    }
  ]
}