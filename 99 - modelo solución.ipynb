{
  "cells": [
    {
      "cell_type": "markdown",
      "metadata": {
        "id": "DfUbjBRvNidl"
      },
      "source": [
        "#Modelo de clasificación: Procesado completo + PCA + Red Neuronal"
      ]
    },
    {
      "cell_type": "markdown",
      "metadata": {
        "id": "lqm44-bVNqWD"
      },
      "source": [
        "El modelo solución proviene de un arduo análisis de como mejorar el desepeño en la predicción mediante el uso de una red neuronal que incluyó análisis inicial de posibles arquitecturas de red, para esto se utilizo la librería de tensorflow para crear y entrenar las diferentes redes (Ver Notebook \"\"\")\n",
        "\n",
        "Posteriormente se hizo análisis sobre algunas posibles mejoras, tales como target encoding y capas de embedding, especialmente para una de las columnas que ha representado el mayor desafio; el programa académico. Finalmente el modelo resultante consiste en tres etapas:\n",
        "\n",
        "1. Preprocesamiento del dataset: El descrito en el Notebook *02 - preprocesado.ipynb* que fundamentalmente transforma los datos descriptivos a codificaciones binarias, de categorías ordenadas o codificación one-hot, y para el caso especial del programa académico una clasificación por áreas de conocimiento\n",
        "\n",
        "2. Postprocesamiento que consiste en varias etapas:\n",
        "\n",
        "  2.1. Labeling: Se mantuvo la columna de programa académico y se adiciona una columna de \"labeling\" para añadir capas de embedding en la red\n",
        "\n",
        "  2.2. Target encoding: La columna de programa académico y las correspondientes a la educación de los padres se codificaron a través de la media de la columna a predecir de acuerdo a cada categoría distinta\n",
        "\n",
        "  2.3. Escalado o normalización: Se efectua normalización de las columnas ordinales y de valores continuos (coeficientes especiales)\n",
        "\n",
        "  2.4. Descomposición mediante un análisis de componentes principales o PCA, cuya dimensión de descomposición optima se estudio en los Notebooks: \"\"\"\"\n",
        "\n",
        "3. Entrenamiento y predicción: Mediante un split de datos inicial se aplico el postprocesamiento descrito anteriormente sobre todo el conjunto de datos, para luego realizar una nueva separación para entrenamiento y validación del modelo. El modelo a entrenar es el mejor obtenido en el Notebook \"\"\" y sobre este se realizan ajustes a los hiperparamétros en busqueda de mejorar más el rendimiento. Una vez seleccionados los hiperparamétros del modelo se procede a entrenar con todo el conjunto de datos y usarlo para realizar la predicción final"
      ]
    },
    {
      "cell_type": "markdown",
      "source": [
        "##Instrucciones generales"
      ],
      "metadata": {
        "id": "2Z-5zWF1M8mO"
      }
    },
    {
      "cell_type": "markdown",
      "source": [
        "Para poder ejecutar el procesamiento propuesto, es necesario cargar tanto los archivos de la competencia de kaggle como el archivo de categorización manual de programas por área de conocimiento.\n",
        "\n",
        "Para cargar los archivos de la competencia se puede:\n",
        "\n",
        "1. Descargar directamente desde la página de kaggle: https://www.kaggle.com/competitions/udea-ai-4-eng-20251-pruebas-saber-pro-colombia/data y luego cargar manualmente al entorno\n",
        "\n",
        "2. O ejecutar las celdas de carga directa utilizando una api-key propia de kaggle (archivo kaggle.json) que se debe cargar al entorno\n",
        "\n",
        "Finalmente se debe cargar el archivo Categorias.csv que se ha enlazado en el repositorio github de esta solución para poder aplicar el procesamiento"
      ],
      "metadata": {
        "id": "_ub047j-M9Il"
      }
    },
    {
      "cell_type": "markdown",
      "metadata": {
        "id": "PbMFs62zN-gj"
      },
      "source": [
        "##Importaciones básicas"
      ]
    },
    {
      "cell_type": "code",
      "execution_count": 2,
      "metadata": {
        "colab": {
          "base_uri": "https://localhost:8080/"
        },
        "id": "ts2WsxmVOA2z",
        "outputId": "bc1708c4-7b90-45c0-c892-36e914ee8da9"
      },
      "outputs": [
        {
          "output_type": "stream",
          "name": "stdout",
          "text": [
            "Colab only includes TensorFlow 2.x; %tensorflow_version has no effect.\n",
            "Using TF2 in Google Colab\n"
          ]
        }
      ],
      "source": [
        "import numpy as np\n",
        "import pandas as pd\n",
        "\n",
        "try:\n",
        "    %tensorflow_version 2.x\n",
        "    print (\"Using TF2 in Google Colab\")\n",
        "except:\n",
        "    pass\n",
        "\n",
        "import tensorflow as tf"
      ]
    },
    {
      "cell_type": "markdown",
      "metadata": {
        "id": "vYyfPawvNy-U"
      },
      "source": [
        "##Preprocesado de los datos"
      ]
    },
    {
      "cell_type": "markdown",
      "metadata": {
        "id": "dBwYB-IYN2-k"
      },
      "source": [
        "###Carga de los datos"
      ]
    },
    {
      "cell_type": "code",
      "execution_count": 3,
      "metadata": {
        "id": "k41D6ipJN6KT",
        "colab": {
          "base_uri": "https://localhost:8080/"
        },
        "outputId": "16f7c9b7-d731-46dc-bd28-fbd3ec72122b"
      },
      "outputs": [
        {
          "output_type": "stream",
          "name": "stdout",
          "text": [
            "mkdir: cannot create directory ‘/root/.config/kaggle’: File exists\n",
            "mv: cannot stat 'kaggle.json': No such file or directory\n"
          ]
        }
      ],
      "source": [
        "!mkdir /root/.config/kaggle\n",
        "!mv kaggle.json /root/.config/kaggle/kaggle.json"
      ]
    },
    {
      "cell_type": "code",
      "execution_count": 4,
      "metadata": {
        "colab": {
          "base_uri": "https://localhost:8080/"
        },
        "id": "Frutv7pqOGMD",
        "outputId": "7968ea3b-9c9e-490c-bd99-ba18421f474c"
      },
      "outputs": [
        {
          "output_type": "stream",
          "name": "stdout",
          "text": [
            "udea-ai-4-eng-20251-pruebas-saber-pro-colombia.zip: Skipping, found more recently modified local copy (use --force to force download)\n",
            "Archive:  udea-ai-4-eng-20251-pruebas-saber-pro-colombia.zip\n",
            "replace submission_example.csv? [y]es, [n]o, [A]ll, [N]one, [r]ename: N\n"
          ]
        }
      ],
      "source": [
        "!chmod 600 /root/.config/kaggle/kaggle.json\n",
        "!kaggle competitions download -c udea-ai-4-eng-20251-pruebas-saber-pro-colombia\n",
        "!unzip udea-ai-4-eng-20251-pruebas-saber-pro-colombia.zip"
      ]
    },
    {
      "cell_type": "markdown",
      "metadata": {
        "id": "2LPe7Td7N5Y7"
      },
      "source": [
        "###Creacion dataframe y su transformación"
      ]
    },
    {
      "cell_type": "markdown",
      "metadata": {
        "id": "nNnY70HxOcjD"
      },
      "source": [
        "####Definición de las funciones de transformación"
      ]
    },
    {
      "cell_type": "code",
      "execution_count": 7,
      "metadata": {
        "id": "lsXNg6c5OiOT"
      },
      "outputs": [],
      "source": [
        "## Transformar columnas de si o no\n",
        "def to_binary(df, columns):\n",
        "\n",
        "  df_copy = df.copy()\n",
        "\n",
        "  for col in columns:\n",
        "    not_null_column =  df_copy.loc[~df_copy[col].isna()]\n",
        "    not_null_column = ((not_null_column ==\"Si\") | (not_null_column == \"S\")).astype(int)\n",
        "    df_copy.loc[~df_copy[col].isna(), col] = not_null_column[col]\n",
        "\n",
        "  return df_copy\n",
        "\n",
        "## Transformación rangos categoricos con orden implicito\n",
        "def define_education_levels():\n",
        "  education = []\n",
        "  education.append(\"Ninguno\")\n",
        "  education.append(\"Primaria incompleta\")\n",
        "  education.append(\"Primaria completa\")\n",
        "  education.append(\"Secundaria (Bachillerato) incompleta\")\n",
        "  education.append(\"Secundaria (Bachillerato) completa\")\n",
        "  education.append(\"Técnica o tecnológica incompleta\")\n",
        "  education.append(\"No Aplica\")\n",
        "  education.append(\"No sabe\")\n",
        "  education.append(\"Técnica o tecnológica completa\")\n",
        "  education.append(\"Educación profesional incompleta\")\n",
        "  education.append(\"Educación profesional completa\")\n",
        "  education.append(\"Postgrado\")\n",
        "  return education\n",
        "\n",
        "def to_ordered_categories(df, column, values):\n",
        "\n",
        "  df_copy = df.copy()\n",
        "  keys = [int(i) for i in range(len(values))]\n",
        "  replacement = dict(zip(values, keys))\n",
        "  df_copy[column] = df_copy[column].replace(replacement)\n",
        "  return df_copy\n",
        "\n",
        "## Transformación one hot\n",
        "def to_onehot(x):\n",
        "    values = np.unique(x)\n",
        "    r = np.r_[[np.argwhere(i==values)[0][0] for i in x]]\n",
        "    return np.eye(len(values))[r].astype(int)\n",
        "\n",
        "def replace_columns_with_onehot(d, col):\n",
        "    k = to_onehot(d[col].values)\n",
        "    r = pd.DataFrame(k, columns=[\"%s_%d\"%(col, i) for i in range(k.shape[1])], index=d.index).join(d)\n",
        "    del(r[col])\n",
        "    return r\n",
        "\n",
        "def create_dictionary_programs(programs_df):\n",
        "  programs = {}\n",
        "  for program, cat in zip(programs_df['PROGRAMA   '], programs_df['CATEGORIA']):\n",
        "    if cat not in programs.keys():\n",
        "      programs[cat] = [program]\n",
        "    else:\n",
        "      programs[cat].append(program)\n",
        "\n",
        "  return programs\n",
        "\n",
        "def add_knowledge_area_cols(df, programs):\n",
        "  df_copy = df.copy()\n",
        "\n",
        "  for area in programs.keys():\n",
        "    column = pd.DataFrame(np.zeros(df_copy.shape[0]).astype(int), columns =[area])\n",
        "    df_copy = df_copy.join(column)\n",
        "\n",
        "  other_column = pd.DataFrame(np.zeros(df_copy.shape[0]).astype(int), columns =['OTRO'])\n",
        "  df_copy = df_copy.join(other_column)\n",
        "\n",
        "  return df_copy\n",
        "\n",
        "def categorize_programs(df, programs):\n",
        "  df_copy = df.copy()\n",
        "\n",
        "  def assign_area(program):\n",
        "    for area in programs.keys():\n",
        "      if program in programs[area]:\n",
        "        return area\n",
        "\n",
        "    return 'OTRO'\n",
        "\n",
        "  df_copy['AREA_TMP'] = df_copy['ESTU_PRGM_ACADEMICO'].apply(assign_area)\n",
        "\n",
        "  for area in programs.keys():\n",
        "      df_copy[area] = (df_copy['AREA_TMP'] == area).astype(int)\n",
        "\n",
        "  df_copy['OTRO'] = (df_copy['AREA_TMP'] == 'OTRO').astype(int)\n",
        "  df_copy = df_copy.drop(columns=['AREA_TMP'])\n",
        "\n",
        "  return df_copy\n",
        "\n",
        "def fill_nulls(df, columns):\n",
        "\n",
        "  df_copy = df.copy()\n",
        "  for col in columns:\n",
        "    p = []\n",
        "    n = df_copy[col].dropna().shape[0]\n",
        "    for val in df_copy[col].dropna().unique():\n",
        "      p.append(np.sum(df_copy[col]==val)/n)\n",
        "\n",
        "    total_nulls = df_copy[col].shape[0]-n\n",
        "    values = np.random.choice(df_copy[col].dropna().unique(),size=total_nulls, p=p)\n",
        "\n",
        "    df_copy.loc[df_copy[col].isna(),col] = values.astype(int)\n",
        "    df_copy[col] = df_copy[col].astype(int)\n",
        "\n",
        "  return df_copy\n"
      ]
    },
    {
      "cell_type": "code",
      "execution_count": 8,
      "metadata": {
        "id": "irSW4cICFsGv"
      },
      "outputs": [],
      "source": [
        "def process_data(df):\n",
        "\n",
        "  df_copy = df.copy()\n",
        "  # drop ID column - repeated internet\n",
        "  del(df_copy['ID'])\n",
        "  df_copy = df_copy.drop(columns=['FAMI_TIENEINTERNET.1'])\n",
        "  # Cambio a binarias\n",
        "  columns = ['FAMI_TIENEINTERNET','FAMI_TIENELAVADORA','FAMI_TIENEAUTOMOVIL',\n",
        "           'FAMI_TIENECOMPUTADOR','ESTU_PAGOMATRICULAPROPIO', 'ESTU_PRIVADO_LIBERTAD']\n",
        "\n",
        "  df_copy = to_binary(df_copy, columns)\n",
        "  ## Categorias ordenadas\n",
        "  # Estrato\n",
        "  values = [\"Sin Estrato\", \"Estrato 1\", \"Estrato 2\", \"Estrato 3\", \"Estrato 4\", \"Estrato 5\", \"Estrato 6\"]\n",
        "  df_copy = to_ordered_categories(df_copy, \"FAMI_ESTRATOVIVIENDA\", values)\n",
        "  # Educacion padres\n",
        "  education = define_education_levels()\n",
        "  df_copy = to_ordered_categories(df_copy, \"FAMI_EDUCACIONPADRE\", education)\n",
        "  df_copy = to_ordered_categories(df_copy, \"FAMI_EDUCACIONMADRE\", education)\n",
        "  # horas trabajo\n",
        "  values = ['0', 'Menos de 10 horas', 'Entre 11 y 20 horas', 'Entre 21 y 30 horas', 'Más de 30 horas']\n",
        "  df_copy = to_ordered_categories(df_copy,\"ESTU_HORASSEMANATRABAJA\", values)\n",
        "  # valor matricula\n",
        "  values = ['No pagó matrícula', 'Menos de 500 mil', 'Entre 500 mil y menos de 1 millón', 'Entre 1 millón y menos de 2.5 millones',\n",
        "          'Entre 2.5 millones y menos de 4 millones', 'Entre 4 millones y menos de 5.5 millones',\n",
        "          'Entre 5.5 millones y menos de 7 millones','Más de 7 millones']\n",
        "\n",
        "  df_copy = to_ordered_categories(df_copy,\"ESTU_VALORMATRICULAUNIVERSIDAD\", values)\n",
        "  # periodo\n",
        "  values = [20183, 20184, 20194, 20195, 20196, 20202, 20203, 20212, 20213]\n",
        "  df_copy = to_ordered_categories(df_copy,\"PERIODO\", values)\n",
        "  # Variable respuesta\n",
        "  if 'RENDIMIENTO_GLOBAL' in df_copy.columns:\n",
        "    grades = [\"bajo\", \"medio-bajo\", \"medio-alto\", \"alto\"]\n",
        "    df_copy = to_ordered_categories(df_copy,\"RENDIMIENTO_GLOBAL\", grades)\n",
        "\n",
        "  # One hot  departamentos\n",
        "  df_copy = replace_columns_with_onehot(df_copy, 'ESTU_PRGM_DEPARTAMENTO')\n",
        "\n",
        "  # Areas de conocimiento - clasificación programas\n",
        "  # creacion diccionario\n",
        "  programs = create_dictionary_programs(programs_df)\n",
        "  # creacion columnas\n",
        "  df_copy = add_knowledge_area_cols(df_copy, programs)\n",
        "  # categorizacion\n",
        "  df_copy = categorize_programs(df_copy, programs)\n",
        "\n",
        "  # Relleno nulos\n",
        "  columns = ['FAMI_TIENEINTERNET','FAMI_TIENELAVADORA','FAMI_TIENEAUTOMOVIL','FAMI_TIENECOMPUTADOR',\n",
        "           'ESTU_PAGOMATRICULAPROPIO','ESTU_PRIVADO_LIBERTAD', 'FAMI_ESTRATOVIVIENDA','FAMI_EDUCACIONPADRE',\n",
        "           'FAMI_EDUCACIONMADRE', 'ESTU_HORASSEMANATRABAJA','ESTU_VALORMATRICULAUNIVERSIDAD']\n",
        "\n",
        "  df_copy = fill_nulls(df_copy, columns)\n",
        "\n",
        "  return df_copy"
      ]
    },
    {
      "cell_type": "markdown",
      "metadata": {
        "id": "YR7rblhLOk_T"
      },
      "source": [
        "####Dataframes resultantes"
      ]
    },
    {
      "cell_type": "markdown",
      "source": [
        "Para el preprocesamiento se hace un muestreo del data frame que contiene la cateorización de los programas de modo que en el set de entrenamiento existan muestras que sean asignadas a la categoría \"Otro\" en la área de conocimiento asociada, esto con el objetivo que el modelo se pueda acostumbrar a los casos en que se observen nuevos programas no categorizados pues no estaban en el conjunto de entrenamiento"
      ],
      "metadata": {
        "id": "iAHPLZfWTClt"
      }
    },
    {
      "cell_type": "code",
      "source": [
        "try:\n",
        "  df = pd.read_csv(\"train.csv\")\n",
        "except:\n",
        "  print(\"No se ha cargado el archivo train.csv al entorno\")"
      ],
      "metadata": {
        "id": "Sx2l80RE-qAu"
      },
      "execution_count": 9,
      "outputs": []
    },
    {
      "cell_type": "code",
      "source": [
        "try:\n",
        "  test_df = pd.read_csv(\"test.csv\")\n",
        "except:\n",
        "  print(\"No se ha cargado el archivo test.csv al entorno\")"
      ],
      "metadata": {
        "id": "C26MVRlK_uU6"
      },
      "execution_count": 10,
      "outputs": []
    },
    {
      "cell_type": "code",
      "source": [
        "try:\n",
        "    ## Lectura categorizacón programas y muestreo - Dejar valores \"otro\" en entrenamiento\n",
        "    programs_df = pd.read_csv('Categorias.csv', sep=';',encoding='latin-1')\n",
        "    programs_df = programs_df.sample(frac=0.70, random_state=42)\n",
        "    ## Procesamiento inicial parejo de los dos datasets\n",
        "    df = process_data(df)\n",
        "    test_df_processed = process_data(test_df)\n",
        "\n",
        "except:\n",
        "    print(\"No se ha cargado el archivo Categorias.csv al entorno\")"
      ],
      "metadata": {
        "colab": {
          "base_uri": "https://localhost:8080/"
        },
        "id": "DqZvEoRoDnTU",
        "outputId": "0c8a6674-8bf5-4dfd-d7f5-8ff5a2497592"
      },
      "execution_count": 11,
      "outputs": [
        {
          "output_type": "stream",
          "name": "stderr",
          "text": [
            "/tmp/ipython-input-7-124035498.py:35: FutureWarning: Downcasting behavior in `replace` is deprecated and will be removed in a future version. To retain the old behavior, explicitly call `result.infer_objects(copy=False)`. To opt-in to the future behavior, set `pd.set_option('future.no_silent_downcasting', True)`\n",
            "  df_copy[column] = df_copy[column].replace(replacement)\n",
            "/tmp/ipython-input-7-124035498.py:35: FutureWarning: Downcasting behavior in `replace` is deprecated and will be removed in a future version. To retain the old behavior, explicitly call `result.infer_objects(copy=False)`. To opt-in to the future behavior, set `pd.set_option('future.no_silent_downcasting', True)`\n",
            "  df_copy[column] = df_copy[column].replace(replacement)\n"
          ]
        }
      ]
    },
    {
      "cell_type": "markdown",
      "metadata": {
        "id": "hVYPB3SdSlzq"
      },
      "source": [
        "###Separación de los datos"
      ]
    },
    {
      "cell_type": "code",
      "execution_count": 12,
      "metadata": {
        "colab": {
          "base_uri": "https://localhost:8080/"
        },
        "id": "xeWIN52cSsLh",
        "outputId": "38ac1eaf-a3e5-47de-8247-4f2d50efb38c"
      },
      "outputs": [
        {
          "output_type": "stream",
          "name": "stdout",
          "text": [
            "(692500, 58)\n",
            "(692500,)\n"
          ]
        }
      ],
      "source": [
        "X = df.drop(columns=['RENDIMIENTO_GLOBAL'])\n",
        "y = df['RENDIMIENTO_GLOBAL']\n",
        "print(X.shape)\n",
        "print(y.shape)"
      ]
    },
    {
      "cell_type": "markdown",
      "metadata": {
        "id": "csB8PsImPB9D"
      },
      "source": [
        "##Creación y evaluacion del modelo"
      ]
    },
    {
      "cell_type": "markdown",
      "metadata": {
        "id": "YuCUpnLtUYrC"
      },
      "source": [
        "###Modelo y calibración"
      ]
    },
    {
      "cell_type": "markdown",
      "source": [
        "####Añadiendo columna de programas para embedding"
      ],
      "metadata": {
        "id": "-opjNJ-X7RCj"
      }
    },
    {
      "cell_type": "code",
      "source": [
        "from sklearn.preprocessing import LabelEncoder\n",
        "from sklearn.model_selection import train_test_split\n",
        "\n",
        "Xtr, Xts, ytr, yts = train_test_split(X, y, test_size=0.3)\n",
        "\n",
        "le_program = LabelEncoder()\n",
        "Xtr[\"ESTU_PRGM_ACADEMICO_INT\"] = le_program.fit_transform(Xtr[\"ESTU_PRGM_ACADEMICO\"])\n",
        "\n",
        "unknown_index = len(le_program.classes_)\n",
        "X[\"ESTU_PRGM_ACADEMICO_INT\"] = X[\"ESTU_PRGM_ACADEMICO\"].map(\n",
        "    lambda x: le_program.transform([x])[0] if x in le_program.classes_ else unknown_index\n",
        ")\n",
        "\n",
        "test_df_processed[\"ESTU_PRGM_ACADEMICO_INT\"] = test_df_processed[\"ESTU_PRGM_ACADEMICO\"].map(\n",
        "    lambda x: le_program.transform([x])[0] if x in le_program.classes_ else unknown_index\n",
        ")"
      ],
      "metadata": {
        "id": "ZST0r9-Q7RYj"
      },
      "execution_count": 13,
      "outputs": []
    },
    {
      "cell_type": "code",
      "source": [
        "emb_dim = len(le_program.classes_) + 1\n",
        "print(emb_dim)"
      ],
      "metadata": {
        "colab": {
          "base_uri": "https://localhost:8080/"
        },
        "id": "0j2MafwaGp3z",
        "outputId": "c5257fec-5cd2-48c6-f68e-a08bc238c0b9"
      },
      "execution_count": 14,
      "outputs": [
        {
          "output_type": "stream",
          "name": "stdout",
          "text": [
            "938\n"
          ]
        }
      ]
    },
    {
      "cell_type": "markdown",
      "source": [
        "####Target-encoding para programas"
      ],
      "metadata": {
        "id": "w_TzE3y-RqoK"
      }
    },
    {
      "cell_type": "code",
      "source": [
        "def target_encoding(X, y, col):\n",
        "  encoding_df = pd.DataFrame({col: X[col], 'TARGET': y})\n",
        "  mean_target_per_col = encoding_df.groupby(col)['TARGET'].mean()\n",
        "  return mean_target_per_col"
      ],
      "metadata": {
        "id": "gXMWY9SjRq6p"
      },
      "execution_count": 15,
      "outputs": []
    },
    {
      "cell_type": "code",
      "source": [
        "for col in ['ESTU_PRGM_ACADEMICO', 'FAMI_EDUCACIONPADRE', 'FAMI_EDUCACIONMADRE']:\n",
        "  mean_target_col = target_encoding(Xtr, ytr, col)\n",
        "  X[col] = X[col].map(mean_target_col).fillna(ytr.mean())\n",
        "  test_df_processed[col] = test_df_processed[col].map(mean_target_col).fillna(ytr.mean())"
      ],
      "metadata": {
        "id": "NMRyd_WVcNYX"
      },
      "execution_count": 16,
      "outputs": []
    },
    {
      "cell_type": "markdown",
      "source": [
        "####Separación matrices"
      ],
      "metadata": {
        "id": "Td2ziI6y8AUb"
      }
    },
    {
      "cell_type": "code",
      "source": [
        "X_dense = X.drop(columns=['ESTU_PRGM_ACADEMICO_INT'])\n",
        "X_program_int = X['ESTU_PRGM_ACADEMICO_INT']"
      ],
      "metadata": {
        "id": "VppQAwm38AqL"
      },
      "execution_count": 17,
      "outputs": []
    },
    {
      "cell_type": "markdown",
      "metadata": {
        "id": "r73BMSxrCrjZ"
      },
      "source": [
        "####Normalización columnas"
      ]
    },
    {
      "cell_type": "code",
      "source": [
        "from sklearn.compose import ColumnTransformer\n",
        "from sklearn.preprocessing import StandardScaler\n",
        "\n",
        "ordinal_cols = ['FAMI_EDUCACIONPADRE', 'FAMI_EDUCACIONMADRE', 'FAMI_ESTRATOVIVIENDA',\n",
        "                'ESTU_VALORMATRICULAUNIVERSIDAD', 'ESTU_HORASSEMANATRABAJA']\n",
        "\n",
        "float_cols = ['coef_1', 'coef_2', 'coef_3', 'coef_4', 'ESTU_PRGM_ACADEMICO']\n",
        "\n",
        "binary_cols = [col for col in X_dense.columns if col not in ordinal_cols + float_cols]\n",
        "\n",
        "preprocessor = ColumnTransformer([\n",
        "    ('scale_ord', StandardScaler(), ordinal_cols + float_cols),\n",
        "    ('passthrough_bin', 'passthrough', binary_cols)\n",
        "])\n",
        "\n",
        "X_scaled = preprocessor.fit_transform(X_dense)"
      ],
      "metadata": {
        "id": "CBQkG931K5La"
      },
      "execution_count": 18,
      "outputs": []
    },
    {
      "cell_type": "markdown",
      "source": [
        "####Separación dataset"
      ],
      "metadata": {
        "id": "ttvhkH86_-7L"
      }
    },
    {
      "cell_type": "code",
      "source": [
        "Xtr, Xts, Xtr_int, Xts_int, ytr, yts = train_test_split(X_scaled, X_program_int, y, test_size=0.3)\n",
        "Xtr_int = np.array(Xtr_int).reshape(-1, 1)\n",
        "Xts_int = np.array(Xts_int).reshape(-1, 1)\n",
        "print(Xtr_int.shape)\n",
        "print(Xts_int.shape)"
      ],
      "metadata": {
        "colab": {
          "base_uri": "https://localhost:8080/"
        },
        "id": "fSrH-fzI__QA",
        "outputId": "ff60acfd-fc09-433c-f85b-83d7dfbd8783"
      },
      "execution_count": 19,
      "outputs": [
        {
          "output_type": "stream",
          "name": "stdout",
          "text": [
            "(484750, 1)\n",
            "(207750, 1)\n"
          ]
        }
      ]
    },
    {
      "cell_type": "markdown",
      "source": [
        "####Descomposición PCA"
      ],
      "metadata": {
        "id": "zWXNjmCzRiNK"
      }
    },
    {
      "cell_type": "code",
      "source": [
        "from sklearn.decomposition import PCA\n",
        "pca = PCA(n_components=45)\n",
        "pca.fit(Xtr)\n",
        "Xtr = pca.transform(Xtr)\n",
        "Xts = pca.transform(Xts)"
      ],
      "metadata": {
        "id": "0gUxZm0YSqup"
      },
      "execution_count": 20,
      "outputs": []
    },
    {
      "cell_type": "markdown",
      "source": [
        "####Creando red neuronal con Embedding"
      ],
      "metadata": {
        "id": "hSAXmZjWfZlL"
      }
    },
    {
      "cell_type": "markdown",
      "metadata": {
        "id": "z3DazGn16-91"
      },
      "source": [
        "#####One-hot encoding variable salida"
      ]
    },
    {
      "cell_type": "code",
      "execution_count": 21,
      "metadata": {
        "id": "nAAXXhwS6-mh"
      },
      "outputs": [],
      "source": [
        "ytr = pd.get_dummies(ytr).astype(int)\n",
        "yts = pd.get_dummies(yts).astype(int)"
      ]
    },
    {
      "cell_type": "markdown",
      "source": [
        "#####Función graficación historia de entrenamiento"
      ],
      "metadata": {
        "id": "-Ghx1qya92qD"
      }
    },
    {
      "cell_type": "code",
      "source": [
        "def plot_training_history(history):\n",
        "    import matplotlib.pyplot as plt\n",
        "\n",
        "    acc = history.history['accuracy']\n",
        "    val_acc = history.history['val_accuracy']\n",
        "    loss = history.history['loss']\n",
        "    val_loss = history.history['val_loss']\n",
        "    epochs = range(1, len(acc) + 1)\n",
        "\n",
        "    plt.figure(figsize=(12, 5))\n",
        "\n",
        "    plt.subplot(1, 2, 1)\n",
        "    plt.plot(epochs, acc, 'b-', label='Train Accuracy')\n",
        "    plt.plot(epochs, val_acc, 'g--', label='Validation Accuracy')\n",
        "    plt.title('Precisión por época')\n",
        "    plt.xlabel('Épocas')\n",
        "    plt.ylabel('Accuracy')\n",
        "    plt.legend()\n",
        "\n",
        "    plt.subplot(1, 2, 2)\n",
        "    plt.plot(epochs, loss, 'b-', label='Train Loss')\n",
        "    plt.plot(epochs, val_loss, 'g--', label='Validation Loss')\n",
        "    plt.title('Pérdida por época')\n",
        "    plt.xlabel('Épocas')\n",
        "    plt.ylabel('Loss')\n",
        "    plt.legend()\n",
        "\n",
        "    plt.tight_layout()\n",
        "    plt.show()"
      ],
      "metadata": {
        "id": "lQgyX_tT-Afx"
      },
      "execution_count": 22,
      "outputs": []
    },
    {
      "cell_type": "markdown",
      "source": [
        "#####Creación Red"
      ],
      "metadata": {
        "id": "ylLuQtezduiK"
      }
    },
    {
      "cell_type": "code",
      "source": [
        "input_dense = tf.keras.Input(shape=(Xtr.shape[1],), name=\"dense_input\")\n",
        "\n",
        "input_program = tf.keras.Input(shape=(1,), name=\"program_input\")\n",
        "\n",
        "# Embedding layer\n",
        "embedding = tf.keras.layers.Embedding(input_dim=emb_dim, output_dim=10)(input_program)\n",
        "embedding_flat = tf.keras.layers.Flatten()(embedding)\n",
        "\n",
        "concat = tf.keras.layers.Concatenate()([input_dense, embedding_flat])\n",
        "\n",
        "x = tf.keras.layers.Dense(152, activation='gelu')(concat)\n",
        "x = tf.keras.layers.Dropout(0.25)(x)\n",
        "x = tf.keras.layers.Dense(138, activation='gelu')(x)\n",
        "x = tf.keras.layers.Dropout(0.25)(x)\n",
        "output = tf.keras.layers.Dense(4, activation='softmax')(x)\n",
        "\n",
        "model = tf.keras.Model(inputs=[input_dense, input_program], outputs=output)\n",
        "\n",
        "alpha = tf.constant([0.25, 0.25, 0.25, 0.25], dtype=tf.float32)\n",
        "model.compile(optimizer=tf.keras.optimizers.AdamW(learning_rate=0.001),\n",
        "              loss = tf.keras.losses.CategoricalFocalCrossentropy(gamma=0.0, alpha=alpha),\n",
        "              metrics=['accuracy'])\n",
        "\n",
        "early_stop = tf.keras.callbacks.EarlyStopping(monitor='val_accuracy', patience=10, restore_best_weights=True)"
      ],
      "metadata": {
        "id": "0yseaTL9dxhS"
      },
      "execution_count": 23,
      "outputs": []
    },
    {
      "cell_type": "markdown",
      "source": [
        "#####Entrenamiento red"
      ],
      "metadata": {
        "id": "olqfDpoX-kOB"
      }
    },
    {
      "cell_type": "code",
      "source": [
        "history = model.fit(\n",
        "    {'dense_input': Xtr, 'program_input': Xtr_int},\n",
        "    ytr, epochs=60, batch_size=512,verbose=1, validation_data=({'dense_input': Xts, 'program_input': Xts_int}, yts),\n",
        "    callbacks=[early_stop]\n",
        ")"
      ],
      "metadata": {
        "colab": {
          "base_uri": "https://localhost:8080/"
        },
        "id": "EvZfCGGs-kkq",
        "outputId": "d0ac11d9-9d30-43f2-fb2d-c0137adf127e"
      },
      "execution_count": 24,
      "outputs": [
        {
          "output_type": "stream",
          "name": "stdout",
          "text": [
            "Epoch 1/60\n",
            "\u001b[1m947/947\u001b[0m \u001b[32m━━━━━━━━━━━━━━━━━━━━\u001b[0m\u001b[37m\u001b[0m \u001b[1m8s\u001b[0m 7ms/step - accuracy: 0.4024 - loss: 0.3120 - val_accuracy: 0.4301 - val_loss: 0.3019\n",
            "Epoch 2/60\n",
            "\u001b[1m947/947\u001b[0m \u001b[32m━━━━━━━━━━━━━━━━━━━━\u001b[0m\u001b[37m\u001b[0m \u001b[1m6s\u001b[0m 6ms/step - accuracy: 0.4271 - loss: 0.3031 - val_accuracy: 0.4324 - val_loss: 0.3009\n",
            "Epoch 3/60\n",
            "\u001b[1m947/947\u001b[0m \u001b[32m━━━━━━━━━━━━━━━━━━━━\u001b[0m\u001b[37m\u001b[0m \u001b[1m11s\u001b[0m 7ms/step - accuracy: 0.4298 - loss: 0.3019 - val_accuracy: 0.4344 - val_loss: 0.3000\n",
            "Epoch 4/60\n",
            "\u001b[1m947/947\u001b[0m \u001b[32m━━━━━━━━━━━━━━━━━━━━\u001b[0m\u001b[37m\u001b[0m \u001b[1m10s\u001b[0m 7ms/step - accuracy: 0.4327 - loss: 0.3008 - val_accuracy: 0.4355 - val_loss: 0.2995\n",
            "Epoch 5/60\n",
            "\u001b[1m947/947\u001b[0m \u001b[32m━━━━━━━━━━━━━━━━━━━━\u001b[0m\u001b[37m\u001b[0m \u001b[1m11s\u001b[0m 7ms/step - accuracy: 0.4328 - loss: 0.3005 - val_accuracy: 0.4363 - val_loss: 0.2988\n",
            "Epoch 6/60\n",
            "\u001b[1m947/947\u001b[0m \u001b[32m━━━━━━━━━━━━━━━━━━━━\u001b[0m\u001b[37m\u001b[0m \u001b[1m10s\u001b[0m 7ms/step - accuracy: 0.4360 - loss: 0.2995 - val_accuracy: 0.4375 - val_loss: 0.2982\n",
            "Epoch 7/60\n",
            "\u001b[1m947/947\u001b[0m \u001b[32m━━━━━━━━━━━━━━━━━━━━\u001b[0m\u001b[37m\u001b[0m \u001b[1m6s\u001b[0m 7ms/step - accuracy: 0.4374 - loss: 0.2991 - val_accuracy: 0.4379 - val_loss: 0.2980\n",
            "Epoch 8/60\n",
            "\u001b[1m947/947\u001b[0m \u001b[32m━━━━━━━━━━━━━━━━━━━━\u001b[0m\u001b[37m\u001b[0m \u001b[1m11s\u001b[0m 7ms/step - accuracy: 0.4389 - loss: 0.2985 - val_accuracy: 0.4391 - val_loss: 0.2977\n",
            "Epoch 9/60\n",
            "\u001b[1m947/947\u001b[0m \u001b[32m━━━━━━━━━━━━━━━━━━━━\u001b[0m\u001b[37m\u001b[0m \u001b[1m6s\u001b[0m 7ms/step - accuracy: 0.4372 - loss: 0.2988 - val_accuracy: 0.4393 - val_loss: 0.2975\n",
            "Epoch 10/60\n",
            "\u001b[1m947/947\u001b[0m \u001b[32m━━━━━━━━━━━━━━━━━━━━\u001b[0m\u001b[37m\u001b[0m \u001b[1m6s\u001b[0m 6ms/step - accuracy: 0.4378 - loss: 0.2985 - val_accuracy: 0.4384 - val_loss: 0.2977\n",
            "Epoch 11/60\n",
            "\u001b[1m947/947\u001b[0m \u001b[32m━━━━━━━━━━━━━━━━━━━━\u001b[0m\u001b[37m\u001b[0m \u001b[1m7s\u001b[0m 7ms/step - accuracy: 0.4412 - loss: 0.2976 - val_accuracy: 0.4404 - val_loss: 0.2973\n",
            "Epoch 12/60\n",
            "\u001b[1m947/947\u001b[0m \u001b[32m━━━━━━━━━━━━━━━━━━━━\u001b[0m\u001b[37m\u001b[0m \u001b[1m13s\u001b[0m 10ms/step - accuracy: 0.4384 - loss: 0.2978 - val_accuracy: 0.4408 - val_loss: 0.2973\n",
            "Epoch 13/60\n",
            "\u001b[1m947/947\u001b[0m \u001b[32m━━━━━━━━━━━━━━━━━━━━\u001b[0m\u001b[37m\u001b[0m \u001b[1m9s\u001b[0m 9ms/step - accuracy: 0.4412 - loss: 0.2971 - val_accuracy: 0.4413 - val_loss: 0.2970\n",
            "Epoch 14/60\n",
            "\u001b[1m947/947\u001b[0m \u001b[32m━━━━━━━━━━━━━━━━━━━━\u001b[0m\u001b[37m\u001b[0m \u001b[1m8s\u001b[0m 8ms/step - accuracy: 0.4421 - loss: 0.2968 - val_accuracy: 0.4414 - val_loss: 0.2969\n",
            "Epoch 15/60\n",
            "\u001b[1m947/947\u001b[0m \u001b[32m━━━━━━━━━━━━━━━━━━━━\u001b[0m\u001b[37m\u001b[0m \u001b[1m9s\u001b[0m 7ms/step - accuracy: 0.4424 - loss: 0.2970 - val_accuracy: 0.4414 - val_loss: 0.2968\n",
            "Epoch 16/60\n",
            "\u001b[1m947/947\u001b[0m \u001b[32m━━━━━━━━━━━━━━━━━━━━\u001b[0m\u001b[37m\u001b[0m \u001b[1m10s\u001b[0m 7ms/step - accuracy: 0.4420 - loss: 0.2968 - val_accuracy: 0.4413 - val_loss: 0.2967\n",
            "Epoch 17/60\n",
            "\u001b[1m947/947\u001b[0m \u001b[32m━━━━━━━━━━━━━━━━━━━━\u001b[0m\u001b[37m\u001b[0m \u001b[1m11s\u001b[0m 7ms/step - accuracy: 0.4426 - loss: 0.2967 - val_accuracy: 0.4419 - val_loss: 0.2966\n",
            "Epoch 18/60\n",
            "\u001b[1m947/947\u001b[0m \u001b[32m━━━━━━━━━━━━━━━━━━━━\u001b[0m\u001b[37m\u001b[0m \u001b[1m10s\u001b[0m 7ms/step - accuracy: 0.4418 - loss: 0.2969 - val_accuracy: 0.4418 - val_loss: 0.2968\n",
            "Epoch 19/60\n",
            "\u001b[1m947/947\u001b[0m \u001b[32m━━━━━━━━━━━━━━━━━━━━\u001b[0m\u001b[37m\u001b[0m \u001b[1m6s\u001b[0m 6ms/step - accuracy: 0.4424 - loss: 0.2964 - val_accuracy: 0.4421 - val_loss: 0.2965\n",
            "Epoch 20/60\n",
            "\u001b[1m947/947\u001b[0m \u001b[32m━━━━━━━━━━━━━━━━━━━━\u001b[0m\u001b[37m\u001b[0m \u001b[1m11s\u001b[0m 7ms/step - accuracy: 0.4444 - loss: 0.2961 - val_accuracy: 0.4420 - val_loss: 0.2964\n",
            "Epoch 21/60\n",
            "\u001b[1m947/947\u001b[0m \u001b[32m━━━━━━━━━━━━━━━━━━━━\u001b[0m\u001b[37m\u001b[0m \u001b[1m10s\u001b[0m 7ms/step - accuracy: 0.4436 - loss: 0.2962 - val_accuracy: 0.4423 - val_loss: 0.2964\n",
            "Epoch 22/60\n",
            "\u001b[1m947/947\u001b[0m \u001b[32m━━━━━━━━━━━━━━━━━━━━\u001b[0m\u001b[37m\u001b[0m \u001b[1m7s\u001b[0m 7ms/step - accuracy: 0.4444 - loss: 0.2959 - val_accuracy: 0.4419 - val_loss: 0.2964\n",
            "Epoch 23/60\n",
            "\u001b[1m947/947\u001b[0m \u001b[32m━━━━━━━━━━━━━━━━━━━━\u001b[0m\u001b[37m\u001b[0m \u001b[1m10s\u001b[0m 7ms/step - accuracy: 0.4435 - loss: 0.2961 - val_accuracy: 0.4428 - val_loss: 0.2964\n",
            "Epoch 24/60\n",
            "\u001b[1m947/947\u001b[0m \u001b[32m━━━━━━━━━━━━━━━━━━━━\u001b[0m\u001b[37m\u001b[0m \u001b[1m6s\u001b[0m 7ms/step - accuracy: 0.4438 - loss: 0.2959 - val_accuracy: 0.4411 - val_loss: 0.2966\n",
            "Epoch 25/60\n",
            "\u001b[1m947/947\u001b[0m \u001b[32m━━━━━━━━━━━━━━━━━━━━\u001b[0m\u001b[37m\u001b[0m \u001b[1m10s\u001b[0m 7ms/step - accuracy: 0.4441 - loss: 0.2959 - val_accuracy: 0.4420 - val_loss: 0.2963\n",
            "Epoch 26/60\n",
            "\u001b[1m947/947\u001b[0m \u001b[32m━━━━━━━━━━━━━━━━━━━━\u001b[0m\u001b[37m\u001b[0m \u001b[1m7s\u001b[0m 8ms/step - accuracy: 0.4447 - loss: 0.2959 - val_accuracy: 0.4421 - val_loss: 0.2963\n",
            "Epoch 27/60\n",
            "\u001b[1m947/947\u001b[0m \u001b[32m━━━━━━━━━━━━━━━━━━━━\u001b[0m\u001b[37m\u001b[0m \u001b[1m10s\u001b[0m 8ms/step - accuracy: 0.4460 - loss: 0.2956 - val_accuracy: 0.4423 - val_loss: 0.2962\n",
            "Epoch 28/60\n",
            "\u001b[1m947/947\u001b[0m \u001b[32m━━━━━━━━━━━━━━━━━━━━\u001b[0m\u001b[37m\u001b[0m \u001b[1m6s\u001b[0m 7ms/step - accuracy: 0.4455 - loss: 0.2955 - val_accuracy: 0.4429 - val_loss: 0.2960\n",
            "Epoch 29/60\n",
            "\u001b[1m947/947\u001b[0m \u001b[32m━━━━━━━━━━━━━━━━━━━━\u001b[0m\u001b[37m\u001b[0m \u001b[1m7s\u001b[0m 8ms/step - accuracy: 0.4455 - loss: 0.2957 - val_accuracy: 0.4425 - val_loss: 0.2961\n",
            "Epoch 30/60\n",
            "\u001b[1m947/947\u001b[0m \u001b[32m━━━━━━━━━━━━━━━━━━━━\u001b[0m\u001b[37m\u001b[0m \u001b[1m10s\u001b[0m 8ms/step - accuracy: 0.4459 - loss: 0.2953 - val_accuracy: 0.4423 - val_loss: 0.2962\n",
            "Epoch 31/60\n",
            "\u001b[1m947/947\u001b[0m \u001b[32m━━━━━━━━━━━━━━━━━━━━\u001b[0m\u001b[37m\u001b[0m \u001b[1m11s\u001b[0m 8ms/step - accuracy: 0.4448 - loss: 0.2952 - val_accuracy: 0.4435 - val_loss: 0.2961\n",
            "Epoch 32/60\n",
            "\u001b[1m947/947\u001b[0m \u001b[32m━━━━━━━━━━━━━━━━━━━━\u001b[0m\u001b[37m\u001b[0m \u001b[1m7s\u001b[0m 7ms/step - accuracy: 0.4439 - loss: 0.2954 - val_accuracy: 0.4423 - val_loss: 0.2962\n",
            "Epoch 33/60\n",
            "\u001b[1m947/947\u001b[0m \u001b[32m━━━━━━━━━━━━━━━━━━━━\u001b[0m\u001b[37m\u001b[0m \u001b[1m10s\u001b[0m 8ms/step - accuracy: 0.4455 - loss: 0.2954 - val_accuracy: 0.4420 - val_loss: 0.2963\n",
            "Epoch 34/60\n",
            "\u001b[1m947/947\u001b[0m \u001b[32m━━━━━━━━━━━━━━━━━━━━\u001b[0m\u001b[37m\u001b[0m \u001b[1m8s\u001b[0m 8ms/step - accuracy: 0.4456 - loss: 0.2953 - val_accuracy: 0.4425 - val_loss: 0.2963\n",
            "Epoch 35/60\n",
            "\u001b[1m947/947\u001b[0m \u001b[32m━━━━━━━━━━━━━━━━━━━━\u001b[0m\u001b[37m\u001b[0m \u001b[1m8s\u001b[0m 8ms/step - accuracy: 0.4464 - loss: 0.2950 - val_accuracy: 0.4435 - val_loss: 0.2960\n",
            "Epoch 36/60\n",
            "\u001b[1m947/947\u001b[0m \u001b[32m━━━━━━━━━━━━━━━━━━━━\u001b[0m\u001b[37m\u001b[0m \u001b[1m11s\u001b[0m 9ms/step - accuracy: 0.4470 - loss: 0.2949 - val_accuracy: 0.4433 - val_loss: 0.2962\n",
            "Epoch 37/60\n",
            "\u001b[1m947/947\u001b[0m \u001b[32m━━━━━━━━━━━━━━━━━━━━\u001b[0m\u001b[37m\u001b[0m \u001b[1m9s\u001b[0m 8ms/step - accuracy: 0.4464 - loss: 0.2950 - val_accuracy: 0.4425 - val_loss: 0.2962\n",
            "Epoch 38/60\n",
            "\u001b[1m947/947\u001b[0m \u001b[32m━━━━━━━━━━━━━━━━━━━━\u001b[0m\u001b[37m\u001b[0m \u001b[1m10s\u001b[0m 7ms/step - accuracy: 0.4464 - loss: 0.2949 - val_accuracy: 0.4426 - val_loss: 0.2961\n",
            "Epoch 39/60\n",
            "\u001b[1m947/947\u001b[0m \u001b[32m━━━━━━━━━━━━━━━━━━━━\u001b[0m\u001b[37m\u001b[0m \u001b[1m7s\u001b[0m 7ms/step - accuracy: 0.4460 - loss: 0.2948 - val_accuracy: 0.4420 - val_loss: 0.2963\n",
            "Epoch 40/60\n",
            "\u001b[1m947/947\u001b[0m \u001b[32m━━━━━━━━━━━━━━━━━━━━\u001b[0m\u001b[37m\u001b[0m \u001b[1m7s\u001b[0m 7ms/step - accuracy: 0.4484 - loss: 0.2945 - val_accuracy: 0.4427 - val_loss: 0.2961\n",
            "Epoch 41/60\n",
            "\u001b[1m947/947\u001b[0m \u001b[32m━━━━━━━━━━━━━━━━━━━━\u001b[0m\u001b[37m\u001b[0m \u001b[1m7s\u001b[0m 7ms/step - accuracy: 0.4475 - loss: 0.2944 - val_accuracy: 0.4425 - val_loss: 0.2962\n"
          ]
        }
      ]
    },
    {
      "cell_type": "code",
      "source": [
        "plot_training_history(history)"
      ],
      "metadata": {
        "colab": {
          "base_uri": "https://localhost:8080/",
          "height": 507
        },
        "id": "5uXIaapwAn4J",
        "outputId": "ac4468cd-a3cb-4fab-afd7-334f36c6cac5"
      },
      "execution_count": 25,
      "outputs": [
        {
          "output_type": "display_data",
          "data": {
            "text/plain": [
              "<Figure size 1200x500 with 2 Axes>"
            ],
            "image/png": "[encoded data removed]"
          },
          "metadata": {}
        }
      ]
    },
    {
      "cell_type": "code",
      "source": [
        "from sklearn.metrics import classification_report\n",
        "\n",
        "y_pred = model.predict({'dense_input': Xts, 'program_input': Xts_int })\n",
        "print(classification_report(yts.values.argmax(axis=1), y_pred.argmax(axis=1)))\n",
        "acc = np.mean(y_pred.argmax(axis=1) == yts.values.argmax(axis=1))\n",
        "print()\n",
        "print(f\"Test accuracy: {acc}\")"
      ],
      "metadata": {
        "colab": {
          "base_uri": "https://localhost:8080/"
        },
        "id": "QwtXQ47KBw1w",
        "outputId": "e1cb719e-6ec9-4f17-b166-a85e11ae497b"
      },
      "execution_count": 26,
      "outputs": [
        {
          "output_type": "stream",
          "name": "stdout",
          "text": [
            "\u001b[1m6493/6493\u001b[0m \u001b[32m━━━━━━━━━━━━━━━━━━━━\u001b[0m\u001b[37m\u001b[0m \u001b[1m7s\u001b[0m 1ms/step\n",
            "              precision    recall  f1-score   support\n",
            "\n",
            "           0       0.47      0.58      0.52     52173\n",
            "           1       0.34      0.23      0.27     51637\n",
            "           2       0.33      0.32      0.33     51112\n",
            "           3       0.57      0.64      0.60     52828\n",
            "\n",
            "    accuracy                           0.44    207750\n",
            "   macro avg       0.43      0.44      0.43    207750\n",
            "weighted avg       0.43      0.44      0.43    207750\n",
            "\n",
            "\n",
            "Test accuracy: 0.44348977135980744\n"
          ]
        }
      ]
    },
    {
      "cell_type": "markdown",
      "source": [
        "###Buscando más optimización"
      ],
      "metadata": {
        "id": "YhrxvGEVDAfJ"
      }
    },
    {
      "cell_type": "markdown",
      "source": [
        "Se aplica una búsquedad final de un modelo optimo con la ayuda de Keras Tuner usando como base un modelo de dos capas refinando la busqueda a los tamaños de estas alrededor de los previamente encontrados"
      ],
      "metadata": {
        "id": "xYU0huKLDI6Q"
      }
    },
    {
      "cell_type": "code",
      "source": [
        "!pip install keras-tuner --quiet"
      ],
      "metadata": {
        "id": "0f6esRCuDZIA"
      },
      "execution_count": 27,
      "outputs": []
    },
    {
      "cell_type": "code",
      "source": [
        "import keras_tuner as kt\n",
        "\n",
        "def build_model(hp):\n",
        "\n",
        "    input_dense = tf.keras.Input(shape=(Xtr.shape[1],), name=\"dense_input\")\n",
        "    input_program = tf.keras.Input(shape=(1,), name=\"program_input\")\n",
        "\n",
        "    # Embedding layer\n",
        "    embedding = tf.keras.layers.Embedding(input_dim=949, output_dim=10)(input_program)\n",
        "    embedding_flat = tf.keras.layers.Flatten()(embedding)\n",
        "\n",
        "    concat = tf.keras.layers.Concatenate()([input_dense, embedding_flat])\n",
        "    # 2 layers\n",
        "\n",
        "    # layer 1\n",
        "    units = hp.Int(f\"units_{0}\", min_value=152, max_value=280, step=32)\n",
        "    activation = hp.Choice(f\"activation_{0}\", values=[\"gelu\", \"tanh\"])\n",
        "    x = tf.keras.layers.Dense(units, activation=activation)(concat)\n",
        "    x = tf.keras.layers.Dropout(hp.Float(f\"dropout_{0}\", 0.15, 0.25, step=0.05))(x)\n",
        "    # layer 2\n",
        "    units = hp.Int(f\"units_{1}\", min_value=96, max_value=224, step=32)\n",
        "    activation = hp.Choice(f\"activation_{1}\", values=[\"gelu\", \"tanh\"])\n",
        "    x = tf.keras.layers.Dense(units, activation=activation)(x)\n",
        "    x = tf.keras.layers.Dropout(hp.Float(f\"dropout_{1}\", 0.15, 0.25, step=0.05))(x)\n",
        "\n",
        "    # Output\n",
        "    output = tf.keras.layers.Dense(4, activation='softmax')(x)\n",
        "    model = tf.keras.Model(inputs=[input_dense, input_program], outputs=output)\n",
        "\n",
        "    model.compile(optimizer=tf.keras.optimizers.AdamW(learning_rate=0.001),\n",
        "                  loss = tf.keras.losses.CategoricalCrossentropy(from_logits=False),\n",
        "                  metrics=['accuracy'])\n",
        "\n",
        "    return model"
      ],
      "metadata": {
        "id": "4MM6qMN7Dp8z"
      },
      "execution_count": 28,
      "outputs": []
    },
    {
      "cell_type": "code",
      "source": [
        "tuner = kt.RandomSearch(\n",
        "    build_model,\n",
        "    objective=\"val_accuracy\",\n",
        "    max_trials=10,\n",
        "    executions_per_trial=1,\n",
        "    directory=\"kerastuner_dir\",\n",
        "    project_name=\"accuracy_tuning\"\n",
        ")"
      ],
      "metadata": {
        "id": "92XbZEWFEhxw"
      },
      "execution_count": 29,
      "outputs": []
    },
    {
      "cell_type": "code",
      "source": [
        "early_stop = tf.keras.callbacks.EarlyStopping(monitor='val_accuracy', patience=10, restore_best_weights=True)\n",
        "tuner.search({'dense_input': Xtr, 'program_input': Xtr_int}, ytr, epochs=50, validation_split=0.2, batch_size=512,\n",
        "             verbose=1, callbacks=[early_stop])"
      ],
      "metadata": {
        "colab": {
          "base_uri": "https://localhost:8080/"
        },
        "id": "zeQByimAElf4",
        "outputId": "00b22663-e32d-47d6-fa46-20fb4ab79d13"
      },
      "execution_count": 30,
      "outputs": [
        {
          "output_type": "stream",
          "name": "stdout",
          "text": [
            "Trial 10 Complete [00h 06m 05s]\n",
            "val_accuracy: 0.4401753544807434\n",
            "\n",
            "Best val_accuracy So Far: 0.4429190158843994\n",
            "Total elapsed time: 00h 57m 20s\n"
          ]
        }
      ]
    },
    {
      "cell_type": "markdown",
      "source": [
        "####Mejor modelo"
      ],
      "metadata": {
        "id": "nSlKSx_xE0dk"
      }
    },
    {
      "cell_type": "code",
      "source": [
        "best_model = tuner.get_best_models(num_models=1)[0]\n",
        "best_hps = tuner.get_best_hyperparameters(1)[0]\n",
        "\n",
        "print(\"Mejores hiperparámetros:\")\n",
        "for param in best_hps.values:\n",
        "    print(f\"{param}: {best_hps.values[param]}\")"
      ],
      "metadata": {
        "colab": {
          "base_uri": "https://localhost:8080/"
        },
        "id": "Q9_tLLjlE2Mw",
        "outputId": "7c408609-c05a-4f75-d2c1-a996f231149c"
      },
      "execution_count": 31,
      "outputs": [
        {
          "output_type": "stream",
          "name": "stdout",
          "text": [
            "Mejores hiperparámetros:\n",
            "units_0: 184\n",
            "activation_0: gelu\n",
            "dropout_0: 0.25\n",
            "units_1: 192\n",
            "activation_1: gelu\n",
            "dropout_1: 0.25\n"
          ]
        },
        {
          "output_type": "stream",
          "name": "stderr",
          "text": [
            "/usr/local/lib/python3.11/dist-packages/keras/src/saving/saving_lib.py:757: UserWarning: Skipping variable loading for optimizer 'adamw', because it has 2 variables whereas the saved optimizer has 16 variables. \n",
            "  saveable.load_own_variables(weights_store.get(inner_path))\n"
          ]
        }
      ]
    },
    {
      "cell_type": "code",
      "source": [
        "tuner_1 = kt.RandomSearch(\n",
        "    build_model,\n",
        "    objective=\"val_accuracy\",\n",
        "    max_trials=10,\n",
        "    executions_per_trial=1,\n",
        "    directory=\"kerastuner_dir\",\n",
        "    project_name=\"accuracy_tuning3\"\n",
        ")"
      ],
      "metadata": {
        "colab": {
          "base_uri": "https://localhost:8080/"
        },
        "id": "2BR9zbS5jWyw",
        "outputId": "fba014c5-ca13-4a60-fc3b-879be74b8bac"
      },
      "execution_count": 34,
      "outputs": [
        {
          "output_type": "stream",
          "name": "stdout",
          "text": [
            "Reloading Tuner from kerastuner_dir/accuracy_tuning3/tuner0.json\n"
          ]
        }
      ]
    },
    {
      "cell_type": "code",
      "source": [
        "best_model_2 = tuner.get_best_models(num_models=1)[0]\n",
        "best_hps_2 = tuner.get_best_hyperparameters(1)[0]\n",
        "\n",
        "print(\"Mejores hiperparámetros:\")\n",
        "for param in best_hps.values:\n",
        "    print(f\"{param}: {best_hps.values[param]}\")"
      ],
      "metadata": {
        "colab": {
          "base_uri": "https://localhost:8080/"
        },
        "id": "PVDKFhiMjXE1",
        "outputId": "142ff611-d5b3-4e84-b36c-7d9d49f40286"
      },
      "execution_count": 35,
      "outputs": [
        {
          "output_type": "stream",
          "name": "stdout",
          "text": [
            "Mejores hiperparámetros:\n",
            "units_0: 184\n",
            "activation_0: gelu\n",
            "dropout_0: 0.25\n",
            "units_1: 192\n",
            "activation_1: gelu\n",
            "dropout_1: 0.25\n"
          ]
        },
        {
          "output_type": "stream",
          "name": "stderr",
          "text": [
            "/usr/local/lib/python3.11/dist-packages/keras/src/saving/saving_lib.py:757: UserWarning: Skipping variable loading for optimizer 'adamw', because it has 2 variables whereas the saved optimizer has 16 variables. \n",
            "  saveable.load_own_variables(weights_store.get(inner_path))\n"
          ]
        }
      ]
    },
    {
      "cell_type": "markdown",
      "metadata": {
        "id": "DUAQATMeccgv"
      },
      "source": [
        "###Calibración con todo el conjunto de datos"
      ]
    },
    {
      "cell_type": "markdown",
      "source": [
        "####One-hot encoding variable salida"
      ],
      "metadata": {
        "id": "6HPiNgIHmvfc"
      }
    },
    {
      "cell_type": "code",
      "source": [
        "y = pd.get_dummies(y).astype(int)"
      ],
      "metadata": {
        "id": "idbSxNs4mS3c"
      },
      "execution_count": 36,
      "outputs": []
    },
    {
      "cell_type": "markdown",
      "source": [
        "####Descomposición PCA"
      ],
      "metadata": {
        "id": "V1Z0TK_dnMQD"
      }
    },
    {
      "cell_type": "code",
      "source": [
        "pca = PCA(n_components=45)\n",
        "pca.fit(X_scaled)\n",
        "X_scaled = pca.transform(X_scaled)"
      ],
      "metadata": {
        "id": "oT84B30ynLrE"
      },
      "execution_count": 37,
      "outputs": []
    },
    {
      "cell_type": "markdown",
      "source": [
        "#####Ajuste Columna de embedding"
      ],
      "metadata": {
        "id": "2vCjlPDHnWzb"
      }
    },
    {
      "cell_type": "code",
      "source": [
        "print(X_program_int.shape)\n",
        "X_program_int = np.array(X_program_int).reshape(-1, 1)\n",
        "print(X_program_int.shape)"
      ],
      "metadata": {
        "colab": {
          "base_uri": "https://localhost:8080/"
        },
        "id": "gSiuOs_ZnWKC",
        "outputId": "63dcb1a5-809a-42a4-e4a4-a7c8bcdc3789"
      },
      "execution_count": 38,
      "outputs": [
        {
          "output_type": "stream",
          "name": "stdout",
          "text": [
            "(692500,)\n",
            "(692500, 1)\n"
          ]
        }
      ]
    },
    {
      "cell_type": "markdown",
      "source": [
        "####Creacion y ajuste modelo"
      ],
      "metadata": {
        "id": "wpvHIZHSmzXV"
      }
    },
    {
      "cell_type": "code",
      "source": [
        "input_dense = tf.keras.Input(shape=(X_scaled.shape[1],), name=\"dense_input\")\n",
        "\n",
        "input_program = tf.keras.Input(shape=(1,), name=\"program_input\")\n",
        "\n",
        "# Embedding layer\n",
        "embedding = tf.keras.layers.Embedding(input_dim=emb_dim, output_dim=10)(input_program)\n",
        "embedding_flat = tf.keras.layers.Flatten()(embedding)\n",
        "\n",
        "concat = tf.keras.layers.Concatenate()([input_dense, embedding_flat])\n",
        "\n",
        "x = tf.keras.layers.Dense(152, activation='gelu')(concat)\n",
        "x = tf.keras.layers.Dropout(0.25)(x)\n",
        "x = tf.keras.layers.Dense(138, activation='gelu')(x)\n",
        "x = tf.keras.layers.Dropout(0.25)(x)\n",
        "output = tf.keras.layers.Dense(4, activation='softmax')(x)\n",
        "\n",
        "model = tf.keras.Model(inputs=[input_dense, input_program], outputs=output)\n",
        "\n",
        "alpha = tf.constant([0.25, 0.25, 0.25, 0.25], dtype=tf.float32)\n",
        "model.compile(optimizer=tf.keras.optimizers.AdamW(learning_rate=0.001),\n",
        "              loss = tf.keras.losses.CategoricalFocalCrossentropy(gamma=0.0, alpha=alpha),\n",
        "              metrics=['accuracy'])\n"
      ],
      "metadata": {
        "id": "QOBf17Y1myNE"
      },
      "execution_count": 39,
      "outputs": []
    },
    {
      "cell_type": "markdown",
      "source": [
        "#####Entrenamiento"
      ],
      "metadata": {
        "id": "RTCyNPB7nnr7"
      }
    },
    {
      "cell_type": "code",
      "source": [
        "model.fit( {'dense_input': X_scaled, 'program_input': X_program_int}, y, epochs=30, batch_size=512,verbose=1)"
      ],
      "metadata": {
        "colab": {
          "base_uri": "https://localhost:8080/"
        },
        "id": "6GSgoPhInoAr",
        "outputId": "418b7476-7d6c-4dab-e150-7e34605cfe2a"
      },
      "execution_count": 40,
      "outputs": [
        {
          "output_type": "stream",
          "name": "stdout",
          "text": [
            "Epoch 1/30\n",
            "\u001b[1m1353/1353\u001b[0m \u001b[32m━━━━━━━━━━━━━━━━━━━━\u001b[0m\u001b[37m\u001b[0m \u001b[1m13s\u001b[0m 8ms/step - accuracy: 0.4063 - loss: 0.3107\n",
            "Epoch 2/30\n",
            "\u001b[1m1353/1353\u001b[0m \u001b[32m━━━━━━━━━━━━━━━━━━━━\u001b[0m\u001b[37m\u001b[0m \u001b[1m10s\u001b[0m 7ms/step - accuracy: 0.4278 - loss: 0.3025\n",
            "Epoch 3/30\n",
            "\u001b[1m1353/1353\u001b[0m \u001b[32m━━━━━━━━━━━━━━━━━━━━\u001b[0m\u001b[37m\u001b[0m \u001b[1m7s\u001b[0m 5ms/step - accuracy: 0.4322 - loss: 0.3013\n",
            "Epoch 4/30\n",
            "\u001b[1m1353/1353\u001b[0m \u001b[32m━━━━━━━━━━━━━━━━━━━━\u001b[0m\u001b[37m\u001b[0m \u001b[1m11s\u001b[0m 6ms/step - accuracy: 0.4333 - loss: 0.3002\n",
            "Epoch 5/30\n",
            "\u001b[1m1353/1353\u001b[0m \u001b[32m━━━━━━━━━━━━━━━━━━━━\u001b[0m\u001b[37m\u001b[0m \u001b[1m11s\u001b[0m 6ms/step - accuracy: 0.4352 - loss: 0.2996\n",
            "Epoch 6/30\n",
            "\u001b[1m1353/1353\u001b[0m \u001b[32m━━━━━━━━━━━━━━━━━━━━\u001b[0m\u001b[37m\u001b[0m \u001b[1m11s\u001b[0m 7ms/step - accuracy: 0.4366 - loss: 0.2989\n",
            "Epoch 7/30\n",
            "\u001b[1m1353/1353\u001b[0m \u001b[32m━━━━━━━━━━━━━━━━━━━━\u001b[0m\u001b[37m\u001b[0m \u001b[1m9s\u001b[0m 6ms/step - accuracy: 0.4382 - loss: 0.2985\n",
            "Epoch 8/30\n",
            "\u001b[1m1353/1353\u001b[0m \u001b[32m━━━━━━━━━━━━━━━━━━━━\u001b[0m\u001b[37m\u001b[0m \u001b[1m8s\u001b[0m 6ms/step - accuracy: 0.4386 - loss: 0.2984\n",
            "Epoch 9/30\n",
            "\u001b[1m1353/1353\u001b[0m \u001b[32m━━━━━━━━━━━━━━━━━━━━\u001b[0m\u001b[37m\u001b[0m \u001b[1m10s\u001b[0m 6ms/step - accuracy: 0.4391 - loss: 0.2979\n",
            "Epoch 10/30\n",
            "\u001b[1m1353/1353\u001b[0m \u001b[32m━━━━━━━━━━━━━━━━━━━━\u001b[0m\u001b[37m\u001b[0m \u001b[1m8s\u001b[0m 6ms/step - accuracy: 0.4393 - loss: 0.2978\n",
            "Epoch 11/30\n",
            "\u001b[1m1353/1353\u001b[0m \u001b[32m━━━━━━━━━━━━━━━━━━━━\u001b[0m\u001b[37m\u001b[0m \u001b[1m8s\u001b[0m 6ms/step - accuracy: 0.4407 - loss: 0.2973\n",
            "Epoch 12/30\n",
            "\u001b[1m1353/1353\u001b[0m \u001b[32m━━━━━━━━━━━━━━━━━━━━\u001b[0m\u001b[37m\u001b[0m \u001b[1m10s\u001b[0m 6ms/step - accuracy: 0.4411 - loss: 0.2971\n",
            "Epoch 13/30\n",
            "\u001b[1m1353/1353\u001b[0m \u001b[32m━━━━━━━━━━━━━━━━━━━━\u001b[0m\u001b[37m\u001b[0m \u001b[1m10s\u001b[0m 6ms/step - accuracy: 0.4414 - loss: 0.2970\n",
            "Epoch 14/30\n",
            "\u001b[1m1353/1353\u001b[0m \u001b[32m━━━━━━━━━━━━━━━━━━━━\u001b[0m\u001b[37m\u001b[0m \u001b[1m7s\u001b[0m 5ms/step - accuracy: 0.4424 - loss: 0.2967\n",
            "Epoch 15/30\n",
            "\u001b[1m1353/1353\u001b[0m \u001b[32m━━━━━━━━━━━━━━━━━━━━\u001b[0m\u001b[37m\u001b[0m \u001b[1m10s\u001b[0m 6ms/step - accuracy: 0.4417 - loss: 0.2967\n",
            "Epoch 16/30\n",
            "\u001b[1m1353/1353\u001b[0m \u001b[32m━━━━━━━━━━━━━━━━━━━━\u001b[0m\u001b[37m\u001b[0m \u001b[1m11s\u001b[0m 6ms/step - accuracy: 0.4421 - loss: 0.2966\n",
            "Epoch 17/30\n",
            "\u001b[1m1353/1353\u001b[0m \u001b[32m━━━━━━━━━━━━━━━━━━━━\u001b[0m\u001b[37m\u001b[0m \u001b[1m9s\u001b[0m 6ms/step - accuracy: 0.4436 - loss: 0.2961\n",
            "Epoch 18/30\n",
            "\u001b[1m1353/1353\u001b[0m \u001b[32m━━━━━━━━━━━━━━━━━━━━\u001b[0m\u001b[37m\u001b[0m \u001b[1m11s\u001b[0m 8ms/step - accuracy: 0.4429 - loss: 0.2965\n",
            "Epoch 19/30\n",
            "\u001b[1m1353/1353\u001b[0m \u001b[32m━━━━━━━━━━━━━━━━━━━━\u001b[0m\u001b[37m\u001b[0m \u001b[1m12s\u001b[0m 9ms/step - accuracy: 0.4438 - loss: 0.2962\n",
            "Epoch 20/30\n",
            "\u001b[1m1353/1353\u001b[0m \u001b[32m━━━━━━━━━━━━━━━━━━━━\u001b[0m\u001b[37m\u001b[0m \u001b[1m19s\u001b[0m 8ms/step - accuracy: 0.4423 - loss: 0.2963\n",
            "Epoch 21/30\n",
            "\u001b[1m1353/1353\u001b[0m \u001b[32m━━━━━━━━━━━━━━━━━━━━\u001b[0m\u001b[37m\u001b[0m \u001b[1m11s\u001b[0m 8ms/step - accuracy: 0.4428 - loss: 0.2961\n",
            "Epoch 22/30\n",
            "\u001b[1m1353/1353\u001b[0m \u001b[32m━━━━━━━━━━━━━━━━━━━━\u001b[0m\u001b[37m\u001b[0m \u001b[1m20s\u001b[0m 8ms/step - accuracy: 0.4435 - loss: 0.2957\n",
            "Epoch 23/30\n",
            "\u001b[1m1353/1353\u001b[0m \u001b[32m━━━━━━━━━━━━━━━━━━━━\u001b[0m\u001b[37m\u001b[0m \u001b[1m21s\u001b[0m 8ms/step - accuracy: 0.4444 - loss: 0.2958\n",
            "Epoch 24/30\n",
            "\u001b[1m1353/1353\u001b[0m \u001b[32m━━━━━━━━━━━━━━━━━━━━\u001b[0m\u001b[37m\u001b[0m \u001b[1m11s\u001b[0m 8ms/step - accuracy: 0.4465 - loss: 0.2952\n",
            "Epoch 25/30\n",
            "\u001b[1m1353/1353\u001b[0m \u001b[32m━━━━━━━━━━━━━━━━━━━━\u001b[0m\u001b[37m\u001b[0m \u001b[1m11s\u001b[0m 8ms/step - accuracy: 0.4438 - loss: 0.2958\n",
            "Epoch 26/30\n",
            "\u001b[1m1353/1353\u001b[0m \u001b[32m━━━━━━━━━━━━━━━━━━━━\u001b[0m\u001b[37m\u001b[0m \u001b[1m21s\u001b[0m 8ms/step - accuracy: 0.4444 - loss: 0.2956\n",
            "Epoch 27/30\n",
            "\u001b[1m1353/1353\u001b[0m \u001b[32m━━━━━━━━━━━━━━━━━━━━\u001b[0m\u001b[37m\u001b[0m \u001b[1m11s\u001b[0m 8ms/step - accuracy: 0.4463 - loss: 0.2951\n",
            "Epoch 28/30\n",
            "\u001b[1m1353/1353\u001b[0m \u001b[32m━━━━━━━━━━━━━━━━━━━━\u001b[0m\u001b[37m\u001b[0m \u001b[1m11s\u001b[0m 8ms/step - accuracy: 0.4457 - loss: 0.2953\n",
            "Epoch 29/30\n",
            "\u001b[1m1353/1353\u001b[0m \u001b[32m━━━━━━━━━━━━━━━━━━━━\u001b[0m\u001b[37m\u001b[0m \u001b[1m11s\u001b[0m 8ms/step - accuracy: 0.4451 - loss: 0.2955\n",
            "Epoch 30/30\n",
            "\u001b[1m1353/1353\u001b[0m \u001b[32m━━━━━━━━━━━━━━━━━━━━\u001b[0m\u001b[37m\u001b[0m \u001b[1m11s\u001b[0m 8ms/step - accuracy: 0.4449 - loss: 0.2955\n"
          ]
        },
        {
          "output_type": "execute_result",
          "data": {
            "text/plain": [
              "<keras.src.callbacks.history.History at 0x7bfdaa7f7e50>"
            ]
          },
          "metadata": {},
          "execution_count": 40
        }
      ]
    },
    {
      "cell_type": "markdown",
      "metadata": {
        "id": "gtPKec_Lcmb-"
      },
      "source": [
        "##Predicción"
      ]
    },
    {
      "cell_type": "markdown",
      "source": [
        "La carga de datos y preprocesado inicial ya se ha ejecutado hasta la fase de labeling de columna de programas y el target encoding. Se continua ahora el proceso de separación y escalado de las matrices correspondientes"
      ],
      "metadata": {
        "id": "4CNdtoppyckn"
      }
    },
    {
      "cell_type": "markdown",
      "source": [
        "###Separación de matrices"
      ],
      "metadata": {
        "id": "y7VwXYqizrv3"
      }
    },
    {
      "cell_type": "code",
      "source": [
        "X_dense_test = test_df_processed.drop(columns=['ESTU_PRGM_ACADEMICO_INT'])\n",
        "X_program_int_test = test_df_processed['ESTU_PRGM_ACADEMICO_INT']"
      ],
      "metadata": {
        "id": "yKZ1StSUzrPo"
      },
      "execution_count": 41,
      "outputs": []
    },
    {
      "cell_type": "markdown",
      "source": [
        "###Normalización"
      ],
      "metadata": {
        "id": "kBTcGMyj0SKo"
      }
    },
    {
      "cell_type": "code",
      "source": [
        "X_scaled_test = preprocessor.transform(X_dense_test)"
      ],
      "metadata": {
        "id": "7N3ub7yq0Uok"
      },
      "execution_count": 42,
      "outputs": []
    },
    {
      "cell_type": "markdown",
      "source": [
        "###Descomposición PCA"
      ],
      "metadata": {
        "id": "Z-7Jzleh0pMQ"
      }
    },
    {
      "cell_type": "code",
      "source": [
        "X_pca_test = pca.transform(X_scaled_test)"
      ],
      "metadata": {
        "id": "yUftehVG0qpG"
      },
      "execution_count": 43,
      "outputs": []
    },
    {
      "cell_type": "markdown",
      "source": [
        "###Obteniendo Predicción"
      ],
      "metadata": {
        "id": "XbhBWL1I1f2O"
      }
    },
    {
      "cell_type": "code",
      "source": [
        "y_pred = model.predict({'dense_input': X_pca_test, 'program_input': X_program_int_test })\n",
        "y_pred = y_pred.argmax(axis=1)"
      ],
      "metadata": {
        "colab": {
          "base_uri": "https://localhost:8080/"
        },
        "id": "qIy1AERE1fNg",
        "outputId": "05e97f47-d574-4901-f46a-ee3ac71a3d1f"
      },
      "execution_count": 44,
      "outputs": [
        {
          "output_type": "stream",
          "name": "stdout",
          "text": [
            "\u001b[1m9275/9275\u001b[0m \u001b[32m━━━━━━━━━━━━━━━━━━━━\u001b[0m\u001b[37m\u001b[0m \u001b[1m10s\u001b[0m 1ms/step\n"
          ]
        }
      ]
    },
    {
      "cell_type": "code",
      "source": [
        "y_pred[:30]"
      ],
      "metadata": {
        "colab": {
          "base_uri": "https://localhost:8080/"
        },
        "id": "hHU8S37p2eN_",
        "outputId": "15634548-38ed-4a03-8c2c-52cc30925a34"
      },
      "execution_count": 45,
      "outputs": [
        {
          "output_type": "execute_result",
          "data": {
            "text/plain": [
              "array([0, 2, 3, 0, 0, 0, 3, 3, 0, 3, 3, 2, 3, 3, 3, 1, 3, 0, 1, 1, 0, 0,\n",
              "       2, 1, 1, 0, 3, 0, 0, 2])"
            ]
          },
          "metadata": {},
          "execution_count": 45
        }
      ]
    },
    {
      "cell_type": "markdown",
      "metadata": {
        "id": "-xr4ywFzdWJt"
      },
      "source": [
        "###Dataframe de predicción"
      ]
    },
    {
      "cell_type": "code",
      "execution_count": 46,
      "metadata": {
        "colab": {
          "base_uri": "https://localhost:8080/",
          "height": 255
        },
        "id": "IQBO7Kw8dY_1",
        "outputId": "93b5d1ca-36fd-431d-e57d-f85465f87f1f"
      },
      "outputs": [
        {
          "output_type": "stream",
          "name": "stdout",
          "text": [
            "(296786, 1)\n"
          ]
        },
        {
          "output_type": "execute_result",
          "data": {
            "text/plain": [
              "       RENDIMIENTO_GLOBAL\n",
              "ID                       \n",
              "550236               bajo\n",
              "98545          medio-alto\n",
              "499179               alto\n",
              "782980               bajo\n",
              "785185               bajo"
            ],
            "text/html": [
              "\n",
              "  <div id=\"df-b2b29623-688a-442f-9ca2-66f2231833b7\" class=\"colab-df-container\">\n",
              "    <div>\n",
              "<style scoped>\n",
              "    .dataframe tbody tr th:only-of-type {\n",
              "        vertical-align: middle;\n",
              "    }\n",
              "\n",
              "    .dataframe tbody tr th {\n",
              "        vertical-align: top;\n",
              "    }\n",
              "\n",
              "    .dataframe thead th {\n",
              "        text-align: right;\n",
              "    }\n",
              "</style>\n",
              "<table border=\"1\" class=\"dataframe\">\n",
              "  <thead>\n",
              "    <tr style=\"text-align: right;\">\n",
              "      <th></th>\n",
              "      <th>RENDIMIENTO_GLOBAL</th>\n",
              "    </tr>\n",
              "    <tr>\n",
              "      <th>ID</th>\n",
              "      <th></th>\n",
              "    </tr>\n",
              "  </thead>\n",
              "  <tbody>\n",
              "    <tr>\n",
              "      <th>550236</th>\n",
              "      <td>bajo</td>\n",
              "    </tr>\n",
              "    <tr>\n",
              "      <th>98545</th>\n",
              "      <td>medio-alto</td>\n",
              "    </tr>\n",
              "    <tr>\n",
              "      <th>499179</th>\n",
              "      <td>alto</td>\n",
              "    </tr>\n",
              "    <tr>\n",
              "      <th>782980</th>\n",
              "      <td>bajo</td>\n",
              "    </tr>\n",
              "    <tr>\n",
              "      <th>785185</th>\n",
              "      <td>bajo</td>\n",
              "    </tr>\n",
              "  </tbody>\n",
              "</table>\n",
              "</div>\n",
              "    <div class=\"colab-df-buttons\">\n",
              "\n",
              "  <div class=\"colab-df-container\">\n",
              "    <button class=\"colab-df-convert\" onclick=\"convertToInteractive('df-b2b29623-688a-442f-9ca2-66f2231833b7')\"\n",
              "            title=\"Convert this dataframe to an interactive table.\"\n",
              "            style=\"display:none;\">\n",
              "\n",
              "  <svg xmlns=\"http://www.w3.org/2000/svg\" height=\"24px\" viewBox=\"0 -960 960 960\">\n",
              "    <path d=\"M120-120v-720h720v720H120Zm60-500h600v-160H180v160Zm220 220h160v-160H400v160Zm0 220h160v-160H400v160ZM180-400h160v-160H180v160Zm440 0h160v-160H620v160ZM180-180h160v-160H180v160Zm440 0h160v-160H620v160Z\"/>\n",
              "  </svg>\n",
              "    </button>\n",
              "\n",
              "  <style>\n",
              "    .colab-df-container {\n",
              "      display:flex;\n",
              "      gap: 12px;\n",
              "    }\n",
              "\n",
              "    .colab-df-convert {\n",
              "      background-color: #E8F0FE;\n",
              "      border: none;\n",
              "      border-radius: 50%;\n",
              "      cursor: pointer;\n",
              "      display: none;\n",
              "      fill: #1967D2;\n",
              "      height: 32px;\n",
              "      padding: 0 0 0 0;\n",
              "      width: 32px;\n",
              "    }\n",
              "\n",
              "    .colab-df-convert:hover {\n",
              "      background-color: #E2EBFA;\n",
              "      box-shadow: 0px 1px 2px rgba(60, 64, 67, 0.3), 0px 1px 3px 1px rgba(60, 64, 67, 0.15);\n",
              "      fill: #174EA6;\n",
              "    }\n",
              "\n",
              "    .colab-df-buttons div {\n",
              "      margin-bottom: 4px;\n",
              "    }\n",
              "\n",
              "    [theme=dark] .colab-df-convert {\n",
              "      background-color: #3B4455;\n",
              "      fill: #D2E3FC;\n",
              "    }\n",
              "\n",
              "    [theme=dark] .colab-df-convert:hover {\n",
              "      background-color: #434B5C;\n",
              "      box-shadow: 0px 1px 3px 1px rgba(0, 0, 0, 0.15);\n",
              "      filter: drop-shadow(0px 1px 2px rgba(0, 0, 0, 0.3));\n",
              "      fill: #FFFFFF;\n",
              "    }\n",
              "  </style>\n",
              "\n",
              "    <script>\n",
              "      const buttonEl =\n",
              "        document.querySelector('#df-b2b29623-688a-442f-9ca2-66f2231833b7 button.colab-df-convert');\n",
              "      buttonEl.style.display =\n",
              "        google.colab.kernel.accessAllowed ? 'block' : 'none';\n",
              "\n",
              "      async function convertToInteractive(key) {\n",
              "        const element = document.querySelector('#df-b2b29623-688a-442f-9ca2-66f2231833b7');\n",
              "        const dataTable =\n",
              "          await google.colab.kernel.invokeFunction('convertToInteractive',\n",
              "                                                    [key], {});\n",
              "        if (!dataTable) return;\n",
              "\n",
              "        const docLinkHtml = 'Like what you see? Visit the ' +\n",
              "          '<a target=\"_blank\" href=https://colab.research.google.com/notebooks/data_table.ipynb>data table notebook</a>'\n",
              "          + ' to learn more about interactive tables.';\n",
              "        element.innerHTML = '';\n",
              "        dataTable['output_type'] = 'display_data';\n",
              "        await google.colab.output.renderOutput(dataTable, element);\n",
              "        const docLink = document.createElement('div');\n",
              "        docLink.innerHTML = docLinkHtml;\n",
              "        element.appendChild(docLink);\n",
              "      }\n",
              "    </script>\n",
              "  </div>\n",
              "\n",
              "\n",
              "    <div id=\"df-29804594-be7f-4dfc-939d-9b4588c2b20b\">\n",
              "      <button class=\"colab-df-quickchart\" onclick=\"quickchart('df-29804594-be7f-4dfc-939d-9b4588c2b20b')\"\n",
              "                title=\"Suggest charts\"\n",
              "                style=\"display:none;\">\n",
              "\n",
              "<svg xmlns=\"http://www.w3.org/2000/svg\" height=\"24px\"viewBox=\"0 0 24 24\"\n",
              "     width=\"24px\">\n",
              "    <g>\n",
              "        <path d=\"M19 3H5c-1.1 0-2 .9-2 2v14c0 1.1.9 2 2 2h14c1.1 0 2-.9 2-2V5c0-1.1-.9-2-2-2zM9 17H7v-7h2v7zm4 0h-2V7h2v10zm4 0h-2v-4h2v4z\"/>\n",
              "    </g>\n",
              "</svg>\n",
              "      </button>\n",
              "\n",
              "<style>\n",
              "  .colab-df-quickchart {\n",
              "      --bg-color: #E8F0FE;\n",
              "      --fill-color: #1967D2;\n",
              "      --hover-bg-color: #E2EBFA;\n",
              "      --hover-fill-color: #174EA6;\n",
              "      --disabled-fill-color: #AAA;\n",
              "      --disabled-bg-color: #DDD;\n",
              "  }\n",
              "\n",
              "  [theme=dark] .colab-df-quickchart {\n",
              "      --bg-color: #3B4455;\n",
              "      --fill-color: #D2E3FC;\n",
              "      --hover-bg-color: #434B5C;\n",
              "      --hover-fill-color: #FFFFFF;\n",
              "      --disabled-bg-color: #3B4455;\n",
              "      --disabled-fill-color: #666;\n",
              "  }\n",
              "\n",
              "  .colab-df-quickchart {\n",
              "    background-color: var(--bg-color);\n",
              "    border: none;\n",
              "    border-radius: 50%;\n",
              "    cursor: pointer;\n",
              "    display: none;\n",
              "    fill: var(--fill-color);\n",
              "    height: 32px;\n",
              "    padding: 0;\n",
              "    width: 32px;\n",
              "  }\n",
              "\n",
              "  .colab-df-quickchart:hover {\n",
              "    background-color: var(--hover-bg-color);\n",
              "    box-shadow: 0 1px 2px rgba(60, 64, 67, 0.3), 0 1px 3px 1px rgba(60, 64, 67, 0.15);\n",
              "    fill: var(--button-hover-fill-color);\n",
              "  }\n",
              "\n",
              "  .colab-df-quickchart-complete:disabled,\n",
              "  .colab-df-quickchart-complete:disabled:hover {\n",
              "    background-color: var(--disabled-bg-color);\n",
              "    fill: var(--disabled-fill-color);\n",
              "    box-shadow: none;\n",
              "  }\n",
              "\n",
              "  .colab-df-spinner {\n",
              "    border: 2px solid var(--fill-color);\n",
              "    border-color: transparent;\n",
              "    border-bottom-color: var(--fill-color);\n",
              "    animation:\n",
              "      spin 1s steps(1) infinite;\n",
              "  }\n",
              "\n",
              "  @keyframes spin {\n",
              "    0% {\n",
              "      border-color: transparent;\n",
              "      border-bottom-color: var(--fill-color);\n",
              "      border-left-color: var(--fill-color);\n",
              "    }\n",
              "    20% {\n",
              "      border-color: transparent;\n",
              "      border-left-color: var(--fill-color);\n",
              "      border-top-color: var(--fill-color);\n",
              "    }\n",
              "    30% {\n",
              "      border-color: transparent;\n",
              "      border-left-color: var(--fill-color);\n",
              "      border-top-color: var(--fill-color);\n",
              "      border-right-color: var(--fill-color);\n",
              "    }\n",
              "    40% {\n",
              "      border-color: transparent;\n",
              "      border-right-color: var(--fill-color);\n",
              "      border-top-color: var(--fill-color);\n",
              "    }\n",
              "    60% {\n",
              "      border-color: transparent;\n",
              "      border-right-color: var(--fill-color);\n",
              "    }\n",
              "    80% {\n",
              "      border-color: transparent;\n",
              "      border-right-color: var(--fill-color);\n",
              "      border-bottom-color: var(--fill-color);\n",
              "    }\n",
              "    90% {\n",
              "      border-color: transparent;\n",
              "      border-bottom-color: var(--fill-color);\n",
              "    }\n",
              "  }\n",
              "</style>\n",
              "\n",
              "      <script>\n",
              "        async function quickchart(key) {\n",
              "          const quickchartButtonEl =\n",
              "            document.querySelector('#' + key + ' button');\n",
              "          quickchartButtonEl.disabled = true;  // To prevent multiple clicks.\n",
              "          quickchartButtonEl.classList.add('colab-df-spinner');\n",
              "          try {\n",
              "            const charts = await google.colab.kernel.invokeFunction(\n",
              "                'suggestCharts', [key], {});\n",
              "          } catch (error) {\n",
              "            console.error('Error during call to suggestCharts:', error);\n",
              "          }\n",
              "          quickchartButtonEl.classList.remove('colab-df-spinner');\n",
              "          quickchartButtonEl.classList.add('colab-df-quickchart-complete');\n",
              "        }\n",
              "        (() => {\n",
              "          let quickchartButtonEl =\n",
              "            document.querySelector('#df-29804594-be7f-4dfc-939d-9b4588c2b20b button');\n",
              "          quickchartButtonEl.style.display =\n",
              "            google.colab.kernel.accessAllowed ? 'block' : 'none';\n",
              "        })();\n",
              "      </script>\n",
              "    </div>\n",
              "\n",
              "    </div>\n",
              "  </div>\n"
            ],
            "application/vnd.google.colaboratory.intrinsic+json": {
              "type": "dataframe",
              "variable_name": "prediction_df"
            }
          },
          "metadata": {},
          "execution_count": 46
        }
      ],
      "source": [
        "grades = [\"bajo\", \"medio-bajo\", \"medio-alto\", \"alto\"]\n",
        "y_pred = pd.DataFrame(y_pred, columns=['RENDIMIENTO_GLOBAL'])\n",
        "y_pred = y_pred.replace(dict(zip(range(4), grades)))\n",
        "y_pred.head()\n",
        "prediction_df = pd.concat([test_df['ID'], y_pred], axis=1).set_index('ID')\n",
        "print(prediction_df.shape)\n",
        "prediction_df.head()"
      ]
    },
    {
      "cell_type": "markdown",
      "metadata": {
        "id": "5U32hy8TecVW"
      },
      "source": [
        "###Exportando el archivo"
      ]
    },
    {
      "cell_type": "code",
      "execution_count": 47,
      "metadata": {
        "id": "Khg27SncefLN"
      },
      "outputs": [],
      "source": [
        "prediction_df.to_csv(\"submission.csv\")"
      ]
    }
  ],
  "metadata": {
    "colab": {
      "collapsed_sections": [
        "nNnY70HxOcjD"
      ],
      "provenance": []
    },
    "kernelspec": {
      "display_name": "Python 3",
      "name": "python3"
    },
    "language_info": {
      "name": "python"
    }
  },
  "nbformat": 4,
  "nbformat_minor": 0
}