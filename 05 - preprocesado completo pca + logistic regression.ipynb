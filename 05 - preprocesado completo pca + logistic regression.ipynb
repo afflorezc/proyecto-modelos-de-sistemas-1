{
  "nbformat": 4,
  "nbformat_minor": 0,
  "metadata": {
    "colab": {
      "provenance": [],
      "collapsed_sections": [
        "nNnY70HxOcjD"
      ]
    },
    "kernelspec": {
      "name": "python3",
      "display_name": "Python 3"
    },
    "language_info": {
      "name": "python"
    }
  },
  "cells": [
    {
      "cell_type": "markdown",
      "source": [
        "#Modelo de clasificación: Procesado completo + PCA + Logistic Regression"
      ],
      "metadata": {
        "id": "DfUbjBRvNidl"
      }
    },
    {
      "cell_type": "markdown",
      "source": [
        "Aplicando los resultados favorables respecto a una descomposición PCA inicial de los datos procedemos ahora a estudiar como se comporta un modelo de regresión logistica, además que este servirá de base para estudiar las redes neuronales, ya que este algoritmo es la base de dichos modelos."
      ],
      "metadata": {
        "id": "lqm44-bVNqWD"
      }
    },
    {
      "cell_type": "markdown",
      "source": [
        "##Instrucciones Generales"
      ],
      "metadata": {
        "id": "rGntO3IJLzkd"
      }
    },
    {
      "cell_type": "markdown",
      "source": [
        "Para poder ejecutar el procesamiento propuesto, es necesario cargar tanto los archivos de la competencia de kaggle como el archivo de categorización manual de programas por área de conocimiento.\n",
        "\n",
        "Para cargar los archivos de la competencia se puede:\n",
        "\n",
        "1. Descargar directamente desde la página de kaggle: https://www.kaggle.com/competitions/udea-ai-4-eng-20251-pruebas-saber-pro-colombia/data y luego cargar manualmente al entorno\n",
        "\n",
        "2. O ejecutar las celdas de carga directa utilizando una api-key propia de kaggle (archivo kaggle.json) que se debe cargar al entorno\n",
        "\n",
        "Finalmente se debe cargar el archivo Categorias.csv que se ha enlazado en el repositorio github de esta solución para poder aplicar el procesamiento"
      ],
      "metadata": {
        "id": "twSH_nXoL2D8"
      }
    },
    {
      "cell_type": "markdown",
      "source": [
        "##Importaciones básicas"
      ],
      "metadata": {
        "id": "PbMFs62zN-gj"
      }
    },
    {
      "cell_type": "code",
      "source": [
        "import numpy as np\n",
        "import matplotlib.pyplot as plt\n",
        "from sklearn.linear_model import LogisticRegression\n",
        "import pandas as pd\n",
        "%matplotlib inline"
      ],
      "metadata": {
        "id": "ts2WsxmVOA2z"
      },
      "execution_count": null,
      "outputs": []
    },
    {
      "cell_type": "markdown",
      "source": [
        "##Preprocesado de los datos"
      ],
      "metadata": {
        "id": "vYyfPawvNy-U"
      }
    },
    {
      "cell_type": "markdown",
      "source": [
        "###Carga de los datos"
      ],
      "metadata": {
        "id": "dBwYB-IYN2-k"
      }
    },
    {
      "cell_type": "code",
      "source": [
        "!mkdir /root/.config/kaggle\n",
        "!mv kaggle.json /root/.config/kaggle/kaggle.json"
      ],
      "metadata": {
        "id": "k41D6ipJN6KT"
      },
      "execution_count": null,
      "outputs": []
    },
    {
      "cell_type": "code",
      "source": [
        "!chmod 600 /root/.config/kaggle/kaggle.json\n",
        "!kaggle competitions download -c udea-ai-4-eng-20251-pruebas-saber-pro-colombia\n",
        "!unzip udea-ai-4-eng-20251-pruebas-saber-pro-colombia.zip"
      ],
      "metadata": {
        "colab": {
          "base_uri": "https://localhost:8080/"
        },
        "id": "Frutv7pqOGMD",
        "outputId": "255a1b55-1a42-421b-ab80-49bf87f7dc79"
      },
      "execution_count": null,
      "outputs": [
        {
          "output_type": "stream",
          "name": "stdout",
          "text": [
            "Downloading udea-ai-4-eng-20251-pruebas-saber-pro-colombia.zip to /content\n",
            "\r  0% 0.00/29.9M [00:00<?, ?B/s]\n",
            "\r100% 29.9M/29.9M [00:00<00:00, 1.14GB/s]\n",
            "Archive:  udea-ai-4-eng-20251-pruebas-saber-pro-colombia.zip\n",
            "  inflating: submission_example.csv  \n",
            "  inflating: test.csv                \n",
            "  inflating: train.csv               \n"
          ]
        }
      ]
    },
    {
      "cell_type": "markdown",
      "source": [],
      "metadata": {
        "id": "EUurelHHjcVE"
      }
    },
    {
      "cell_type": "markdown",
      "source": [
        "###Creacion dataframe y su transformación"
      ],
      "metadata": {
        "id": "2LPe7Td7N5Y7"
      }
    },
    {
      "cell_type": "markdown",
      "source": [
        "####Definición de las funciones de transformación"
      ],
      "metadata": {
        "id": "nNnY70HxOcjD"
      }
    },
    {
      "cell_type": "code",
      "source": [
        "## Transformar columnas de si o no\n",
        "def to_binary(df, columns):\n",
        "\n",
        "  df_copy = df.copy()\n",
        "\n",
        "  for col in columns:\n",
        "    not_null_column =  df_copy.loc[~df_copy[col].isna()]\n",
        "    not_null_column = ((not_null_column ==\"Si\") | (not_null_column == \"S\")).astype(int)\n",
        "    df_copy.loc[~df_copy[col].isna(), col] = not_null_column[col]\n",
        "\n",
        "  return df_copy\n",
        "\n",
        "## Transformación rangos categoricos con orden implicito\n",
        "def define_education_levels():\n",
        "  education = []\n",
        "  education.append(\"Ninguno\")\n",
        "  education.append(\"Primaria incompleta\")\n",
        "  education.append(\"Primaria completa\")\n",
        "  education.append(\"Secundaria (Bachillerato) incompleta\")\n",
        "  education.append(\"Secundaria (Bachillerato) completa\")\n",
        "  education.append(\"Técnica o tecnológica incompleta\")\n",
        "  education.append(\"No Aplica\")\n",
        "  education.append(\"No sabe\")\n",
        "  education.append(\"Técnica o tecnológica completa\")\n",
        "  education.append(\"Educación profesional incompleta\")\n",
        "  education.append(\"Educación profesional completa\")\n",
        "  education.append(\"Postgrado\")\n",
        "  return education\n",
        "\n",
        "def to_ordered_categories(df, column, values):\n",
        "\n",
        "  df_copy = df.copy()\n",
        "  keys = [int(i) for i in range(len(values))]\n",
        "  replacement = dict(zip(values, keys))\n",
        "  df_copy[column] = df_copy[column].replace(replacement)\n",
        "  return df_copy\n",
        "\n",
        "## Transformación one hot\n",
        "def to_onehot(x):\n",
        "    values = np.unique(x)\n",
        "    r = np.r_[[np.argwhere(i==values)[0][0] for i in x]]\n",
        "    return np.eye(len(values))[r].astype(int)\n",
        "\n",
        "def replace_columns_with_onehot(d, col):\n",
        "    k = to_onehot(d[col].values)\n",
        "    r = pd.DataFrame(k, columns=[\"%s_%d\"%(col, i) for i in range(k.shape[1])], index=d.index).join(d)\n",
        "    del(r[col])\n",
        "    return r\n",
        "\n",
        "def create_dictionary_programs(programs_df):\n",
        "  programs = {}\n",
        "  for program, cat in zip(programs_df['PROGRAMA   '], programs_df['CATEGORIA']):\n",
        "    if cat not in programs.keys():\n",
        "      programs[cat] = [program]\n",
        "    else:\n",
        "      programs[cat].append(program)\n",
        "\n",
        "  return programs\n",
        "\n",
        "def add_knowledge_area_cols(df, programs):\n",
        "  df_copy = df.copy()\n",
        "\n",
        "  for area in programs.keys():\n",
        "    column = pd.DataFrame(np.zeros(df_copy.shape[0]).astype(int), columns =[area])\n",
        "    df_copy = df_copy.join(column)\n",
        "\n",
        "  other_column = pd.DataFrame(np.zeros(df_copy.shape[0]).astype(int), columns =['OTRO'])\n",
        "  df_copy = df_copy.join(other_column)\n",
        "\n",
        "  return df_copy\n",
        "\n",
        "def categorize_programs(df, programs):\n",
        "  df_copy = df.copy()\n",
        "\n",
        "  def assign_area(program):\n",
        "    for area in programs.keys():\n",
        "      if program in programs[area]:\n",
        "        return area\n",
        "\n",
        "    return 'OTRO'\n",
        "\n",
        "  df_copy['AREA_TMP'] = df_copy['ESTU_PRGM_ACADEMICO'].apply(assign_area)\n",
        "\n",
        "  for area in programs.keys():\n",
        "      df_copy[area] = (df_copy['AREA_TMP'] == area).astype(int)\n",
        "\n",
        "  df_copy['OTRO'] = (df_copy['AREA_TMP'] == 'OTRO').astype(int)\n",
        "  df_copy = df_copy.drop(columns=['AREA_TMP'])\n",
        "\n",
        "  return df_copy\n",
        "\n",
        "def fill_nulls(df, columns):\n",
        "\n",
        "  df_copy = df.copy()\n",
        "  for col in columns:\n",
        "    p = []\n",
        "    n = df_copy[col].dropna().shape[0]\n",
        "    for val in df_copy[col].dropna().unique():\n",
        "      p.append(np.sum(df_copy[col]==val)/n)\n",
        "\n",
        "    total_nulls = df_copy[col].shape[0]-n\n",
        "    values = np.random.choice(df_copy[col].dropna().unique(),size=total_nulls, p=p)\n",
        "\n",
        "    df_copy.loc[df_copy[col].isna(),col] = values.astype(int)\n",
        "    df_copy[col] = df_copy[col].astype(int)\n",
        "\n",
        "  return df_copy"
      ],
      "metadata": {
        "id": "lsXNg6c5OiOT"
      },
      "execution_count": null,
      "outputs": []
    },
    {
      "cell_type": "code",
      "execution_count": null,
      "metadata": {
        "id": "irSW4cICFsGv"
      },
      "outputs": [],
      "source": [
        "def process_data(df, programs_df):\n",
        "\n",
        "  df_copy = df.copy()\n",
        "  # drop ID column - repeated internet\n",
        "  del(df_copy['ID'])\n",
        "  df_copy = df_copy.drop(columns=['FAMI_TIENEINTERNET.1'])\n",
        "  # Cambio a binarias\n",
        "  columns = ['FAMI_TIENEINTERNET','FAMI_TIENELAVADORA','FAMI_TIENEAUTOMOVIL',\n",
        "           'FAMI_TIENECOMPUTADOR','ESTU_PAGOMATRICULAPROPIO', 'ESTU_PRIVADO_LIBERTAD']\n",
        "\n",
        "  df_copy = to_binary(df_copy, columns)\n",
        "  ## Categorias ordenadas\n",
        "  # Estrato\n",
        "  values = [\"Sin Estrato\", \"Estrato 1\", \"Estrato 2\", \"Estrato 3\", \"Estrato 4\", \"Estrato 5\", \"Estrato 6\"]\n",
        "  df_copy = to_ordered_categories(df_copy, \"FAMI_ESTRATOVIVIENDA\", values)\n",
        "  # Educacion padres\n",
        "  education = define_education_levels()\n",
        "  df_copy = to_ordered_categories(df_copy, \"FAMI_EDUCACIONPADRE\", education)\n",
        "  df_copy = to_ordered_categories(df_copy, \"FAMI_EDUCACIONMADRE\", education)\n",
        "  # horas trabajo\n",
        "  values = ['0', 'Menos de 10 horas', 'Entre 11 y 20 horas', 'Entre 21 y 30 horas', 'Más de 30 horas']\n",
        "  df_copy = to_ordered_categories(df_copy,\"ESTU_HORASSEMANATRABAJA\", values)\n",
        "  # valor matricula\n",
        "  values = ['No pagó matrícula', 'Menos de 500 mil', 'Entre 500 mil y menos de 1 millón', 'Entre 1 millón y menos de 2.5 millones',\n",
        "          'Entre 2.5 millones y menos de 4 millones', 'Entre 4 millones y menos de 5.5 millones',\n",
        "          'Entre 5.5 millones y menos de 7 millones','Más de 7 millones']\n",
        "\n",
        "  df_copy = to_ordered_categories(df_copy,\"ESTU_VALORMATRICULAUNIVERSIDAD\", values)\n",
        "  # periodo\n",
        "  values = [20183, 20184, 20194, 20195, 20196, 20202, 20203, 20212, 20213]\n",
        "  df_copy = to_ordered_categories(df_copy,\"PERIODO\", values)\n",
        "  # Variable respuesta\n",
        "  if 'RENDIMIENTO_GLOBAL' in df_copy.columns:\n",
        "    grades = [\"bajo\", \"medio-bajo\", \"medio-alto\", \"alto\"]\n",
        "    df_copy = to_ordered_categories(df_copy,\"RENDIMIENTO_GLOBAL\", grades)\n",
        "\n",
        "  # One hot  departamentos\n",
        "  df_copy = replace_columns_with_onehot(df_copy, 'ESTU_PRGM_DEPARTAMENTO')\n",
        "\n",
        "  # Areas de conocimiento - clasificación programas\n",
        "  # creacion diccionario\n",
        "  programs = create_dictionary_programs(programs_df)\n",
        "  # creacion columnas\n",
        "  df_copy = add_knowledge_area_cols(df_copy, programs)\n",
        "  # categorizacion\n",
        "  df_copy = categorize_programs(df_copy, programs)\n",
        "\n",
        "  # Relleno nulos\n",
        "  columns = ['FAMI_TIENEINTERNET','FAMI_TIENELAVADORA','FAMI_TIENEAUTOMOVIL','FAMI_TIENECOMPUTADOR',\n",
        "           'ESTU_PAGOMATRICULAPROPIO','ESTU_PRIVADO_LIBERTAD', 'FAMI_ESTRATOVIVIENDA','FAMI_EDUCACIONPADRE',\n",
        "           'FAMI_EDUCACIONMADRE', 'ESTU_HORASSEMANATRABAJA','ESTU_VALORMATRICULAUNIVERSIDAD']\n",
        "\n",
        "  df_copy = fill_nulls(df_copy, columns)\n",
        "  df_copy = df_copy.drop(columns=['ESTU_PRGM_ACADEMICO'])\n",
        "\n",
        "  return df_copy"
      ]
    },
    {
      "cell_type": "markdown",
      "source": [
        "####Dataframe resultante"
      ],
      "metadata": {
        "id": "YR7rblhLOk_T"
      }
    },
    {
      "cell_type": "code",
      "source": [
        "try:\n",
        "  df = pd.read_csv(\"train.csv\")\n",
        "except:\n",
        "  print(\"No se ha cargado el archivo train.csv al entorno\")"
      ],
      "metadata": {
        "id": "e_WZNffqHNCI"
      },
      "execution_count": null,
      "outputs": []
    },
    {
      "cell_type": "code",
      "source": [
        "try:\n",
        "    programs_df = pd.read_csv('Categorias.csv', sep=';',encoding='latin-1')\n",
        "    programs_df = programs_df.sample(frac=0.70, random_state=42)\n",
        "    df = process_data(df, programs_df)\n",
        "    print(df.shape)\n",
        "except:\n",
        "    print(\"No se ha cargado el archivo Categorias.csv al entorno\")"
      ],
      "metadata": {
        "colab": {
          "base_uri": "https://localhost:8080/"
        },
        "id": "a2uSaGYaOlOy",
        "outputId": "6b007835-4ff7-42a5-f2a2-25bd756431b7"
      },
      "execution_count": null,
      "outputs": [
        {
          "output_type": "stream",
          "name": "stderr",
          "text": [
            "/tmp/ipython-input-6-3166745170.py:35: FutureWarning: Downcasting behavior in `replace` is deprecated and will be removed in a future version. To retain the old behavior, explicitly call `result.infer_objects(copy=False)`. To opt-in to the future behavior, set `pd.set_option('future.no_silent_downcasting', True)`\n",
            "  df_copy[column] = df_copy[column].replace(replacement)\n"
          ]
        },
        {
          "output_type": "stream",
          "name": "stdout",
          "text": [
            "(692500, 58)\n"
          ]
        }
      ]
    },
    {
      "cell_type": "markdown",
      "source": [
        "###Separación de los datos"
      ],
      "metadata": {
        "id": "hVYPB3SdSlzq"
      }
    },
    {
      "cell_type": "code",
      "source": [
        "X = df.drop(columns=['RENDIMIENTO_GLOBAL'])\n",
        "y = df['RENDIMIENTO_GLOBAL']\n",
        "print(X.shape)\n",
        "print(y.shape)"
      ],
      "metadata": {
        "colab": {
          "base_uri": "https://localhost:8080/"
        },
        "id": "xeWIN52cSsLh",
        "outputId": "15ff9ba8-da8f-412a-eee3-73332a51096e"
      },
      "execution_count": null,
      "outputs": [
        {
          "output_type": "stream",
          "name": "stdout",
          "text": [
            "(692500, 57)\n",
            "(692500,)\n"
          ]
        }
      ]
    },
    {
      "cell_type": "markdown",
      "source": [
        "##Creación y evaluacion del modelo"
      ],
      "metadata": {
        "id": "csB8PsImPB9D"
      }
    },
    {
      "cell_type": "markdown",
      "source": [
        "###Split de los datos de la muestra con train: 70% - test: 30%"
      ],
      "metadata": {
        "id": "nTwVvCFTPDrb"
      }
    },
    {
      "cell_type": "code",
      "source": [
        "from sklearn.model_selection import train_test_split\n",
        "Xtr, Xts, ytr, yts = train_test_split(X,y, test_size=0.3)\n",
        "\n",
        "lr = LogisticRegression(class_weight='balanced', solver='newton-cholesky',penalty='l2')"
      ],
      "metadata": {
        "id": "hZlM5bYPPD77"
      },
      "execution_count": null,
      "outputs": []
    },
    {
      "cell_type": "markdown",
      "source": [
        "###Modelo y calibración"
      ],
      "metadata": {
        "id": "YuCUpnLtUYrC"
      }
    },
    {
      "cell_type": "code",
      "source": [
        "from sklearn.decomposition import PCA\n",
        "\n",
        "n = Xtr.shape[1]\n",
        "max_acc = 0\n",
        "n_components = 4\n",
        "\n",
        "for i in range(4,n,6):\n",
        "\n",
        "  pca = PCA(n_components=i)\n",
        "  pca.fit(Xtr)\n",
        "  Xtr_pca = pca.transform(Xtr)\n",
        "  Xts_pca = pca.transform(Xts)\n",
        "\n",
        "  lr.fit(Xtr_pca,ytr)\n",
        "  acc_tr = lr.score(Xtr_pca,ytr)\n",
        "  acc_ts = lr.score(Xts_pca,yts)\n",
        "\n",
        "  if acc_ts > max_acc:\n",
        "    max_acc = acc_ts\n",
        "    n_components = i\n",
        "\n",
        "  print (f\"model with a PCA decomposition into {i} components and logist regresion, train accuracy: {acc_tr:6f}, test accuracy: {acc_ts:6f}\")\n"
      ],
      "metadata": {
        "colab": {
          "base_uri": "https://localhost:8080/"
        },
        "id": "YlNrS1H2Hpju",
        "outputId": "ac2c382c-8d7c-402b-b4bb-0b818a7d3428"
      },
      "execution_count": null,
      "outputs": [
        {
          "output_type": "stream",
          "name": "stdout",
          "text": [
            "model with a PCA decomposition into 4 components and logist regresion, train accuracy: 0.350313, test accuracy: 0.349767\n",
            "model with a PCA decomposition into 10 components and logist regresion, train accuracy: 0.363610, test accuracy: 0.363249\n",
            "model with a PCA decomposition into 16 components and logist regresion, train accuracy: 0.372373, test accuracy: 0.371548\n",
            "model with a PCA decomposition into 22 components and logist regresion, train accuracy: 0.375608, test accuracy: 0.374671\n",
            "model with a PCA decomposition into 28 components and logist regresion, train accuracy: 0.377461, test accuracy: 0.377126\n",
            "model with a PCA decomposition into 34 components and logist regresion, train accuracy: 0.379239, test accuracy: 0.379177\n",
            "model with a PCA decomposition into 40 components and logist regresion, train accuracy: 0.381751, test accuracy: 0.381906\n",
            "model with a PCA decomposition into 46 components and logist regresion, train accuracy: 0.383893, test accuracy: 0.383591\n",
            "model with a PCA decomposition into 52 components and logist regresion, train accuracy: 0.384365, test accuracy: 0.383769\n"
          ]
        }
      ]
    },
    {
      "cell_type": "code",
      "source": [
        "max_acc = 0\n",
        "\n",
        "for i in range(n_components-3,min(n_components+4, Xtr.shape[1])):\n",
        "\n",
        "  pca = PCA(n_components=i)\n",
        "  pca.fit(Xtr)\n",
        "  Xtr_pca = pca.transform(Xtr)\n",
        "  Xts_pca = pca.transform(Xts)\n",
        "  lr.fit(Xtr_pca,ytr)\n",
        "\n",
        "  acc_tr = lr.score(Xtr_pca,ytr)\n",
        "  acc_ts = lr.score(Xts_pca,yts)\n",
        "\n",
        "  if acc_ts > max_acc:\n",
        "    max_acc = acc_ts\n",
        "    n_components = i\n",
        "\n",
        "  print(f\"model with a PCA decomposition into {i} components and logist regresion, train accuracy: {acc_tr:6f}, test accuracy: {acc_ts:6f}\")\n",
        "\n",
        "print(f\"Descomposición optima con {n_components}\")"
      ],
      "metadata": {
        "colab": {
          "base_uri": "https://localhost:8080/"
        },
        "id": "ZRVbNoWfIfDn",
        "outputId": "2c761aa1-c5b2-4ca6-8e66-41366e3c7aae"
      },
      "execution_count": null,
      "outputs": [
        {
          "output_type": "stream",
          "name": "stdout",
          "text": [
            "model with a PCA decomposition into 49 components and logist regresion, train accuracy: 0.384351, test accuracy: 0.383841\n",
            "model with a PCA decomposition into 50 components and logist regresion, train accuracy: 0.384369, test accuracy: 0.383793\n",
            "model with a PCA decomposition into 51 components and logist regresion, train accuracy: 0.384369, test accuracy: 0.383793\n",
            "model with a PCA decomposition into 52 components and logist regresion, train accuracy: 0.384365, test accuracy: 0.383769\n",
            "model with a PCA decomposition into 53 components and logist regresion, train accuracy: 0.384359, test accuracy: 0.383745\n",
            "model with a PCA decomposition into 54 components and logist regresion, train accuracy: 0.384380, test accuracy: 0.383730\n",
            "model with a PCA decomposition into 55 components and logist regresion, train accuracy: 0.384384, test accuracy: 0.383726\n",
            "Descomposición optima con 49\n"
          ]
        }
      ]
    },
    {
      "cell_type": "code",
      "source": [
        "pca = PCA(n_components=n_components)\n",
        "pca.fit(Xtr)\n",
        "Xtr = pca.transform(Xtr)\n",
        "Xts = pca.transform(Xts)"
      ],
      "metadata": {
        "id": "Fef8digXIByl"
      },
      "execution_count": null,
      "outputs": []
    },
    {
      "cell_type": "code",
      "source": [
        "lr.fit(Xtr,ytr)\n",
        "print (f\"model with train: {lr.score(Xtr, ytr)}, test: {lr.score(Xts, yts)}\")"
      ],
      "metadata": {
        "colab": {
          "base_uri": "https://localhost:8080/"
        },
        "id": "S3uhqHQMUYYK",
        "outputId": "4ad7e125-7666-4b64-d633-67b3dbb772a2"
      },
      "execution_count": null,
      "outputs": [
        {
          "output_type": "stream",
          "name": "stdout",
          "text": [
            "model with train: 0.38435069623517276, test: 0.38384115523465706\n"
          ]
        }
      ]
    },
    {
      "cell_type": "code",
      "source": [
        "y_pred = lr.predict(Xtr)\n",
        "yts_pred = lr.predict(Xts)\n",
        "print (f\"model with train: {np.mean((y_pred == ytr).astype(int))}, test: {np.mean((yts_pred == yts).astype(int))}\")"
      ],
      "metadata": {
        "colab": {
          "base_uri": "https://localhost:8080/"
        },
        "id": "YA1hd8HjY3ws",
        "outputId": "d42e5d0d-0644-4e00-de38-555529390b50"
      },
      "execution_count": null,
      "outputs": [
        {
          "output_type": "stream",
          "name": "stdout",
          "text": [
            "model with train: 0.38435069623517276, test: 0.38384115523465706\n"
          ]
        }
      ]
    },
    {
      "cell_type": "markdown",
      "source": [
        "###Validación cruzada"
      ],
      "metadata": {
        "id": "yTSOfgfgIWI1"
      }
    },
    {
      "cell_type": "code",
      "source": [
        "def bootstrap_score(X, y, test_size, iterations=5):\n",
        "  trscores, tsscores = [], []\n",
        "  for _ in range(iterations):\n",
        "    Xtr, Xts, ytr, yts = train_test_split(X,y, test_size=test_size)\n",
        "    pca = PCA(n_components=49)\n",
        "    pca.fit(Xtr)\n",
        "    Xtr = pca.transform(Xtr)\n",
        "    Xts = pca.transform(Xts)\n",
        "    lr = LogisticRegression(class_weight='balanced', solver='newton-cholesky',penalty='l2')\n",
        "    lr.fit(Xtr,ytr)\n",
        "    trscores.append(lr.score(Xtr, ytr))\n",
        "    tsscores.append(lr.score(Xts, yts))\n",
        "\n",
        "  return (np.mean(trscores), np.std(trscores)), (np.mean(tsscores), np.std(tsscores))\n",
        "\n",
        "def evaluate_model(df, test_size):\n",
        "  sample_sizes = [int(i*df.shape[0]) for i in np.linspace(0.2, 1, 5)]\n",
        "  tr_scores, ts_scores = [], []\n",
        "\n",
        "  for sample_size in sample_sizes:\n",
        "    X = df.sample(sample_size)\n",
        "    y = X['RENDIMIENTO_GLOBAL']\n",
        "    X = X.drop(columns=['RENDIMIENTO_GLOBAL'])\n",
        "    tr_sc, ts_sc = bootstrap_score(X, y, test_size, iterations=3)\n",
        "    tr_scores.append(tr_sc)\n",
        "    ts_scores.append(ts_sc)\n",
        "\n",
        "  return (tr_scores, ts_scores)\n",
        "\n",
        "def plot_learning_curve(title, train_scores_mean, train_scores_std,\n",
        "                        test_scores_mean, test_scores_std, ylim=None,\n",
        "                        train_sizes=np.linspace(.2, 1.0, 5)):\n",
        "\n",
        "    from matplotlib import pyplot as plt\n",
        "\n",
        "    plt.title(title)\n",
        "    if ylim is not None:\n",
        "        plt.ylim(*ylim)\n",
        "    plt.xlabel(\"Training samples\")\n",
        "    plt.ylabel(\"Score\")\n",
        "\n",
        "    plt.grid()\n",
        "\n",
        "    plt.fill_between(train_sizes, train_scores_mean - train_scores_std,\n",
        "                     train_scores_mean + train_scores_std, alpha=0.1,\n",
        "                     color=\"r\")\n",
        "    plt.fill_between(train_sizes, test_scores_mean - test_scores_std,\n",
        "                     test_scores_mean + test_scores_std, alpha=0.1, color=\"g\")\n",
        "    plt.plot(train_sizes, train_scores_mean, 'o-', color=\"r\",\n",
        "             label=\"train score\")\n",
        "    plt.plot(train_sizes, test_scores_mean, 'o-', color=\"g\",\n",
        "             label=\"test score\")\n",
        "\n",
        "    plt.legend(loc=\"best\")\n",
        "\n",
        "def compute_and_plot_learning_curve(test_size, title=\"Logistic Regression\"):\n",
        "\n",
        "    learn_curve_data = evaluate_model(df, 0.3)\n",
        "    tr_means = np.array([learn_curve_data[0][i][0] for i in range(len(learn_curve_data[0]))])\n",
        "    tr_stds = np.array([learn_curve_data[0][i][1] for i in range(len(learn_curve_data[0]))])\n",
        "    ts_means = np.array([learn_curve_data[1][i][0] for i in range(len(learn_curve_data[1]))])\n",
        "    ts_stds = np.array([learn_curve_data[1][i][1] for i in range(len(learn_curve_data[1]))])\n",
        "\n",
        "    sample_sizes = [int(i*df.shape[0]) for i in np.linspace(0.2, 1, 5)]\n",
        "\n",
        "    plot_learning_curve(title, tr_means, tr_stds, ts_means, ts_stds, train_sizes=sample_sizes)"
      ],
      "metadata": {
        "id": "Xk2HmVhrIYNV"
      },
      "execution_count": null,
      "outputs": []
    },
    {
      "cell_type": "code",
      "source": [
        "tr_sc, ts_sc = bootstrap_score(X, y, 0.3)\n",
        "print(f\"Train accuracy {tr_sc[0]:6f} ± {tr_sc[1]:6f}, test accuracy: {ts_sc[0]:6f} ± {ts_sc[1]:6f}\")"
      ],
      "metadata": {
        "colab": {
          "base_uri": "https://localhost:8080/"
        },
        "id": "PmT_iW86JIUd",
        "outputId": "47e29242-2afc-47c0-ca9c-2027dbd07491"
      },
      "execution_count": null,
      "outputs": [
        {
          "output_type": "stream",
          "name": "stdout",
          "text": [
            "Train accuracy 0.384408 ± 0.000223, test accuracy: 0.383473 ± 0.000439\n"
          ]
        }
      ]
    },
    {
      "cell_type": "code",
      "source": [
        "compute_and_plot_learning_curve(0.30)"
      ],
      "metadata": {
        "colab": {
          "base_uri": "https://localhost:8080/",
          "height": 472
        },
        "id": "1ZUB_J7YJM79",
        "outputId": "55fc906d-ee7f-49a2-e0d1-de1a0d82129d"
      },
      "execution_count": null,
      "outputs": [
        {
          "output_type": "display_data",
          "data": {
            "text/plain": [
              "<Figure size 640x480 with 1 Axes>"
            ],
            "image/png": "[encoded data removed]"
          },
          "metadata": {}
        }
      ]
    },
    {
      "cell_type": "markdown",
      "source": [
        "###Calibración con todo el conjunto de datos"
      ],
      "metadata": {
        "id": "DUAQATMeccgv"
      }
    },
    {
      "cell_type": "code",
      "source": [
        "pca = PCA(n_components=n_components)\n",
        "pca.fit(X)\n",
        "X_pca = pca.transform(X)"
      ],
      "metadata": {
        "id": "y-lXatz2IK4G"
      },
      "execution_count": null,
      "outputs": []
    },
    {
      "cell_type": "code",
      "source": [
        "lr.fit(X_pca,y)"
      ],
      "metadata": {
        "colab": {
          "base_uri": "https://localhost:8080/",
          "height": 80
        },
        "id": "-2Rk4eSscMP3",
        "outputId": "29ff16ff-2d6b-4fb2-c9d5-a01ebb1a9aec"
      },
      "execution_count": null,
      "outputs": [
        {
          "output_type": "execute_result",
          "data": {
            "text/plain": [
              "LogisticRegression(class_weight='balanced', solver='newton-cholesky')"
            ],
            "text/html": [
              "<style>#sk-container-id-1 {\n",
              "  /* Definition of color scheme common for light and dark mode */\n",
              "  --sklearn-color-text: #000;\n",
              "  --sklearn-color-text-muted: #666;\n",
              "  --sklearn-color-line: gray;\n",
              "  /* Definition of color scheme for unfitted estimators */\n",
              "  --sklearn-color-unfitted-level-0: #fff5e6;\n",
              "  --sklearn-color-unfitted-level-1: #f6e4d2;\n",
              "  --sklearn-color-unfitted-level-2: #ffe0b3;\n",
              "  --sklearn-color-unfitted-level-3: chocolate;\n",
              "  /* Definition of color scheme for fitted estimators */\n",
              "  --sklearn-color-fitted-level-0: #f0f8ff;\n",
              "  --sklearn-color-fitted-level-1: #d4ebff;\n",
              "  --sklearn-color-fitted-level-2: #b3dbfd;\n",
              "  --sklearn-color-fitted-level-3: cornflowerblue;\n",
              "\n",
              "  /* Specific color for light theme */\n",
              "  --sklearn-color-text-on-default-background: var(--sg-text-color, var(--theme-code-foreground, var(--jp-content-font-color1, black)));\n",
              "  --sklearn-color-background: var(--sg-background-color, var(--theme-background, var(--jp-layout-color0, white)));\n",
              "  --sklearn-color-border-box: var(--sg-text-color, var(--theme-code-foreground, var(--jp-content-font-color1, black)));\n",
              "  --sklearn-color-icon: #696969;\n",
              "\n",
              "  @media (prefers-color-scheme: dark) {\n",
              "    /* Redefinition of color scheme for dark theme */\n",
              "    --sklearn-color-text-on-default-background: var(--sg-text-color, var(--theme-code-foreground, var(--jp-content-font-color1, white)));\n",
              "    --sklearn-color-background: var(--sg-background-color, var(--theme-background, var(--jp-layout-color0, #111)));\n",
              "    --sklearn-color-border-box: var(--sg-text-color, var(--theme-code-foreground, var(--jp-content-font-color1, white)));\n",
              "    --sklearn-color-icon: #878787;\n",
              "  }\n",
              "}\n",
              "\n",
              "#sk-container-id-1 {\n",
              "  color: var(--sklearn-color-text);\n",
              "}\n",
              "\n",
              "#sk-container-id-1 pre {\n",
              "  padding: 0;\n",
              "}\n",
              "\n",
              "#sk-container-id-1 input.sk-hidden--visually {\n",
              "  border: 0;\n",
              "  clip: rect(1px 1px 1px 1px);\n",
              "  clip: rect(1px, 1px, 1px, 1px);\n",
              "  height: 1px;\n",
              "  margin: -1px;\n",
              "  overflow: hidden;\n",
              "  padding: 0;\n",
              "  position: absolute;\n",
              "  width: 1px;\n",
              "}\n",
              "\n",
              "#sk-container-id-1 div.sk-dashed-wrapped {\n",
              "  border: 1px dashed var(--sklearn-color-line);\n",
              "  margin: 0 0.4em 0.5em 0.4em;\n",
              "  box-sizing: border-box;\n",
              "  padding-bottom: 0.4em;\n",
              "  background-color: var(--sklearn-color-background);\n",
              "}\n",
              "\n",
              "#sk-container-id-1 div.sk-container {\n",
              "  /* jupyter's `normalize.less` sets `[hidden] { display: none; }`\n",
              "     but bootstrap.min.css set `[hidden] { display: none !important; }`\n",
              "     so we also need the `!important` here to be able to override the\n",
              "     default hidden behavior on the sphinx rendered scikit-learn.org.\n",
              "     See: https://github.com/scikit-learn/scikit-learn/issues/21755 */\n",
              "  display: inline-block !important;\n",
              "  position: relative;\n",
              "}\n",
              "\n",
              "#sk-container-id-1 div.sk-text-repr-fallback {\n",
              "  display: none;\n",
              "}\n",
              "\n",
              "div.sk-parallel-item,\n",
              "div.sk-serial,\n",
              "div.sk-item {\n",
              "  /* draw centered vertical line to link estimators */\n",
              "  background-image: linear-gradient(var(--sklearn-color-text-on-default-background), var(--sklearn-color-text-on-default-background));\n",
              "  background-size: 2px 100%;\n",
              "  background-repeat: no-repeat;\n",
              "  background-position: center center;\n",
              "}\n",
              "\n",
              "/* Parallel-specific style estimator block */\n",
              "\n",
              "#sk-container-id-1 div.sk-parallel-item::after {\n",
              "  content: \"\";\n",
              "  width: 100%;\n",
              "  border-bottom: 2px solid var(--sklearn-color-text-on-default-background);\n",
              "  flex-grow: 1;\n",
              "}\n",
              "\n",
              "#sk-container-id-1 div.sk-parallel {\n",
              "  display: flex;\n",
              "  align-items: stretch;\n",
              "  justify-content: center;\n",
              "  background-color: var(--sklearn-color-background);\n",
              "  position: relative;\n",
              "}\n",
              "\n",
              "#sk-container-id-1 div.sk-parallel-item {\n",
              "  display: flex;\n",
              "  flex-direction: column;\n",
              "}\n",
              "\n",
              "#sk-container-id-1 div.sk-parallel-item:first-child::after {\n",
              "  align-self: flex-end;\n",
              "  width: 50%;\n",
              "}\n",
              "\n",
              "#sk-container-id-1 div.sk-parallel-item:last-child::after {\n",
              "  align-self: flex-start;\n",
              "  width: 50%;\n",
              "}\n",
              "\n",
              "#sk-container-id-1 div.sk-parallel-item:only-child::after {\n",
              "  width: 0;\n",
              "}\n",
              "\n",
              "/* Serial-specific style estimator block */\n",
              "\n",
              "#sk-container-id-1 div.sk-serial {\n",
              "  display: flex;\n",
              "  flex-direction: column;\n",
              "  align-items: center;\n",
              "  background-color: var(--sklearn-color-background);\n",
              "  padding-right: 1em;\n",
              "  padding-left: 1em;\n",
              "}\n",
              "\n",
              "\n",
              "/* Toggleable style: style used for estimator/Pipeline/ColumnTransformer box that is\n",
              "clickable and can be expanded/collapsed.\n",
              "- Pipeline and ColumnTransformer use this feature and define the default style\n",
              "- Estimators will overwrite some part of the style using the `sk-estimator` class\n",
              "*/\n",
              "\n",
              "/* Pipeline and ColumnTransformer style (default) */\n",
              "\n",
              "#sk-container-id-1 div.sk-toggleable {\n",
              "  /* Default theme specific background. It is overwritten whether we have a\n",
              "  specific estimator or a Pipeline/ColumnTransformer */\n",
              "  background-color: var(--sklearn-color-background);\n",
              "}\n",
              "\n",
              "/* Toggleable label */\n",
              "#sk-container-id-1 label.sk-toggleable__label {\n",
              "  cursor: pointer;\n",
              "  display: flex;\n",
              "  width: 100%;\n",
              "  margin-bottom: 0;\n",
              "  padding: 0.5em;\n",
              "  box-sizing: border-box;\n",
              "  text-align: center;\n",
              "  align-items: start;\n",
              "  justify-content: space-between;\n",
              "  gap: 0.5em;\n",
              "}\n",
              "\n",
              "#sk-container-id-1 label.sk-toggleable__label .caption {\n",
              "  font-size: 0.6rem;\n",
              "  font-weight: lighter;\n",
              "  color: var(--sklearn-color-text-muted);\n",
              "}\n",
              "\n",
              "#sk-container-id-1 label.sk-toggleable__label-arrow:before {\n",
              "  /* Arrow on the left of the label */\n",
              "  content: \"▸\";\n",
              "  float: left;\n",
              "  margin-right: 0.25em;\n",
              "  color: var(--sklearn-color-icon);\n",
              "}\n",
              "\n",
              "#sk-container-id-1 label.sk-toggleable__label-arrow:hover:before {\n",
              "  color: var(--sklearn-color-text);\n",
              "}\n",
              "\n",
              "/* Toggleable content - dropdown */\n",
              "\n",
              "#sk-container-id-1 div.sk-toggleable__content {\n",
              "  max-height: 0;\n",
              "  max-width: 0;\n",
              "  overflow: hidden;\n",
              "  text-align: left;\n",
              "  /* unfitted */\n",
              "  background-color: var(--sklearn-color-unfitted-level-0);\n",
              "}\n",
              "\n",
              "#sk-container-id-1 div.sk-toggleable__content.fitted {\n",
              "  /* fitted */\n",
              "  background-color: var(--sklearn-color-fitted-level-0);\n",
              "}\n",
              "\n",
              "#sk-container-id-1 div.sk-toggleable__content pre {\n",
              "  margin: 0.2em;\n",
              "  border-radius: 0.25em;\n",
              "  color: var(--sklearn-color-text);\n",
              "  /* unfitted */\n",
              "  background-color: var(--sklearn-color-unfitted-level-0);\n",
              "}\n",
              "\n",
              "#sk-container-id-1 div.sk-toggleable__content.fitted pre {\n",
              "  /* unfitted */\n",
              "  background-color: var(--sklearn-color-fitted-level-0);\n",
              "}\n",
              "\n",
              "#sk-container-id-1 input.sk-toggleable__control:checked~div.sk-toggleable__content {\n",
              "  /* Expand drop-down */\n",
              "  max-height: 200px;\n",
              "  max-width: 100%;\n",
              "  overflow: auto;\n",
              "}\n",
              "\n",
              "#sk-container-id-1 input.sk-toggleable__control:checked~label.sk-toggleable__label-arrow:before {\n",
              "  content: \"▾\";\n",
              "}\n",
              "\n",
              "/* Pipeline/ColumnTransformer-specific style */\n",
              "\n",
              "#sk-container-id-1 div.sk-label input.sk-toggleable__control:checked~label.sk-toggleable__label {\n",
              "  color: var(--sklearn-color-text);\n",
              "  background-color: var(--sklearn-color-unfitted-level-2);\n",
              "}\n",
              "\n",
              "#sk-container-id-1 div.sk-label.fitted input.sk-toggleable__control:checked~label.sk-toggleable__label {\n",
              "  background-color: var(--sklearn-color-fitted-level-2);\n",
              "}\n",
              "\n",
              "/* Estimator-specific style */\n",
              "\n",
              "/* Colorize estimator box */\n",
              "#sk-container-id-1 div.sk-estimator input.sk-toggleable__control:checked~label.sk-toggleable__label {\n",
              "  /* unfitted */\n",
              "  background-color: var(--sklearn-color-unfitted-level-2);\n",
              "}\n",
              "\n",
              "#sk-container-id-1 div.sk-estimator.fitted input.sk-toggleable__control:checked~label.sk-toggleable__label {\n",
              "  /* fitted */\n",
              "  background-color: var(--sklearn-color-fitted-level-2);\n",
              "}\n",
              "\n",
              "#sk-container-id-1 div.sk-label label.sk-toggleable__label,\n",
              "#sk-container-id-1 div.sk-label label {\n",
              "  /* The background is the default theme color */\n",
              "  color: var(--sklearn-color-text-on-default-background);\n",
              "}\n",
              "\n",
              "/* On hover, darken the color of the background */\n",
              "#sk-container-id-1 div.sk-label:hover label.sk-toggleable__label {\n",
              "  color: var(--sklearn-color-text);\n",
              "  background-color: var(--sklearn-color-unfitted-level-2);\n",
              "}\n",
              "\n",
              "/* Label box, darken color on hover, fitted */\n",
              "#sk-container-id-1 div.sk-label.fitted:hover label.sk-toggleable__label.fitted {\n",
              "  color: var(--sklearn-color-text);\n",
              "  background-color: var(--sklearn-color-fitted-level-2);\n",
              "}\n",
              "\n",
              "/* Estimator label */\n",
              "\n",
              "#sk-container-id-1 div.sk-label label {\n",
              "  font-family: monospace;\n",
              "  font-weight: bold;\n",
              "  display: inline-block;\n",
              "  line-height: 1.2em;\n",
              "}\n",
              "\n",
              "#sk-container-id-1 div.sk-label-container {\n",
              "  text-align: center;\n",
              "}\n",
              "\n",
              "/* Estimator-specific */\n",
              "#sk-container-id-1 div.sk-estimator {\n",
              "  font-family: monospace;\n",
              "  border: 1px dotted var(--sklearn-color-border-box);\n",
              "  border-radius: 0.25em;\n",
              "  box-sizing: border-box;\n",
              "  margin-bottom: 0.5em;\n",
              "  /* unfitted */\n",
              "  background-color: var(--sklearn-color-unfitted-level-0);\n",
              "}\n",
              "\n",
              "#sk-container-id-1 div.sk-estimator.fitted {\n",
              "  /* fitted */\n",
              "  background-color: var(--sklearn-color-fitted-level-0);\n",
              "}\n",
              "\n",
              "/* on hover */\n",
              "#sk-container-id-1 div.sk-estimator:hover {\n",
              "  /* unfitted */\n",
              "  background-color: var(--sklearn-color-unfitted-level-2);\n",
              "}\n",
              "\n",
              "#sk-container-id-1 div.sk-estimator.fitted:hover {\n",
              "  /* fitted */\n",
              "  background-color: var(--sklearn-color-fitted-level-2);\n",
              "}\n",
              "\n",
              "/* Specification for estimator info (e.g. \"i\" and \"?\") */\n",
              "\n",
              "/* Common style for \"i\" and \"?\" */\n",
              "\n",
              ".sk-estimator-doc-link,\n",
              "a:link.sk-estimator-doc-link,\n",
              "a:visited.sk-estimator-doc-link {\n",
              "  float: right;\n",
              "  font-size: smaller;\n",
              "  line-height: 1em;\n",
              "  font-family: monospace;\n",
              "  background-color: var(--sklearn-color-background);\n",
              "  border-radius: 1em;\n",
              "  height: 1em;\n",
              "  width: 1em;\n",
              "  text-decoration: none !important;\n",
              "  margin-left: 0.5em;\n",
              "  text-align: center;\n",
              "  /* unfitted */\n",
              "  border: var(--sklearn-color-unfitted-level-1) 1pt solid;\n",
              "  color: var(--sklearn-color-unfitted-level-1);\n",
              "}\n",
              "\n",
              ".sk-estimator-doc-link.fitted,\n",
              "a:link.sk-estimator-doc-link.fitted,\n",
              "a:visited.sk-estimator-doc-link.fitted {\n",
              "  /* fitted */\n",
              "  border: var(--sklearn-color-fitted-level-1) 1pt solid;\n",
              "  color: var(--sklearn-color-fitted-level-1);\n",
              "}\n",
              "\n",
              "/* On hover */\n",
              "div.sk-estimator:hover .sk-estimator-doc-link:hover,\n",
              ".sk-estimator-doc-link:hover,\n",
              "div.sk-label-container:hover .sk-estimator-doc-link:hover,\n",
              ".sk-estimator-doc-link:hover {\n",
              "  /* unfitted */\n",
              "  background-color: var(--sklearn-color-unfitted-level-3);\n",
              "  color: var(--sklearn-color-background);\n",
              "  text-decoration: none;\n",
              "}\n",
              "\n",
              "div.sk-estimator.fitted:hover .sk-estimator-doc-link.fitted:hover,\n",
              ".sk-estimator-doc-link.fitted:hover,\n",
              "div.sk-label-container:hover .sk-estimator-doc-link.fitted:hover,\n",
              ".sk-estimator-doc-link.fitted:hover {\n",
              "  /* fitted */\n",
              "  background-color: var(--sklearn-color-fitted-level-3);\n",
              "  color: var(--sklearn-color-background);\n",
              "  text-decoration: none;\n",
              "}\n",
              "\n",
              "/* Span, style for the box shown on hovering the info icon */\n",
              ".sk-estimator-doc-link span {\n",
              "  display: none;\n",
              "  z-index: 9999;\n",
              "  position: relative;\n",
              "  font-weight: normal;\n",
              "  right: .2ex;\n",
              "  padding: .5ex;\n",
              "  margin: .5ex;\n",
              "  width: min-content;\n",
              "  min-width: 20ex;\n",
              "  max-width: 50ex;\n",
              "  color: var(--sklearn-color-text);\n",
              "  box-shadow: 2pt 2pt 4pt #999;\n",
              "  /* unfitted */\n",
              "  background: var(--sklearn-color-unfitted-level-0);\n",
              "  border: .5pt solid var(--sklearn-color-unfitted-level-3);\n",
              "}\n",
              "\n",
              ".sk-estimator-doc-link.fitted span {\n",
              "  /* fitted */\n",
              "  background: var(--sklearn-color-fitted-level-0);\n",
              "  border: var(--sklearn-color-fitted-level-3);\n",
              "}\n",
              "\n",
              ".sk-estimator-doc-link:hover span {\n",
              "  display: block;\n",
              "}\n",
              "\n",
              "/* \"?\"-specific style due to the `<a>` HTML tag */\n",
              "\n",
              "#sk-container-id-1 a.estimator_doc_link {\n",
              "  float: right;\n",
              "  font-size: 1rem;\n",
              "  line-height: 1em;\n",
              "  font-family: monospace;\n",
              "  background-color: var(--sklearn-color-background);\n",
              "  border-radius: 1rem;\n",
              "  height: 1rem;\n",
              "  width: 1rem;\n",
              "  text-decoration: none;\n",
              "  /* unfitted */\n",
              "  color: var(--sklearn-color-unfitted-level-1);\n",
              "  border: var(--sklearn-color-unfitted-level-1) 1pt solid;\n",
              "}\n",
              "\n",
              "#sk-container-id-1 a.estimator_doc_link.fitted {\n",
              "  /* fitted */\n",
              "  border: var(--sklearn-color-fitted-level-1) 1pt solid;\n",
              "  color: var(--sklearn-color-fitted-level-1);\n",
              "}\n",
              "\n",
              "/* On hover */\n",
              "#sk-container-id-1 a.estimator_doc_link:hover {\n",
              "  /* unfitted */\n",
              "  background-color: var(--sklearn-color-unfitted-level-3);\n",
              "  color: var(--sklearn-color-background);\n",
              "  text-decoration: none;\n",
              "}\n",
              "\n",
              "#sk-container-id-1 a.estimator_doc_link.fitted:hover {\n",
              "  /* fitted */\n",
              "  background-color: var(--sklearn-color-fitted-level-3);\n",
              "}\n",
              "</style><div id=\"sk-container-id-1\" class=\"sk-top-container\"><div class=\"sk-text-repr-fallback\"><pre>LogisticRegression(class_weight=&#x27;balanced&#x27;, solver=&#x27;newton-cholesky&#x27;)</pre><b>In a Jupyter environment, please rerun this cell to show the HTML representation or trust the notebook. <br />On GitHub, the HTML representation is unable to render, please try loading this page with nbviewer.org.</b></div><div class=\"sk-container\" hidden><div class=\"sk-item\"><div class=\"sk-estimator fitted sk-toggleable\"><input class=\"sk-toggleable__control sk-hidden--visually\" id=\"sk-estimator-id-1\" type=\"checkbox\" checked><label for=\"sk-estimator-id-1\" class=\"sk-toggleable__label fitted sk-toggleable__label-arrow\"><div><div>LogisticRegression</div></div><div><a class=\"sk-estimator-doc-link fitted\" rel=\"noreferrer\" target=\"_blank\" href=\"https://scikit-learn.org/1.6/modules/generated/sklearn.linear_model.LogisticRegression.html\">?<span>Documentation for LogisticRegression</span></a><span class=\"sk-estimator-doc-link fitted\">i<span>Fitted</span></span></div></label><div class=\"sk-toggleable__content fitted\"><pre>LogisticRegression(class_weight=&#x27;balanced&#x27;, solver=&#x27;newton-cholesky&#x27;)</pre></div> </div></div></div></div>"
            ]
          },
          "metadata": {},
          "execution_count": 23
        }
      ]
    },
    {
      "cell_type": "markdown",
      "source": [
        "##Predicción"
      ],
      "metadata": {
        "id": "gtPKec_Lcmb-"
      }
    },
    {
      "cell_type": "code",
      "source": [
        "test_df = pd.read_csv(\"test.csv\")\n",
        "print(test_df.shape)\n",
        "test_df_processed = process_data(test_df, programs_df)\n",
        "print(test_df_processed.shape)\n",
        "test_df_processed = pca.transform(test_df_processed)"
      ],
      "metadata": {
        "colab": {
          "base_uri": "https://localhost:8080/"
        },
        "id": "hvVDAvw9cpM-",
        "outputId": "5d3506af-f7a2-4d7b-ccee-4232959d8a79"
      },
      "execution_count": null,
      "outputs": [
        {
          "output_type": "stream",
          "name": "stdout",
          "text": [
            "(296786, 20)\n"
          ]
        },
        {
          "output_type": "stream",
          "name": "stderr",
          "text": [
            "/tmp/ipython-input-6-3166745170.py:35: FutureWarning: Downcasting behavior in `replace` is deprecated and will be removed in a future version. To retain the old behavior, explicitly call `result.infer_objects(copy=False)`. To opt-in to the future behavior, set `pd.set_option('future.no_silent_downcasting', True)`\n",
            "  df_copy[column] = df_copy[column].replace(replacement)\n"
          ]
        },
        {
          "output_type": "stream",
          "name": "stdout",
          "text": [
            "(296786, 57)\n"
          ]
        }
      ]
    },
    {
      "cell_type": "code",
      "source": [
        "y_pred = lr.predict(test_df_processed)"
      ],
      "metadata": {
        "id": "dcuYJyXWcsne"
      },
      "execution_count": null,
      "outputs": []
    },
    {
      "cell_type": "markdown",
      "source": [
        "###Dataframe de predicción"
      ],
      "metadata": {
        "id": "-xr4ywFzdWJt"
      }
    },
    {
      "cell_type": "code",
      "source": [
        "grades = [\"bajo\", \"medio-bajo\", \"medio-alto\", \"alto\"]\n",
        "y_pred = pd.DataFrame(y_pred, columns=['RENDIMIENTO_GLOBAL'])\n",
        "y_pred = y_pred.replace(dict(zip(range(4), grades)))\n",
        "y_pred.head()\n",
        "prediction_df = pd.concat([test_df['ID'], y_pred], axis=1).set_index('ID')\n",
        "print(prediction_df.shape)\n",
        "prediction_df.head()"
      ],
      "metadata": {
        "colab": {
          "base_uri": "https://localhost:8080/",
          "height": 255
        },
        "id": "IQBO7Kw8dY_1",
        "outputId": "00eabd88-4ba2-458b-a032-b4c3ffd15674"
      },
      "execution_count": null,
      "outputs": [
        {
          "output_type": "stream",
          "name": "stdout",
          "text": [
            "(296786, 1)\n"
          ]
        },
        {
          "output_type": "execute_result",
          "data": {
            "text/plain": [
              "       RENDIMIENTO_GLOBAL\n",
              "ID                       \n",
              "550236               bajo\n",
              "98545          medio-alto\n",
              "499179               alto\n",
              "782980               bajo\n",
              "785185               bajo"
            ],
            "text/html": [
              "\n",
              "  <div id=\"df-0e1df287-6ab4-4ff4-abf6-a3e426074669\" class=\"colab-df-container\">\n",
              "    <div>\n",
              "<style scoped>\n",
              "    .dataframe tbody tr th:only-of-type {\n",
              "        vertical-align: middle;\n",
              "    }\n",
              "\n",
              "    .dataframe tbody tr th {\n",
              "        vertical-align: top;\n",
              "    }\n",
              "\n",
              "    .dataframe thead th {\n",
              "        text-align: right;\n",
              "    }\n",
              "</style>\n",
              "<table border=\"1\" class=\"dataframe\">\n",
              "  <thead>\n",
              "    <tr style=\"text-align: right;\">\n",
              "      <th></th>\n",
              "      <th>RENDIMIENTO_GLOBAL</th>\n",
              "    </tr>\n",
              "    <tr>\n",
              "      <th>ID</th>\n",
              "      <th></th>\n",
              "    </tr>\n",
              "  </thead>\n",
              "  <tbody>\n",
              "    <tr>\n",
              "      <th>550236</th>\n",
              "      <td>bajo</td>\n",
              "    </tr>\n",
              "    <tr>\n",
              "      <th>98545</th>\n",
              "      <td>medio-alto</td>\n",
              "    </tr>\n",
              "    <tr>\n",
              "      <th>499179</th>\n",
              "      <td>alto</td>\n",
              "    </tr>\n",
              "    <tr>\n",
              "      <th>782980</th>\n",
              "      <td>bajo</td>\n",
              "    </tr>\n",
              "    <tr>\n",
              "      <th>785185</th>\n",
              "      <td>bajo</td>\n",
              "    </tr>\n",
              "  </tbody>\n",
              "</table>\n",
              "</div>\n",
              "    <div class=\"colab-df-buttons\">\n",
              "\n",
              "  <div class=\"colab-df-container\">\n",
              "    <button class=\"colab-df-convert\" onclick=\"convertToInteractive('df-0e1df287-6ab4-4ff4-abf6-a3e426074669')\"\n",
              "            title=\"Convert this dataframe to an interactive table.\"\n",
              "            style=\"display:none;\">\n",
              "\n",
              "  <svg xmlns=\"http://www.w3.org/2000/svg\" height=\"24px\" viewBox=\"0 -960 960 960\">\n",
              "    <path d=\"M120-120v-720h720v720H120Zm60-500h600v-160H180v160Zm220 220h160v-160H400v160Zm0 220h160v-160H400v160ZM180-400h160v-160H180v160Zm440 0h160v-160H620v160ZM180-180h160v-160H180v160Zm440 0h160v-160H620v160Z\"/>\n",
              "  </svg>\n",
              "    </button>\n",
              "\n",
              "  <style>\n",
              "    .colab-df-container {\n",
              "      display:flex;\n",
              "      gap: 12px;\n",
              "    }\n",
              "\n",
              "    .colab-df-convert {\n",
              "      background-color: #E8F0FE;\n",
              "      border: none;\n",
              "      border-radius: 50%;\n",
              "      cursor: pointer;\n",
              "      display: none;\n",
              "      fill: #1967D2;\n",
              "      height: 32px;\n",
              "      padding: 0 0 0 0;\n",
              "      width: 32px;\n",
              "    }\n",
              "\n",
              "    .colab-df-convert:hover {\n",
              "      background-color: #E2EBFA;\n",
              "      box-shadow: 0px 1px 2px rgba(60, 64, 67, 0.3), 0px 1px 3px 1px rgba(60, 64, 67, 0.15);\n",
              "      fill: #174EA6;\n",
              "    }\n",
              "\n",
              "    .colab-df-buttons div {\n",
              "      margin-bottom: 4px;\n",
              "    }\n",
              "\n",
              "    [theme=dark] .colab-df-convert {\n",
              "      background-color: #3B4455;\n",
              "      fill: #D2E3FC;\n",
              "    }\n",
              "\n",
              "    [theme=dark] .colab-df-convert:hover {\n",
              "      background-color: #434B5C;\n",
              "      box-shadow: 0px 1px 3px 1px rgba(0, 0, 0, 0.15);\n",
              "      filter: drop-shadow(0px 1px 2px rgba(0, 0, 0, 0.3));\n",
              "      fill: #FFFFFF;\n",
              "    }\n",
              "  </style>\n",
              "\n",
              "    <script>\n",
              "      const buttonEl =\n",
              "        document.querySelector('#df-0e1df287-6ab4-4ff4-abf6-a3e426074669 button.colab-df-convert');\n",
              "      buttonEl.style.display =\n",
              "        google.colab.kernel.accessAllowed ? 'block' : 'none';\n",
              "\n",
              "      async function convertToInteractive(key) {\n",
              "        const element = document.querySelector('#df-0e1df287-6ab4-4ff4-abf6-a3e426074669');\n",
              "        const dataTable =\n",
              "          await google.colab.kernel.invokeFunction('convertToInteractive',\n",
              "                                                    [key], {});\n",
              "        if (!dataTable) return;\n",
              "\n",
              "        const docLinkHtml = 'Like what you see? Visit the ' +\n",
              "          '<a target=\"_blank\" href=https://colab.research.google.com/notebooks/data_table.ipynb>data table notebook</a>'\n",
              "          + ' to learn more about interactive tables.';\n",
              "        element.innerHTML = '';\n",
              "        dataTable['output_type'] = 'display_data';\n",
              "        await google.colab.output.renderOutput(dataTable, element);\n",
              "        const docLink = document.createElement('div');\n",
              "        docLink.innerHTML = docLinkHtml;\n",
              "        element.appendChild(docLink);\n",
              "      }\n",
              "    </script>\n",
              "  </div>\n",
              "\n",
              "\n",
              "    <div id=\"df-cd07aadb-1416-48ad-9952-d41bf0c9b883\">\n",
              "      <button class=\"colab-df-quickchart\" onclick=\"quickchart('df-cd07aadb-1416-48ad-9952-d41bf0c9b883')\"\n",
              "                title=\"Suggest charts\"\n",
              "                style=\"display:none;\">\n",
              "\n",
              "<svg xmlns=\"http://www.w3.org/2000/svg\" height=\"24px\"viewBox=\"0 0 24 24\"\n",
              "     width=\"24px\">\n",
              "    <g>\n",
              "        <path d=\"M19 3H5c-1.1 0-2 .9-2 2v14c0 1.1.9 2 2 2h14c1.1 0 2-.9 2-2V5c0-1.1-.9-2-2-2zM9 17H7v-7h2v7zm4 0h-2V7h2v10zm4 0h-2v-4h2v4z\"/>\n",
              "    </g>\n",
              "</svg>\n",
              "      </button>\n",
              "\n",
              "<style>\n",
              "  .colab-df-quickchart {\n",
              "      --bg-color: #E8F0FE;\n",
              "      --fill-color: #1967D2;\n",
              "      --hover-bg-color: #E2EBFA;\n",
              "      --hover-fill-color: #174EA6;\n",
              "      --disabled-fill-color: #AAA;\n",
              "      --disabled-bg-color: #DDD;\n",
              "  }\n",
              "\n",
              "  [theme=dark] .colab-df-quickchart {\n",
              "      --bg-color: #3B4455;\n",
              "      --fill-color: #D2E3FC;\n",
              "      --hover-bg-color: #434B5C;\n",
              "      --hover-fill-color: #FFFFFF;\n",
              "      --disabled-bg-color: #3B4455;\n",
              "      --disabled-fill-color: #666;\n",
              "  }\n",
              "\n",
              "  .colab-df-quickchart {\n",
              "    background-color: var(--bg-color);\n",
              "    border: none;\n",
              "    border-radius: 50%;\n",
              "    cursor: pointer;\n",
              "    display: none;\n",
              "    fill: var(--fill-color);\n",
              "    height: 32px;\n",
              "    padding: 0;\n",
              "    width: 32px;\n",
              "  }\n",
              "\n",
              "  .colab-df-quickchart:hover {\n",
              "    background-color: var(--hover-bg-color);\n",
              "    box-shadow: 0 1px 2px rgba(60, 64, 67, 0.3), 0 1px 3px 1px rgba(60, 64, 67, 0.15);\n",
              "    fill: var(--button-hover-fill-color);\n",
              "  }\n",
              "\n",
              "  .colab-df-quickchart-complete:disabled,\n",
              "  .colab-df-quickchart-complete:disabled:hover {\n",
              "    background-color: var(--disabled-bg-color);\n",
              "    fill: var(--disabled-fill-color);\n",
              "    box-shadow: none;\n",
              "  }\n",
              "\n",
              "  .colab-df-spinner {\n",
              "    border: 2px solid var(--fill-color);\n",
              "    border-color: transparent;\n",
              "    border-bottom-color: var(--fill-color);\n",
              "    animation:\n",
              "      spin 1s steps(1) infinite;\n",
              "  }\n",
              "\n",
              "  @keyframes spin {\n",
              "    0% {\n",
              "      border-color: transparent;\n",
              "      border-bottom-color: var(--fill-color);\n",
              "      border-left-color: var(--fill-color);\n",
              "    }\n",
              "    20% {\n",
              "      border-color: transparent;\n",
              "      border-left-color: var(--fill-color);\n",
              "      border-top-color: var(--fill-color);\n",
              "    }\n",
              "    30% {\n",
              "      border-color: transparent;\n",
              "      border-left-color: var(--fill-color);\n",
              "      border-top-color: var(--fill-color);\n",
              "      border-right-color: var(--fill-color);\n",
              "    }\n",
              "    40% {\n",
              "      border-color: transparent;\n",
              "      border-right-color: var(--fill-color);\n",
              "      border-top-color: var(--fill-color);\n",
              "    }\n",
              "    60% {\n",
              "      border-color: transparent;\n",
              "      border-right-color: var(--fill-color);\n",
              "    }\n",
              "    80% {\n",
              "      border-color: transparent;\n",
              "      border-right-color: var(--fill-color);\n",
              "      border-bottom-color: var(--fill-color);\n",
              "    }\n",
              "    90% {\n",
              "      border-color: transparent;\n",
              "      border-bottom-color: var(--fill-color);\n",
              "    }\n",
              "  }\n",
              "</style>\n",
              "\n",
              "      <script>\n",
              "        async function quickchart(key) {\n",
              "          const quickchartButtonEl =\n",
              "            document.querySelector('#' + key + ' button');\n",
              "          quickchartButtonEl.disabled = true;  // To prevent multiple clicks.\n",
              "          quickchartButtonEl.classList.add('colab-df-spinner');\n",
              "          try {\n",
              "            const charts = await google.colab.kernel.invokeFunction(\n",
              "                'suggestCharts', [key], {});\n",
              "          } catch (error) {\n",
              "            console.error('Error during call to suggestCharts:', error);\n",
              "          }\n",
              "          quickchartButtonEl.classList.remove('colab-df-spinner');\n",
              "          quickchartButtonEl.classList.add('colab-df-quickchart-complete');\n",
              "        }\n",
              "        (() => {\n",
              "          let quickchartButtonEl =\n",
              "            document.querySelector('#df-cd07aadb-1416-48ad-9952-d41bf0c9b883 button');\n",
              "          quickchartButtonEl.style.display =\n",
              "            google.colab.kernel.accessAllowed ? 'block' : 'none';\n",
              "        })();\n",
              "      </script>\n",
              "    </div>\n",
              "\n",
              "    </div>\n",
              "  </div>\n"
            ],
            "application/vnd.google.colaboratory.intrinsic+json": {
              "type": "dataframe",
              "variable_name": "prediction_df"
            }
          },
          "metadata": {},
          "execution_count": 27
        }
      ]
    },
    {
      "cell_type": "markdown",
      "source": [
        "###Exportando el archivo"
      ],
      "metadata": {
        "id": "5U32hy8TecVW"
      }
    },
    {
      "cell_type": "code",
      "source": [
        "prediction_df.to_csv(\"submission.csv\")"
      ],
      "metadata": {
        "id": "Khg27SncefLN"
      },
      "execution_count": null,
      "outputs": []
    }
  ]
}